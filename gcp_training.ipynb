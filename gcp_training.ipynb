{
 "cells": [
  {
   "cell_type": "markdown",
   "source": [
    "Unzip"
   ],
   "metadata": {
    "collapsed": false
   }
  },
  {
   "cell_type": "code",
   "execution_count": 1,
   "outputs": [
    {
     "name": "stdout",
     "output_type": "stream",
     "text": [
      "Python 3.10.6\r\n"
     ]
    }
   ],
   "source": [
    "!unzip FleetRL-master.zip"
   ],
   "metadata": {
    "collapsed": false,
    "ExecuteTime": {
     "start_time": "2023-06-15T00:08:37.255866Z",
     "end_time": "2023-06-15T00:08:37.349442Z"
    }
   }
  },
  {
   "cell_type": "code",
   "execution_count": null,
   "outputs": [],
   "source": [
    "%cd FleetRL\n",
    "%pip install --upgrade pip setuptools wheel"
   ],
   "metadata": {
    "collapsed": false
   }
  },
  {
   "cell_type": "code",
   "execution_count": null,
   "outputs": [],
   "source": [
    "%pip install -r requirements.txt"
   ],
   "metadata": {
    "collapsed": false
   }
  },
  {
   "cell_type": "code",
   "execution_count": 2,
   "outputs": [],
   "source": [
    "from FleetRL.fleet_env.fleet_environment import FleetEnv\n",
    "import time\n"
   ],
   "metadata": {
    "collapsed": false,
    "ExecuteTime": {
     "start_time": "2023-06-15T00:10:22.338270Z",
     "end_time": "2023-06-15T00:10:23.183254Z"
    }
   }
  },
  {
   "cell_type": "code",
   "execution_count": null,
   "outputs": [],
   "source": [
    "env_lmd = FleetEnv(schedule_name=\"lmd_sched_single.csv\", building_name=\"load_lmd.csv\", include_building=False, include_pv=False, static=True, deg_emp=False)\n",
    "\n",
    "env_ct = FleetEnv(schedule_name=\"ct_sched_single.csv\", building_name=\"load_ct.csv\", include_building=False, include_pv=False, static=True, deg_emp=False)\n",
    "\n",
    "env_ut = FleetEnv(schedule_name=\"ut_sched_single.csv\", building_name=\"load_ut.csv\", include_building=False, include_pv=False, static=True, deg_emp=False)\n",
    "\n",
    "# difficulty could also be increased via the reward function"
   ],
   "metadata": {
    "collapsed": false
   }
  },
  {
   "cell_type": "code",
   "execution_count": null,
   "outputs": [],
   "source": [
    "time_now = int(time.time())\n",
    "trained_agents_lmd = f\"./trained/last_mile_delivery/TD3-{time_now}\"\n",
    "logs_lmd = f\"./logs/last_mile_delivery/TD3-{time_now}\"\n",
    "trained_agents_ct = f\"./trained/caretaker/TD3-{time_now}\"\n",
    "logs_ct = f\"./logs/caretaker/TD3-{time_now}\"\n",
    "trained_agents_ut = f\"./trained/utility/TD3-{time_now}\"\n",
    "logs_ut = f\"./logs/utility/TD3-{time_now}\""
   ],
   "metadata": {
    "collapsed": false
   }
  }
 ],
 "metadata": {
  "kernelspec": {
   "display_name": "Python 3",
   "language": "python",
   "name": "python3"
  },
  "language_info": {
   "codemirror_mode": {
    "name": "ipython",
    "version": 2
   },
   "file_extension": ".py",
   "mimetype": "text/x-python",
   "name": "python",
   "nbconvert_exporter": "python",
   "pygments_lexer": "ipython2",
   "version": "2.7.6"
  }
 },
 "nbformat": 4,
 "nbformat_minor": 0
}
