{
 "cells": [
  {
   "cell_type": "code",
   "execution_count": null,
   "id": "801eea4f-512c-4a33-9592-9318caa7b821",
   "metadata": {
    "ExecuteTime": {
     "start_time": "2023-06-21T14:29:26.067601Z",
     "end_time": "2023-06-21T14:29:29.196902Z"
    }
   },
   "outputs": [],
   "source": [
    "import time\n",
    "import os\n",
    "\n",
    "import optuna\n",
    "from optuna.trial import Trial\n",
    "\n",
    "from stable_baselines3 import PPO\n",
    "from stable_baselines3.common.vec_env import DummyVecEnv, SubprocVecEnv, VecNormalize\n",
    "from stable_baselines3.common.env_util import make_vec_env\n",
    "from stable_baselines3.common.callbacks import BaseCallback, EvalCallback, ProgressBarCallback\n",
    "from stable_baselines3.common.logger import HParam\n",
    "from stable_baselines3.common.evaluation import evaluate_policy\n",
    "\n",
    "from FleetRL.fleet_env.fleet_environment import FleetEnv"
   ]
  },
  {
   "cell_type": "code",
   "execution_count": null,
   "id": "6186f18e-942e-4e77-8389-3aaaf5544c7f",
   "metadata": {
    "ExecuteTime": {
     "start_time": "2023-06-21T14:29:29.204630Z",
     "end_time": "2023-06-21T14:29:29.207053Z"
    }
   },
   "outputs": [],
   "source": [
    "run_name = \"ppo_full_vecnorm_clip5_hp_study_aux\""
   ]
  },
  {
   "cell_type": "code",
   "execution_count": null,
   "id": "e4827d2c-74bf-4423-94a4-969c475ad87d",
   "metadata": {
    "ExecuteTime": {
     "start_time": "2023-06-21T14:29:29.210317Z",
     "end_time": "2023-06-21T14:29:29.217287Z"
    }
   },
   "outputs": [],
   "source": [
    "time_now = int(time.time())\n",
    "trained_agents_dir = f\"./trained/vec_ppo-{time_now}-{run_name}\"\n",
    "logs_dir = f\"./logs/vec_ppo-{time_now}-{run_name}\"\n",
    "\n",
    "if not os.path.exists(trained_agents_dir):\n",
    "    os.makedirs(trained_agents_dir)\n",
    "\n",
    "if not os.path.exists(logs_dir):\n",
    "    os.makedirs(logs_dir)"
   ]
  },
  {
   "cell_type": "code",
   "execution_count": null,
   "id": "e8622bee-2c78-4f91-b474-5b0ce3f1d9b4",
   "metadata": {
    "ExecuteTime": {
     "start_time": "2023-06-21T14:29:29.220387Z",
     "end_time": "2023-06-21T14:29:33.893169Z"
    }
   },
   "outputs": [],
   "source": [
    "n_cpu = 4\n",
    "train_vec_env = make_vec_env(FleetEnv,\n",
    "                             n_envs=n_cpu,\n",
    "                             vec_env_cls=SubprocVecEnv,\n",
    "                             env_kwargs={\n",
    "                                 \"schedule_name\": \"lmd_sched_single.csv\",\n",
    "                                 \"building_name\": \"load_lmd.csv\",\n",
    "                                 \"include_building\": True,\n",
    "                                 \"include_pv\": True,\n",
    "                                 \"time_picker\": \"random\",\n",
    "                                 \"deg_emp\": False,\n",
    "                                 \"include_price\": True,\n",
    "                                 \"ignore_price_reward\": False,\n",
    "                                 \"ignore_invalid_penalty\": False,\n",
    "                                 \"ignore_overcharging_penalty\": False,\n",
    "                                 \"ignore_overloading_penalty\": False,\n",
    "                                 \"episode_length\": 48,\n",
    "                                 \"normalize_in_env\": False,\n",
    "                                 \"verbose\": 0,\n",
    "                                 \"aux\": True,\n",
    "                                 \"use_case\": \"lmd\"\n",
    "                             })"
   ]
  },
  {
   "cell_type": "code",
   "execution_count": null,
   "id": "c9310e1c-b364-409b-9cb2-c1fab489108b",
   "metadata": {
    "ExecuteTime": {
     "start_time": "2023-06-21T14:29:33.882484Z",
     "end_time": "2023-06-21T14:29:33.893576Z"
    }
   },
   "outputs": [],
   "source": [
    "vec_norm_train_env = VecNormalize(venv=train_vec_env,\n",
    "                                  training=True,\n",
    "                                  norm_obs=True,\n",
    "                                  norm_reward=True,\n",
    "                                  clip_reward=10.0)"
   ]
  },
  {
   "cell_type": "code",
   "execution_count": null,
   "outputs": [],
   "source": [
    "eval_vec_env = make_vec_env(FleetEnv,\n",
    "                             n_envs=1,\n",
    "                             vec_env_cls=SubprocVecEnv,\n",
    "                             env_kwargs={\n",
    "                                 \"schedule_name\": \"lmd_sched_single.csv\",\n",
    "                                 \"building_name\": \"load_lmd.csv\",\n",
    "                                 \"include_building\": True,\n",
    "                                 \"include_pv\": True,\n",
    "                                 \"time_picker\": \"eval\",\n",
    "                                 \"deg_emp\": False,\n",
    "                                 \"include_price\": True,\n",
    "                                 \"ignore_price_reward\": False,\n",
    "                                 \"ignore_invalid_penalty\": False,\n",
    "                                 \"ignore_overcharging_penalty\": False,\n",
    "                                 \"ignore_overloading_penalty\": False,\n",
    "                                 \"episode_length\": 48,\n",
    "                                 \"normalize_in_env\": False,\n",
    "                                 \"verbose\": 0,\n",
    "                                 \"aux\": True,\n",
    "                                 \"use_case\": \"lmd\"\n",
    "                             })"
   ],
   "metadata": {
    "collapsed": false,
    "ExecuteTime": {
     "start_time": "2023-06-21T14:29:33.887859Z",
     "end_time": "2023-06-21T14:29:37.847483Z"
    }
   }
  },
  {
   "cell_type": "code",
   "execution_count": null,
   "outputs": [],
   "source": [
    "vec_norm_eval_env = VecNormalize(venv=eval_vec_env,\n",
    "                                 training=True,\n",
    "                                 norm_obs=True,\n",
    "                                 norm_reward=True,\n",
    "                                 clip_reward=10.0)"
   ],
   "metadata": {
    "collapsed": false,
    "ExecuteTime": {
     "start_time": "2023-06-21T14:29:37.840621Z",
     "end_time": "2023-06-21T14:29:37.847752Z"
    }
   }
  },
  {
   "cell_type": "code",
   "execution_count": null,
   "outputs": [],
   "source": [
    "class HyperParamCallback(BaseCallback):\n",
    "    \"\"\"\n",
    "    Saves hyperparameters and metrics at start of training, logging to tensorboard\n",
    "    \"\"\"\n",
    "\n",
    "    def _on_training_start(self) -> None:\n",
    "        hparam_dict = {\n",
    "            \"algorithm\": self.model.__class__.__name__,\n",
    "            \"learning rate\": self.model.learning_rate,\n",
    "            \"gamma\": self.model.gamma,\n",
    "            \"gae lambda\": self.model.gae_lambda,\n",
    "            \"batch size\": self.model.batch_size,\n",
    "            \"ent_coef\": self.model.ent_coef,\n",
    "            \"vf_coef\": self.model.vf_coef,\n",
    "            \"max_grad_norm\": self.model.max_grad_norm,\n",
    "            \"n_steps\": self.model.n_steps\n",
    "        }\n",
    "\n",
    "        metric_dict = {\n",
    "            \"rollout/ep_len_mean\": 0,\n",
    "            \"train/value_loss\": 0.0\n",
    "        }\n",
    "\n",
    "        self.logger.record(\n",
    "            \"hparams\",\n",
    "            HParam(hparam_dict, metric_dict),\n",
    "            exclude=(\"stdout\", \"log\", \"json\", \"csv\")\n",
    "        )\n",
    "\n",
    "    def _on_step(self) -> bool:\n",
    "        return True\n"
   ],
   "metadata": {
    "collapsed": false,
    "ExecuteTime": {
     "start_time": "2023-06-21T14:29:37.845294Z",
     "end_time": "2023-06-21T14:29:37.869416Z"
    }
   }
  },
  {
   "cell_type": "code",
   "execution_count": null,
   "outputs": [],
   "source": [
    "hp_callback = HyperParamCallback()\n",
    "progress_bar_callback = ProgressBarCallback()"
   ],
   "metadata": {
    "collapsed": false,
    "ExecuteTime": {
     "start_time": "2023-06-21T14:29:37.854344Z",
     "end_time": "2023-06-21T14:29:37.869701Z"
    }
   }
  },
  {
   "cell_type": "code",
   "execution_count": null,
   "id": "5becf068-bc31-4b16-8b56-138aef22acfd",
   "metadata": {
    "ExecuteTime": {
     "start_time": "2023-06-21T14:29:37.871612Z",
     "end_time": "2023-06-21T14:29:37.894804Z"
    }
   },
   "outputs": [],
   "source": [
    "def objective(trial: Trial):\n",
    "    gamma = trial.suggest_categorical('gamma', [0.9, 0.91, 0.95, 0.97, 0.99])\n",
    "    learning_rate = trial.suggest_categorical('learning_rate', [1e-5, 5e-5, 8e-5, 1e-4, 5e-4, 8e-4, 1e-3, 3e-3, 5e-3, 1e-2, 3e-2, 5e-2, 1e-1])\n",
    "    batch_size = trial.suggest_categorical('batch_size', [32, 64, 128, 256, 512, 1024])\n",
    "    n_epochs = trial.suggest_int('n_epochs', 5, 50)\n",
    "    gae_lamba = trial.suggest_categorical('gae_lambda', [0.9, 0.92, 0.95, 0.97, 0.99])\n",
    "    clip_range = trial.suggest_categorical('clip_range', [0.1, 0.2, 0.3, 0.4, 0.5])\n",
    "    clip_range_vf = trial.suggest_categorical('clip_range_vf', [None, 0.1, 0.2, 0.3, 0.4, 0.5])\n",
    "    normalize_advantage = trial.suggest_categorical('normalize_advantage', [False, True])\n",
    "    ent_coef = trial.suggest_categorical('ent_coef', [0.0, 1e-6, 5e-6, 1e-5, 5e-5, 1e-4, 5e-4])\n",
    "    vf_coef = trial.suggest_categorical('vf_coef', [0.1, 0.2, 0.5, 0.6, 0.7])\n",
    "    max_grad_norm = trial.suggest_float('max_grad_norm', 0.3, 0.7)\n",
    "    n_steps = trial.suggest_categorical('n_steps', [128, 256, 512, 1024, 2048, 4096, 8192])\n",
    "    \n",
    "    model = PPO(policy=\"MlpPolicy\",\n",
    "                env=vec_norm_train_env,\n",
    "                verbose=0,\n",
    "                learning_rate=learning_rate,\n",
    "                gamma=gamma,\n",
    "                batch_size=batch_size,\n",
    "                tensorboard_log=\"./tb_log_hp\",\n",
    "                n_epochs=n_epochs,\n",
    "                gae_lambda=gae_lamba,\n",
    "                clip_range=clip_range,\n",
    "                clip_range_vf=clip_range_vf,\n",
    "                normalize_advantage=normalize_advantage,\n",
    "                ent_coef=ent_coef,\n",
    "                vf_coef=vf_coef,\n",
    "                max_grad_norm=max_grad_norm,\n",
    "                n_steps=n_steps\n",
    "                )\n",
    "\n",
    "    model.learn(50000, callback=hp_callback)\n",
    "\n",
    "    mean_reward, _ = evaluate_policy(model, env=vec_norm_eval_env, n_eval_episodes=1, deterministic=True)\n",
    "    return mean_reward\n"
   ]
  },
  {
   "cell_type": "code",
   "execution_count": null,
   "outputs": [],
   "source": [
    "study = optuna.create_study(direction='maximize')\n",
    "study.optimize(objective, n_trials=50)\n",
    "\n",
    "print(study.best_params)\n",
    "print(study.best_value)\n",
    "print(study.best_trial)"
   ],
   "metadata": {
    "collapsed": false,
    "ExecuteTime": {
     "start_time": "2023-06-21T14:16:26.228444Z",
     "end_time": "2023-06-21T14:16:57.250077Z"
    }
   }
  }
 ],
 "metadata": {
  "environment": {
   "kernel": "python3",
   "name": "common-cpu.m108",
   "type": "gcloud",
   "uri": "gcr.io/deeplearning-platform-release/base-cpu:m108"
  },
  "kernelspec": {
   "display_name": "Python 3",
   "language": "python",
   "name": "python3"
  },
  "language_info": {
   "codemirror_mode": {
    "name": "ipython",
    "version": 3
   },
   "file_extension": ".py",
   "mimetype": "text/x-python",
   "name": "python",
   "nbconvert_exporter": "python",
   "pygments_lexer": "ipython3",
   "version": "3.10.10"
  }
 },
 "nbformat": 4,
 "nbformat_minor": 5
}
