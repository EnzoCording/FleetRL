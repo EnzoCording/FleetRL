{
 "cells": [
  {
   "cell_type": "code",
   "execution_count": 1,
   "metadata": {
    "ExecuteTime": {
     "end_time": "2023-06-18T22:46:27.449177Z",
     "start_time": "2023-06-18T22:46:25.040277Z"
    },
    "tags": []
   },
   "outputs": [],
   "source": [
    "import numpy as np\n",
    "import time\n",
    "import os\n",
    "\n",
    "import FleetRL\n",
    "from FleetRL.fleet_env.fleet_environment import FleetEnv\n",
    "\n",
    "from stable_baselines3 import TD3\n",
    "from stable_baselines3.common.vec_env import VecNormalize, SubprocVecEnv\n",
    "from stable_baselines3.common.env_util import make_vec_env\n",
    "from stable_baselines3.common.evaluation import evaluate_policy\n",
    "from stable_baselines3.common.callbacks import EvalCallback, ProgressBarCallback, BaseCallback\n",
    "from stable_baselines3.common.logger import HParam\n",
    "\n",
    "from pink import PinkNoiseDist, PinkActionNoise"
   ]
  },
  {
   "cell_type": "code",
   "execution_count": 2,
   "metadata": {
    "ExecuteTime": {
     "end_time": "2023-06-18T21:16:43.248490Z",
     "start_time": "2023-06-18T21:16:43.242601Z"
    },
    "collapsed": false,
    "jupyter": {
     "outputs_hidden": false
    }
   },
   "outputs": [],
   "source": [
    "run_name = \"td3_full_vecnorm_clip5\"\n",
    "comment = run_name"
   ]
  },
  {
   "cell_type": "code",
   "execution_count": 3,
   "metadata": {
    "ExecuteTime": {
     "end_time": "2023-06-18T21:16:43.298801Z",
     "start_time": "2023-06-18T21:16:43.255700Z"
    },
    "collapsed": false,
    "jupyter": {
     "outputs_hidden": false
    }
   },
   "outputs": [],
   "source": [
    "time_now = int(time.time())\n",
    "trained_agents_dir = f\"./trained/vec_TD3-{time_now}-{run_name}\"\n",
    "logs_dir = f\"./logs/vec_TD3-{time_now}-{run_name}\"\n",
    "\n",
    "if not os.path.exists(trained_agents_dir):\n",
    "    os.makedirs(trained_agents_dir)\n",
    "\n",
    "if not os.path.exists(logs_dir):\n",
    "    os.makedirs(logs_dir)"
   ]
  },
  {
   "cell_type": "code",
   "execution_count": 4,
   "metadata": {
    "ExecuteTime": {
     "end_time": "2023-06-18T22:46:35.849875Z",
     "start_time": "2023-06-18T22:46:29.818869Z"
    },
    "collapsed": false,
    "jupyter": {
     "outputs_hidden": false
    }
   },
   "outputs": [],
   "source": [
    "n_cpu = 2\n",
    "train_vec_env = make_vec_env(FleetEnv,\n",
    "                             n_envs=n_cpu,\n",
    "                             vec_env_cls=SubprocVecEnv,\n",
    "                             env_kwargs={\n",
    "                                 \"schedule_name\": \"lmd_sched_single.csv\",\n",
    "                                 \"building_name\": \"load_lmd.csv\",\n",
    "                                 \"verbose\": 0,\n",
    "                                 \"aux\": True,\n",
    "                                 \"use_case\": \"lmd\",\n",
    "                                 \"include_building\": True,\n",
    "                                 \"include_pv\": True,\n",
    "                                 \"static_time_picker\": False,\n",
    "                                 \"deg_emp\": False,\n",
    "                                 \"include_price\": True,\n",
    "                                 \"ignore_price_reward\": False,\n",
    "                                 \"ignore_invalid_penalty\": False,\n",
    "                                 \"ignore_overcharging_penalty\": False,\n",
    "                                 \"ignore_overloading_penalty\": False,\n",
    "                                 \"episode_length\": 48,\n",
    "                                 \"normalize_in_env\": False\n",
    "                             })"
   ]
  },
  {
   "cell_type": "code",
   "execution_count": 5,
   "metadata": {
    "ExecuteTime": {
     "end_time": "2023-06-18T22:46:35.854925Z",
     "start_time": "2023-06-18T22:46:35.853414Z"
    },
    "collapsed": false,
    "jupyter": {
     "outputs_hidden": false
    }
   },
   "outputs": [],
   "source": [
    "train_norm_vec_env = VecNormalize(venv=train_vec_env, norm_obs=True, norm_reward=True, training=True, clip_reward=10.0)"
   ]
  },
  {
   "cell_type": "code",
   "execution_count": 6,
   "metadata": {
    "ExecuteTime": {
     "end_time": "2023-06-18T22:46:39.369517Z",
     "start_time": "2023-06-18T22:46:35.898496Z"
    },
    "collapsed": false,
    "jupyter": {
     "outputs_hidden": false
    }
   },
   "outputs": [],
   "source": [
    "eval_vec_env = make_vec_env(FleetEnv,\n",
    "                            n_envs=1,\n",
    "                            vec_env_cls=SubprocVecEnv,\n",
    "                            env_kwargs={\n",
    "                                \"schedule_name\": \"lmd_sched_single.csv\",\n",
    "                                \"building_name\": \"load_lmd.csv\",\n",
    "                                \"verbose\": 0,\n",
    "                                \"aux\": True,\n",
    "                                \"use_case\": \"lmd\",\n",
    "                                \"include_building\": True,\n",
    "                                \"include_pv\": True,\n",
    "                                \"eval_time_picker\": True,\n",
    "                                \"deg_emp\": False,\n",
    "                                \"include_price\": True,\n",
    "                                \"ignore_price_reward\": False,\n",
    "                                \"ignore_invalid_penalty\": False,\n",
    "                                \"ignore_overcharging_penalty\": False,\n",
    "                                \"ignore_overloading_penalty\": False,\n",
    "                                \"episode_length\": 48,\n",
    "                                \"normalize_in_env\": False\n",
    "                            })"
   ]
  },
  {
   "cell_type": "code",
   "execution_count": 7,
   "metadata": {
    "ExecuteTime": {
     "end_time": "2023-06-18T22:46:39.376182Z",
     "start_time": "2023-06-18T22:46:39.371022Z"
    },
    "collapsed": false,
    "jupyter": {
     "outputs_hidden": false
    }
   },
   "outputs": [],
   "source": [
    "eval_norm_vec_env = VecNormalize(venv=eval_vec_env,\n",
    "                                 norm_obs=True,\n",
    "                                 norm_reward=True,\n",
    "                                 training=True,\n",
    "                                 clip_reward=5)"
   ]
  },
  {
   "cell_type": "code",
   "execution_count": 8,
   "metadata": {
    "ExecuteTime": {
     "end_time": "2023-06-18T22:46:59.480927Z",
     "start_time": "2023-06-18T22:46:59.475386Z"
    },
    "collapsed": false,
    "jupyter": {
     "outputs_hidden": false
    }
   },
   "outputs": [],
   "source": [
    "eval_callback = EvalCallback(eval_env=eval_norm_vec_env,\n",
    "                             warn=True,\n",
    "                             verbose=1,\n",
    "                             deterministic=True,\n",
    "                             eval_freq=max(10000 // n_cpu, 1),\n",
    "                             n_eval_episodes=5,\n",
    "                             render=False,\n",
    "                             )"
   ]
  },
  {
   "cell_type": "code",
   "execution_count": null,
   "outputs": [],
   "source": [
    "class HyperParamCallback(BaseCallback):\n",
    "\n",
    "    \"\"\"\n",
    "    Saves hyperparameters and metrics at start of training, logging to tensorboard\n",
    "    \"\"\"\n",
    "\n",
    "    def _on_training_start(self) -> None:\n",
    "        hparam_dict = {\n",
    "            \"algorithm\": self.model.__class__.__name__,\n",
    "            \"learning rate\": self.model.learning_rate,\n",
    "            \"gamma\": self.model.gamma,\n",
    "            \"tau\": self.model.tau,\n",
    "            \"learning starts\": self.model.learning_starts,\n",
    "            \"batch size\": self.model.batch_size,\n",
    "            \"buffer size\": self.model.buffer_size,\n",
    "            \"policy_delay\": self.model.policy_delay,\n",
    "        }\n",
    "\n",
    "        metric_dict = {\n",
    "            \"rollout/ep_len_mean\": 0,\n",
    "            \"train/value_loss\": 0.0,\n",
    "        }\n",
    "\n",
    "        self.logger.record(\n",
    "            \"hparams\",\n",
    "            HParam(hparam_dict, metric_dict),\n",
    "            exclude=(\"stdout\", \"log\", \"json\", \"csv\")\n",
    "        )\n",
    "\n",
    "    def _on_step(self) -> bool:\n",
    "        return True\n"
   ],
   "metadata": {
    "collapsed": false
   }
  },
  {
   "cell_type": "code",
   "execution_count": null,
   "outputs": [],
   "source": [
    "hyperparameter_callback = HyperParamCallback()"
   ],
   "metadata": {
    "collapsed": false
   }
  },
  {
   "cell_type": "code",
   "execution_count": 9,
   "metadata": {
    "ExecuteTime": {
     "end_time": "2023-06-18T22:46:59.843009Z",
     "start_time": "2023-06-18T22:46:59.832197Z"
    },
    "collapsed": false,
    "jupyter": {
     "outputs_hidden": false
    }
   },
   "outputs": [],
   "source": [
    "n_actions = train_norm_vec_env.action_space.shape[-1]\n",
    "param_noise = None\n",
    "noise_scale = 0.2\n",
    "seq_len = 48 * 4\n",
    "action_noise = PinkActionNoise(noise_scale, seq_len, n_actions)"
   ]
  },
  {
   "cell_type": "code",
   "execution_count": 10,
   "metadata": {
    "ExecuteTime": {
     "end_time": "2023-06-18T22:47:00.416896Z",
     "start_time": "2023-06-18T22:47:00.378841Z"
    },
    "collapsed": false,
    "jupyter": {
     "outputs_hidden": false
    }
   },
   "outputs": [],
   "source": [
    "model = TD3(policy=\"MlpPolicy\",\n",
    "            env=train_norm_vec_env,\n",
    "            verbose=0,\n",
    "            train_freq=(4, \"step\"),\n",
    "            learning_rate=0.001,\n",
    "            learning_starts=20000,\n",
    "            gamma=0.97,\n",
    "            batch_size=100,\n",
    "            buffer_size=1000000,\n",
    "            tau=0.01,\n",
    "            tensorboard_log=\"./tb_log\",\n",
    "            action_noise=action_noise\n",
    "            )\n"
   ]
  },
  {
   "cell_type": "code",
   "execution_count": null,
   "metadata": {
    "ExecuteTime": {
     "end_time": "2023-06-18T22:46:41.189642Z",
     "start_time": "2023-06-18T22:46:40.190292Z"
    },
    "collapsed": false,
    "jupyter": {
     "outputs_hidden": false
    },
    "pycharm": {
     "is_executing": true
    }
   },
   "outputs": [
    {
     "name": "stdout",
     "output_type": "stream",
     "text": [
      "Eval num_timesteps=10000, episode_reward=-9.68 +/- 2.79\n",
      "Episode length: 192.00 +/- 0.00\n",
      "New best mean reward!\n",
      "Eval num_timesteps=20000, episode_reward=-7.69 +/- 2.55\n",
      "Episode length: 192.00 +/- 0.00\n",
      "New best mean reward!\n",
      "Eval num_timesteps=30000, episode_reward=-94.37 +/- 17.64\n",
      "Episode length: 192.00 +/- 0.00\n"
     ]
    }
   ],
   "source": [
    "saving_interval = 20000\n",
    "for i in range(1, 50):\n",
    "    model.learn(total_timesteps=saving_interval, \n",
    "                reset_num_timesteps=False, \n",
    "                tb_log_name=f\"TD3_{time_now}_{comment}\",\n",
    "                callback=[eval_callback, hyperparameter_callback])\n",
    "    \n",
    "    model.save(f\"{trained_agents_dir}/{saving_interval * i}\")\n",
    "\n",
    "    # Don't forget to save the VecNormalize statistics when saving the agent\n",
    "    log_dir = \"./tmp/vec_td3/\"\n",
    "    model.save(log_dir + f\"td3-fleet_{comment}\")\n",
    "    stats_path = os.path.join(log_dir, f\"vec_normalize-{comment}.pkl\")\n",
    "    train_norm_vec_env.save(stats_path)"
   ]
  },
  {
   "cell_type": "code",
   "execution_count": null,
   "metadata": {
    "ExecuteTime": {
     "end_time": "2023-06-18T21:16:55.520377Z",
     "start_time": "2023-06-18T21:16:43.212969Z"
    },
    "collapsed": false,
    "jupyter": {
     "outputs_hidden": false
    }
   },
   "outputs": [],
   "source": []
  }
 ],
 "metadata": {
  "environment": {
   "kernel": "python3",
   "name": "pytorch-gpu.1-13.m108",
   "type": "gcloud",
   "uri": "gcr.io/deeplearning-platform-release/pytorch-gpu.1-13:m108"
  },
  "kernelspec": {
   "display_name": "Python 3",
   "language": "python",
   "name": "python3"
  },
  "language_info": {
   "codemirror_mode": {
    "name": "ipython",
    "version": 3
   },
   "file_extension": ".py",
   "mimetype": "text/x-python",
   "name": "python",
   "nbconvert_exporter": "python",
   "pygments_lexer": "ipython3",
   "version": "3.10.10"
  }
 },
 "nbformat": 4,
 "nbformat_minor": 4
}
