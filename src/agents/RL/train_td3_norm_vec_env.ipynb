{
 "cells": [
  {
   "cell_type": "code",
   "execution_count": 3,
   "metadata": {
    "collapsed": true,
    "ExecuteTime": {
     "start_time": "2023-06-18T13:36:55.578745Z",
     "end_time": "2023-06-18T13:36:58.425992Z"
    }
   },
   "outputs": [],
   "source": [
    "import numpy as np\n",
    "import time\n",
    "import os\n",
    "\n",
    "import FleetRL\n",
    "from FleetRL.fleet_env.fleet_environment import FleetEnv\n",
    "\n",
    "from stable_baselines3 import TD3\n",
    "from stable_baselines3.common.vec_env import VecNormalize, SubprocVecEnv\n",
    "from stable_baselines3.common.env_util import make_vec_env\n",
    "from stable_baselines3.common.evaluation import evaluate_policy\n",
    "from stable_baselines3.common.callbacks import EvalCallback, ProgressBarCallback\n",
    "\n",
    "from pink import PinkNoiseDist, PinkActionNoise"
   ]
  },
  {
   "cell_type": "code",
   "execution_count": 4,
   "outputs": [],
   "source": [
    "run_name = \"td3_full_vecnorm_clip5\""
   ],
   "metadata": {
    "collapsed": false,
    "ExecuteTime": {
     "start_time": "2023-06-18T13:36:58.429017Z",
     "end_time": "2023-06-18T13:36:58.432004Z"
    }
   }
  },
  {
   "cell_type": "code",
   "execution_count": 5,
   "outputs": [],
   "source": [
    "time_now = int(time.time())\n",
    "trained_agents_dir = f\"./trained/vec_TD3-{time_now}-{run_name}\"\n",
    "logs_dir = f\"./logs/vec_TD3-{time_now}-{run_name}\"\n",
    "\n",
    "if not os.path.exists(trained_agents_dir):\n",
    "    os.makedirs(trained_agents_dir)\n",
    "\n",
    "if not os.path.exists(logs_dir):\n",
    "    os.makedirs(logs_dir)"
   ],
   "metadata": {
    "collapsed": false,
    "ExecuteTime": {
     "start_time": "2023-06-18T13:36:58.939573Z",
     "end_time": "2023-06-18T13:36:58.944560Z"
    }
   }
  },
  {
   "cell_type": "code",
   "execution_count": 6,
   "outputs": [],
   "source": [
    "n_cpu = 4\n",
    "train_vec_env = make_vec_env(FleetEnv,\n",
    "                             n_envs=n_cpu,\n",
    "                             vec_env_cls=SubprocVecEnv,\n",
    "                             env_kwargs={\n",
    "                                 \"schedule_name\": \"lmd_sched_single.csv\",\n",
    "                                 \"building_name\": \"load_lmd.csv\",\n",
    "                                 \"include_building\": True,\n",
    "                                 \"include_pv\": True,\n",
    "                                 \"static_time_picker\": False,\n",
    "                                 \"deg_emp\": False,\n",
    "                                 \"include_price\": True,\n",
    "                                 \"ignore_price_reward\": False,\n",
    "                                 \"ignore_invalid_penalty\": False,\n",
    "                                 \"ignore_overcharging_penalty\": False,\n",
    "                                 \"ignore_overloading_penalty\": False,\n",
    "                                 \"episode_length\": 48,\n",
    "                                 \"normalize_in_env\": False,\n",
    "                                 \"verbose\": 0\n",
    "                             })"
   ],
   "metadata": {
    "collapsed": false,
    "ExecuteTime": {
     "start_time": "2023-06-18T13:36:59.527595Z",
     "end_time": "2023-06-18T13:37:04.972192Z"
    }
   }
  },
  {
   "cell_type": "code",
   "execution_count": 7,
   "outputs": [],
   "source": [
    "train_norm_vec_env = VecNormalize(venv=train_vec_env, norm_obs=True, norm_reward=True, training=True, clip_reward=5)"
   ],
   "metadata": {
    "collapsed": false,
    "ExecuteTime": {
     "start_time": "2023-06-18T13:37:04.976280Z",
     "end_time": "2023-06-18T13:37:05.018521Z"
    }
   }
  },
  {
   "cell_type": "code",
   "execution_count": 8,
   "outputs": [],
   "source": [
    "eval_vec_env = make_vec_env(FleetEnv,\n",
    "                            n_envs=1,\n",
    "                            vec_env_cls=SubprocVecEnv,\n",
    "                            env_kwargs={\n",
    "                                \"schedule_name\": \"lmd_sched_single.csv\",\n",
    "                                \"building_name\": \"load_lmd.csv\",\n",
    "                                \"include_building\": True,\n",
    "                                \"include_pv\": True,\n",
    "                                \"static_time_picker\": False,\n",
    "                                \"deg_emp\": False,\n",
    "                                \"include_price\": True,\n",
    "                                \"ignore_price_reward\": False,\n",
    "                                \"ignore_invalid_penalty\": False,\n",
    "                                \"ignore_overcharging_penalty\": False,\n",
    "                                \"ignore_overloading_penalty\": False,\n",
    "                                \"episode_length\": 48,\n",
    "                                \"normalize_in_env\": False,\n",
    "                                \"verbose\": 1\n",
    "                            })"
   ],
   "metadata": {
    "collapsed": false,
    "ExecuteTime": {
     "start_time": "2023-06-18T13:37:05.018381Z",
     "end_time": "2023-06-18T13:37:09.085830Z"
    }
   }
  },
  {
   "cell_type": "code",
   "execution_count": 9,
   "outputs": [],
   "source": [
    "eval_norm_vec_env = VecNormalize(venv=eval_vec_env,\n",
    "                                 norm_obs=True,\n",
    "                                 norm_reward=True,\n",
    "                                 training=True,\n",
    "                                 clip_reward=5)"
   ],
   "metadata": {
    "collapsed": false,
    "ExecuteTime": {
     "start_time": "2023-06-18T13:37:09.087187Z",
     "end_time": "2023-06-18T13:37:09.093316Z"
    }
   }
  },
  {
   "cell_type": "code",
   "execution_count": 10,
   "outputs": [],
   "source": [
    "eval_callback = EvalCallback(eval_env=eval_norm_vec_env,\n",
    "                             warn=True,\n",
    "                             verbose=1,\n",
    "                             deterministic=True,\n",
    "                             eval_freq=max(5000 // n_cpu, 1),\n",
    "                             n_eval_episodes=5,\n",
    "                             render=False,\n",
    "                             )"
   ],
   "metadata": {
    "collapsed": false,
    "ExecuteTime": {
     "start_time": "2023-06-18T13:37:09.094198Z",
     "end_time": "2023-06-18T13:37:09.114842Z"
    }
   }
  },
  {
   "cell_type": "code",
   "execution_count": 11,
   "outputs": [],
   "source": [
    "n_actions = train_norm_vec_env.action_space.shape[-1]\n",
    "param_noise = None\n",
    "noise_scale = 0.3\n",
    "seq_len = 48 * 4\n",
    "action_noise = PinkActionNoise(noise_scale, seq_len, n_actions)"
   ],
   "metadata": {
    "collapsed": false,
    "ExecuteTime": {
     "start_time": "2023-06-18T13:37:09.109639Z",
     "end_time": "2023-06-18T13:37:09.115271Z"
    }
   }
  },
  {
   "cell_type": "code",
   "execution_count": 12,
   "outputs": [],
   "source": [
    "model = TD3(policy=\"MlpPolicy\",\n",
    "            env=train_norm_vec_env,\n",
    "            verbose=0,\n",
    "            train_freq=(1, \"step\"),\n",
    "            learning_rate=0.005,\n",
    "            learning_starts=20000,\n",
    "            gamma=0.99,\n",
    "            batch_size=128,\n",
    "            buffer_size=500000,\n",
    "            tensorboard_log=\"./tb_log\",\n",
    "            action_noise=action_noise\n",
    "            )\n"
   ],
   "metadata": {
    "collapsed": false,
    "ExecuteTime": {
     "start_time": "2023-06-18T13:37:09.117658Z",
     "end_time": "2023-06-18T13:37:09.254576Z"
    }
   }
  },
  {
   "cell_type": "code",
   "execution_count": 18,
   "outputs": [
    {
     "data": {
      "text/plain": "Box([  0.         0.       -83.94     -83.94     -83.94     -83.94\n -83.94     -83.94     -83.94     -83.94     -83.94     -83.94\n -83.94     -83.94     -83.94     -83.94     -83.94     -83.94\n -83.94     -83.94     -83.94     -83.94     -83.94     -83.94\n -83.94     -83.94     -83.94     -83.94     -83.94     -83.94\n -83.94     -83.94     -83.94     -83.94      13.977635  13.977635\n  13.977635  13.977635  13.977635  13.977635  13.977635  13.977635\n  13.977635  13.977635  13.977635  13.977635  13.977635  13.977635\n  13.977635  13.977635   0.         0.         0.         0.\n   0.         0.         0.         0.         0.         0.\n   0.         0.         0.         0.         0.         0.      ], [  1.       41.75    200.04    200.04    200.04    200.04    200.04\n 200.04    200.04    200.04    200.04    200.04    200.04    200.04\n 200.04    200.04    200.04    200.04    200.04    200.04    200.04\n 200.04    200.04    200.04    200.04    200.04    200.04    200.04\n 200.04    200.04    200.04    200.04    200.04    200.04    189.48721\n 189.48721 189.48721 189.48721 189.48721 189.48721 189.48721 189.48721\n 189.48721 189.48721 189.48721 189.48721 189.48721 189.48721 189.48721\n 189.48721  63.6125   63.6125   63.6125   63.6125   63.6125   63.6125\n  63.6125   63.6125   63.6125   63.6125   63.6125   63.6125   63.6125\n  63.6125   63.6125   63.6125 ], (66,), float32)"
     },
     "execution_count": 18,
     "metadata": {},
     "output_type": "execute_result"
    }
   ],
   "source": [
    "train_norm_vec_env.observation_space"
   ],
   "metadata": {
    "collapsed": false,
    "ExecuteTime": {
     "start_time": "2023-06-18T13:38:51.808699Z",
     "end_time": "2023-06-18T13:38:51.850953Z"
    }
   }
  },
  {
   "cell_type": "code",
   "execution_count": 13,
   "outputs": [
    {
     "ename": "ValueError",
     "evalue": "operands could not be broadcast together with shapes (21,) (66,) ",
     "output_type": "error",
     "traceback": [
      "\u001B[0;31m---------------------------------------------------------------------------\u001B[0m",
      "\u001B[0;31mValueError\u001B[0m                                Traceback (most recent call last)",
      "Cell \u001B[0;32mIn[13], line 1\u001B[0m\n\u001B[0;32m----> 1\u001B[0m \u001B[43mmodel\u001B[49m\u001B[38;5;241;43m.\u001B[39;49m\u001B[43mlearn\u001B[49m\u001B[43m(\u001B[49m\u001B[43mtotal_timesteps\u001B[49m\u001B[38;5;241;43m=\u001B[39;49m\u001B[38;5;241;43m100\u001B[39;49m\u001B[43m,\u001B[49m\u001B[43m \u001B[49m\u001B[43mcallback\u001B[49m\u001B[38;5;241;43m=\u001B[39;49m\u001B[43meval_callback\u001B[49m\u001B[43m)\u001B[49m\n",
      "File \u001B[0;32m~/Desktop/FleetRL/venv/lib/python3.10/site-packages/stable_baselines3/td3/td3.py:222\u001B[0m, in \u001B[0;36mTD3.learn\u001B[0;34m(self, total_timesteps, callback, log_interval, tb_log_name, reset_num_timesteps, progress_bar)\u001B[0m\n\u001B[1;32m    213\u001B[0m \u001B[38;5;28;01mdef\u001B[39;00m \u001B[38;5;21mlearn\u001B[39m(\n\u001B[1;32m    214\u001B[0m     \u001B[38;5;28mself\u001B[39m: SelfTD3,\n\u001B[1;32m    215\u001B[0m     total_timesteps: \u001B[38;5;28mint\u001B[39m,\n\u001B[0;32m   (...)\u001B[0m\n\u001B[1;32m    220\u001B[0m     progress_bar: \u001B[38;5;28mbool\u001B[39m \u001B[38;5;241m=\u001B[39m \u001B[38;5;28;01mFalse\u001B[39;00m,\n\u001B[1;32m    221\u001B[0m ) \u001B[38;5;241m-\u001B[39m\u001B[38;5;241m>\u001B[39m SelfTD3:\n\u001B[0;32m--> 222\u001B[0m     \u001B[38;5;28;01mreturn\u001B[39;00m \u001B[38;5;28;43msuper\u001B[39;49m\u001B[43m(\u001B[49m\u001B[43m)\u001B[49m\u001B[38;5;241;43m.\u001B[39;49m\u001B[43mlearn\u001B[49m\u001B[43m(\u001B[49m\n\u001B[1;32m    223\u001B[0m \u001B[43m        \u001B[49m\u001B[43mtotal_timesteps\u001B[49m\u001B[38;5;241;43m=\u001B[39;49m\u001B[43mtotal_timesteps\u001B[49m\u001B[43m,\u001B[49m\n\u001B[1;32m    224\u001B[0m \u001B[43m        \u001B[49m\u001B[43mcallback\u001B[49m\u001B[38;5;241;43m=\u001B[39;49m\u001B[43mcallback\u001B[49m\u001B[43m,\u001B[49m\n\u001B[1;32m    225\u001B[0m \u001B[43m        \u001B[49m\u001B[43mlog_interval\u001B[49m\u001B[38;5;241;43m=\u001B[39;49m\u001B[43mlog_interval\u001B[49m\u001B[43m,\u001B[49m\n\u001B[1;32m    226\u001B[0m \u001B[43m        \u001B[49m\u001B[43mtb_log_name\u001B[49m\u001B[38;5;241;43m=\u001B[39;49m\u001B[43mtb_log_name\u001B[49m\u001B[43m,\u001B[49m\n\u001B[1;32m    227\u001B[0m \u001B[43m        \u001B[49m\u001B[43mreset_num_timesteps\u001B[49m\u001B[38;5;241;43m=\u001B[39;49m\u001B[43mreset_num_timesteps\u001B[49m\u001B[43m,\u001B[49m\n\u001B[1;32m    228\u001B[0m \u001B[43m        \u001B[49m\u001B[43mprogress_bar\u001B[49m\u001B[38;5;241;43m=\u001B[39;49m\u001B[43mprogress_bar\u001B[49m\u001B[43m,\u001B[49m\n\u001B[1;32m    229\u001B[0m \u001B[43m    \u001B[49m\u001B[43m)\u001B[49m\n",
      "File \u001B[0;32m~/Desktop/FleetRL/venv/lib/python3.10/site-packages/stable_baselines3/common/off_policy_algorithm.py:301\u001B[0m, in \u001B[0;36mOffPolicyAlgorithm.learn\u001B[0;34m(self, total_timesteps, callback, log_interval, tb_log_name, reset_num_timesteps, progress_bar)\u001B[0m\n\u001B[1;32m    292\u001B[0m \u001B[38;5;28;01mdef\u001B[39;00m \u001B[38;5;21mlearn\u001B[39m(\n\u001B[1;32m    293\u001B[0m     \u001B[38;5;28mself\u001B[39m: SelfOffPolicyAlgorithm,\n\u001B[1;32m    294\u001B[0m     total_timesteps: \u001B[38;5;28mint\u001B[39m,\n\u001B[0;32m   (...)\u001B[0m\n\u001B[1;32m    299\u001B[0m     progress_bar: \u001B[38;5;28mbool\u001B[39m \u001B[38;5;241m=\u001B[39m \u001B[38;5;28;01mFalse\u001B[39;00m,\n\u001B[1;32m    300\u001B[0m ) \u001B[38;5;241m-\u001B[39m\u001B[38;5;241m>\u001B[39m SelfOffPolicyAlgorithm:\n\u001B[0;32m--> 301\u001B[0m     total_timesteps, callback \u001B[38;5;241m=\u001B[39m \u001B[38;5;28;43mself\u001B[39;49m\u001B[38;5;241;43m.\u001B[39;49m\u001B[43m_setup_learn\u001B[49m\u001B[43m(\u001B[49m\n\u001B[1;32m    302\u001B[0m \u001B[43m        \u001B[49m\u001B[43mtotal_timesteps\u001B[49m\u001B[43m,\u001B[49m\n\u001B[1;32m    303\u001B[0m \u001B[43m        \u001B[49m\u001B[43mcallback\u001B[49m\u001B[43m,\u001B[49m\n\u001B[1;32m    304\u001B[0m \u001B[43m        \u001B[49m\u001B[43mreset_num_timesteps\u001B[49m\u001B[43m,\u001B[49m\n\u001B[1;32m    305\u001B[0m \u001B[43m        \u001B[49m\u001B[43mtb_log_name\u001B[49m\u001B[43m,\u001B[49m\n\u001B[1;32m    306\u001B[0m \u001B[43m        \u001B[49m\u001B[43mprogress_bar\u001B[49m\u001B[43m,\u001B[49m\n\u001B[1;32m    307\u001B[0m \u001B[43m    \u001B[49m\u001B[43m)\u001B[49m\n\u001B[1;32m    309\u001B[0m     callback\u001B[38;5;241m.\u001B[39mon_training_start(\u001B[38;5;28mlocals\u001B[39m(), \u001B[38;5;28mglobals\u001B[39m())\n\u001B[1;32m    311\u001B[0m     \u001B[38;5;28;01mwhile\u001B[39;00m \u001B[38;5;28mself\u001B[39m\u001B[38;5;241m.\u001B[39mnum_timesteps \u001B[38;5;241m<\u001B[39m total_timesteps:\n",
      "File \u001B[0;32m~/Desktop/FleetRL/venv/lib/python3.10/site-packages/stable_baselines3/common/off_policy_algorithm.py:284\u001B[0m, in \u001B[0;36mOffPolicyAlgorithm._setup_learn\u001B[0;34m(self, total_timesteps, callback, reset_num_timesteps, tb_log_name, progress_bar)\u001B[0m\n\u001B[1;32m    281\u001B[0m     pos \u001B[38;5;241m=\u001B[39m (replay_buffer\u001B[38;5;241m.\u001B[39mpos \u001B[38;5;241m-\u001B[39m \u001B[38;5;241m1\u001B[39m) \u001B[38;5;241m%\u001B[39m replay_buffer\u001B[38;5;241m.\u001B[39mbuffer_size\n\u001B[1;32m    282\u001B[0m     replay_buffer\u001B[38;5;241m.\u001B[39mdones[pos] \u001B[38;5;241m=\u001B[39m \u001B[38;5;28;01mTrue\u001B[39;00m\n\u001B[0;32m--> 284\u001B[0m \u001B[38;5;28;01mreturn\u001B[39;00m \u001B[38;5;28;43msuper\u001B[39;49m\u001B[43m(\u001B[49m\u001B[43m)\u001B[49m\u001B[38;5;241;43m.\u001B[39;49m\u001B[43m_setup_learn\u001B[49m\u001B[43m(\u001B[49m\n\u001B[1;32m    285\u001B[0m \u001B[43m    \u001B[49m\u001B[43mtotal_timesteps\u001B[49m\u001B[43m,\u001B[49m\n\u001B[1;32m    286\u001B[0m \u001B[43m    \u001B[49m\u001B[43mcallback\u001B[49m\u001B[43m,\u001B[49m\n\u001B[1;32m    287\u001B[0m \u001B[43m    \u001B[49m\u001B[43mreset_num_timesteps\u001B[49m\u001B[43m,\u001B[49m\n\u001B[1;32m    288\u001B[0m \u001B[43m    \u001B[49m\u001B[43mtb_log_name\u001B[49m\u001B[43m,\u001B[49m\n\u001B[1;32m    289\u001B[0m \u001B[43m    \u001B[49m\u001B[43mprogress_bar\u001B[49m\u001B[43m,\u001B[49m\n\u001B[1;32m    290\u001B[0m \u001B[43m\u001B[49m\u001B[43m)\u001B[49m\n",
      "File \u001B[0;32m~/Desktop/FleetRL/venv/lib/python3.10/site-packages/stable_baselines3/common/base_class.py:424\u001B[0m, in \u001B[0;36mBaseAlgorithm._setup_learn\u001B[0;34m(self, total_timesteps, callback, reset_num_timesteps, tb_log_name, progress_bar)\u001B[0m\n\u001B[1;32m    422\u001B[0m \u001B[38;5;28;01massert\u001B[39;00m \u001B[38;5;28mself\u001B[39m\u001B[38;5;241m.\u001B[39menv \u001B[38;5;129;01mis\u001B[39;00m \u001B[38;5;129;01mnot\u001B[39;00m \u001B[38;5;28;01mNone\u001B[39;00m\n\u001B[1;32m    423\u001B[0m \u001B[38;5;66;03m# pytype: disable=annotation-type-mismatch\u001B[39;00m\n\u001B[0;32m--> 424\u001B[0m \u001B[38;5;28mself\u001B[39m\u001B[38;5;241m.\u001B[39m_last_obs \u001B[38;5;241m=\u001B[39m \u001B[38;5;28;43mself\u001B[39;49m\u001B[38;5;241;43m.\u001B[39;49m\u001B[43menv\u001B[49m\u001B[38;5;241;43m.\u001B[39;49m\u001B[43mreset\u001B[49m\u001B[43m(\u001B[49m\u001B[43m)\u001B[49m  \u001B[38;5;66;03m# type: ignore[assignment]\u001B[39;00m\n\u001B[1;32m    425\u001B[0m \u001B[38;5;66;03m# pytype: enable=annotation-type-mismatch\u001B[39;00m\n\u001B[1;32m    426\u001B[0m \u001B[38;5;28mself\u001B[39m\u001B[38;5;241m.\u001B[39m_last_episode_starts \u001B[38;5;241m=\u001B[39m np\u001B[38;5;241m.\u001B[39mones((\u001B[38;5;28mself\u001B[39m\u001B[38;5;241m.\u001B[39menv\u001B[38;5;241m.\u001B[39mnum_envs,), dtype\u001B[38;5;241m=\u001B[39m\u001B[38;5;28mbool\u001B[39m)\n",
      "File \u001B[0;32m~/Desktop/FleetRL/venv/lib/python3.10/site-packages/stable_baselines3/common/vec_env/vec_normalize.py:295\u001B[0m, in \u001B[0;36mVecNormalize.reset\u001B[0;34m(self)\u001B[0m\n\u001B[1;32m    293\u001B[0m             \u001B[38;5;28mself\u001B[39m\u001B[38;5;241m.\u001B[39mobs_rms[key]\u001B[38;5;241m.\u001B[39mupdate(obs[key])\n\u001B[1;32m    294\u001B[0m     \u001B[38;5;28;01melse\u001B[39;00m:\n\u001B[0;32m--> 295\u001B[0m         \u001B[38;5;28;43mself\u001B[39;49m\u001B[38;5;241;43m.\u001B[39;49m\u001B[43mobs_rms\u001B[49m\u001B[38;5;241;43m.\u001B[39;49m\u001B[43mupdate\u001B[49m\u001B[43m(\u001B[49m\u001B[43mobs\u001B[49m\u001B[43m)\u001B[49m\n\u001B[1;32m    296\u001B[0m \u001B[38;5;28;01mreturn\u001B[39;00m \u001B[38;5;28mself\u001B[39m\u001B[38;5;241m.\u001B[39mnormalize_obs(obs)\n",
      "File \u001B[0;32m~/Desktop/FleetRL/venv/lib/python3.10/site-packages/stable_baselines3/common/running_mean_std.py:41\u001B[0m, in \u001B[0;36mRunningMeanStd.update\u001B[0;34m(self, arr)\u001B[0m\n\u001B[1;32m     39\u001B[0m batch_var \u001B[38;5;241m=\u001B[39m np\u001B[38;5;241m.\u001B[39mvar(arr, axis\u001B[38;5;241m=\u001B[39m\u001B[38;5;241m0\u001B[39m)\n\u001B[1;32m     40\u001B[0m batch_count \u001B[38;5;241m=\u001B[39m arr\u001B[38;5;241m.\u001B[39mshape[\u001B[38;5;241m0\u001B[39m]\n\u001B[0;32m---> 41\u001B[0m \u001B[38;5;28;43mself\u001B[39;49m\u001B[38;5;241;43m.\u001B[39;49m\u001B[43mupdate_from_moments\u001B[49m\u001B[43m(\u001B[49m\u001B[43mbatch_mean\u001B[49m\u001B[43m,\u001B[49m\u001B[43m \u001B[49m\u001B[43mbatch_var\u001B[49m\u001B[43m,\u001B[49m\u001B[43m \u001B[49m\u001B[43mbatch_count\u001B[49m\u001B[43m)\u001B[49m\n",
      "File \u001B[0;32m~/Desktop/FleetRL/venv/lib/python3.10/site-packages/stable_baselines3/common/running_mean_std.py:44\u001B[0m, in \u001B[0;36mRunningMeanStd.update_from_moments\u001B[0;34m(self, batch_mean, batch_var, batch_count)\u001B[0m\n\u001B[1;32m     43\u001B[0m \u001B[38;5;28;01mdef\u001B[39;00m \u001B[38;5;21mupdate_from_moments\u001B[39m(\u001B[38;5;28mself\u001B[39m, batch_mean: np\u001B[38;5;241m.\u001B[39mndarray, batch_var: np\u001B[38;5;241m.\u001B[39mndarray, batch_count: \u001B[38;5;28mfloat\u001B[39m) \u001B[38;5;241m-\u001B[39m\u001B[38;5;241m>\u001B[39m \u001B[38;5;28;01mNone\u001B[39;00m:\n\u001B[0;32m---> 44\u001B[0m     delta \u001B[38;5;241m=\u001B[39m \u001B[43mbatch_mean\u001B[49m\u001B[43m \u001B[49m\u001B[38;5;241;43m-\u001B[39;49m\u001B[43m \u001B[49m\u001B[38;5;28;43mself\u001B[39;49m\u001B[38;5;241;43m.\u001B[39;49m\u001B[43mmean\u001B[49m\n\u001B[1;32m     45\u001B[0m     tot_count \u001B[38;5;241m=\u001B[39m \u001B[38;5;28mself\u001B[39m\u001B[38;5;241m.\u001B[39mcount \u001B[38;5;241m+\u001B[39m batch_count\n\u001B[1;32m     47\u001B[0m     new_mean \u001B[38;5;241m=\u001B[39m \u001B[38;5;28mself\u001B[39m\u001B[38;5;241m.\u001B[39mmean \u001B[38;5;241m+\u001B[39m delta \u001B[38;5;241m*\u001B[39m batch_count \u001B[38;5;241m/\u001B[39m tot_count\n",
      "\u001B[0;31mValueError\u001B[0m: operands could not be broadcast together with shapes (21,) (66,) "
     ]
    }
   ],
   "source": [
    "model.learn(total_timesteps=100, callback=eval_callback)"
   ],
   "metadata": {
    "collapsed": false,
    "ExecuteTime": {
     "start_time": "2023-06-18T13:32:14.855834Z",
     "end_time": "2023-06-18T13:33:20.823724Z"
    }
   }
  },
  {
   "cell_type": "code",
   "execution_count": null,
   "outputs": [],
   "source": [],
   "metadata": {
    "collapsed": false
   }
  }
 ],
 "metadata": {
  "kernelspec": {
   "display_name": "Python 3",
   "language": "python",
   "name": "python3"
  },
  "language_info": {
   "codemirror_mode": {
    "name": "ipython",
    "version": 2
   },
   "file_extension": ".py",
   "mimetype": "text/x-python",
   "name": "python",
   "nbconvert_exporter": "python",
   "pygments_lexer": "ipython2",
   "version": "2.7.6"
  }
 },
 "nbformat": 4,
 "nbformat_minor": 0
}
