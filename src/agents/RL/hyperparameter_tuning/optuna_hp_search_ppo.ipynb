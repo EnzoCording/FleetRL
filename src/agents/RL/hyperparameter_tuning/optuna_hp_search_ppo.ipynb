{
 "cells": [
  {
   "cell_type": "code",
   "execution_count": 1,
   "id": "801eea4f-512c-4a33-9592-9318caa7b821",
   "metadata": {},
   "outputs": [],
   "source": [
    "from optuna.trial import Trial\n",
    "import optuna\n",
    "from stable_baselines3.common.vec_env import DummyVecEnv, SubprocVecEnv, VecNormalize\n",
    "from stable_baselines3.common.env_util import make_vec_env\n",
    "from pink import PinkNoiseDist, PinkActionNoise\n",
    "import multiprocessing\n",
    "import FleetRL\n",
    "from FleetRL.fleet_env.fleet_environment import FleetEnv\n",
    "import optuna\n",
    "import gymnasium as gym\n",
    "from stable_baselines3 import PPO\n",
    "import FleetRL\n",
    "from stable_baselines3.common.evaluation import evaluate_policy\n",
    "import time\n",
    "import os"
   ]
  },
  {
   "cell_type": "code",
   "execution_count": 2,
   "id": "6186f18e-942e-4e77-8389-3aaaf5544c7f",
   "metadata": {},
   "outputs": [],
   "source": [
    "run_name = \"ppo_full_vecnorm_clip5_hp_study_aux\""
   ]
  },
  {
   "cell_type": "code",
   "execution_count": 3,
   "id": "e4827d2c-74bf-4423-94a4-969c475ad87d",
   "metadata": {},
   "outputs": [],
   "source": [
    "time_now = int(time.time())\n",
    "trained_agents_dir = f\"./trained/vec_ppo-{time_now}-{run_name}\"\n",
    "logs_dir = f\"./logs/vec_ppo-{time_now}-{run_name}\"\n",
    "\n",
    "if not os.path.exists(trained_agents_dir):\n",
    "    os.makedirs(trained_agents_dir)\n",
    "\n",
    "if not os.path.exists(logs_dir):\n",
    "    os.makedirs(logs_dir)"
   ]
  },
  {
   "cell_type": "code",
   "execution_count": 4,
   "id": "e8622bee-2c78-4f91-b474-5b0ce3f1d9b4",
   "metadata": {},
   "outputs": [],
   "source": [
    "n_cpu = 4\n",
    "train_vec_env = make_vec_env(FleetEnv,\n",
    "                             n_envs=n_cpu,\n",
    "                             vec_env_cls=SubprocVecEnv,\n",
    "                             env_kwargs={\n",
    "                                 \"schedule_name\": \"lmd_sched_single.csv\",\n",
    "                                 \"building_name\": \"load_lmd.csv\",\n",
    "                                 \"include_building\": True,\n",
    "                                 \"include_pv\": True,\n",
    "                                 \"static_time_picker\": False,\n",
    "                                 \"deg_emp\": False,\n",
    "                                 \"include_price\": True,\n",
    "                                 \"ignore_price_reward\": False,\n",
    "                                 \"ignore_invalid_penalty\": False,\n",
    "                                 \"ignore_overcharging_penalty\": False,\n",
    "                                 \"ignore_overloading_penalty\": False,\n",
    "                                 \"episode_length\": 48,\n",
    "                                 \"normalize_in_env\": False,\n",
    "                                 \"verbose\": 0,\n",
    "                                 \"aux\": True,\n",
    "                                 \"use_case\": \"lmd\"\n",
    "                             })"
   ]
  },
  {
   "cell_type": "code",
   "execution_count": 5,
   "id": "c9310e1c-b364-409b-9cb2-c1fab489108b",
   "metadata": {},
   "outputs": [],
   "source": [
    "vec_norm_train_env = VecNormalize(venv=train_vec_env, training=True, norm_obs=True, norm_reward=True)"
   ]
  },
  {
   "cell_type": "code",
   "execution_count": 6,
   "id": "dc6b9389-f11b-440a-8924-822f98180104",
   "metadata": {},
   "outputs": [],
   "source": [
    "n_actions = vec_norm_train_env.action_space.shape[-1]\n",
    "param_noise = None\n",
    "noise_scale = 0.3\n",
    "seq_len = 48 * 4\n",
    "action_noise = PinkActionNoise(noise_scale, seq_len, n_actions)"
   ]
  },
  {
   "cell_type": "code",
   "execution_count": null,
   "id": "5becf068-bc31-4b16-8b56-138aef22acfd",
   "metadata": {},
   "outputs": [
    {
     "name": "stderr",
     "output_type": "stream",
     "text": [
      "[I 2023-06-19 14:29:11,388] A new study created in memory with name: no-name-5d762c57-565a-44a5-a5f6-59751362998e\n",
      "[I 2023-06-19 14:44:44,264] Trial 0 finished with value: -11.6647562 and parameters: {'gamma': 0.91, 'learning_rate': 8e-05, 'batch_size': 32, 'n_epochs': 18, 'gae_lambda': 0.95, 'clip_range': 0.3, 'clip_range_vf': 0.2, 'normalize_advantage': True, 'ent_coef': 1e-05, 'vf_coef': 0.7, 'max_grad_norm': 0.5755110175519809, 'n_steps': 128}. Best is trial 0 with value: -11.6647562.\n",
      "[I 2023-06-19 15:00:46,471] Trial 1 finished with value: -13.155219800000001 and parameters: {'gamma': 0.95, 'learning_rate': 0.0001, 'batch_size': 128, 'n_epochs': 47, 'gae_lambda': 0.95, 'clip_range': 0.4, 'clip_range_vf': 0.2, 'normalize_advantage': False, 'ent_coef': 5e-06, 'vf_coef': 0.1, 'max_grad_norm': 0.3411990748696677, 'n_steps': 2048}. Best is trial 0 with value: -11.6647562.\n",
      "[I 2023-06-19 15:16:48,119] Trial 2 finished with value: -10.8012141 and parameters: {'gamma': 0.9, 'learning_rate': 0.0001, 'batch_size': 512, 'n_epochs': 19, 'gae_lambda': 0.95, 'clip_range': 0.3, 'clip_range_vf': 0.4, 'normalize_advantage': True, 'ent_coef': 1e-06, 'vf_coef': 0.1, 'max_grad_norm': 0.38054527350745176, 'n_steps': 4096}. Best is trial 2 with value: -10.8012141.\n",
      "[I 2023-06-19 15:30:06,938] Trial 3 finished with value: -14.561949000000002 and parameters: {'gamma': 0.99, 'learning_rate': 8e-05, 'batch_size': 512, 'n_epochs': 19, 'gae_lambda': 0.97, 'clip_range': 0.5, 'clip_range_vf': 0.1, 'normalize_advantage': True, 'ent_coef': 0.0, 'vf_coef': 0.5, 'max_grad_norm': 0.47327221267313635, 'n_steps': 1024}. Best is trial 2 with value: -10.8012141.\n",
      "[I 2023-06-19 15:43:58,676] Trial 4 finished with value: -15.409783600000003 and parameters: {'gamma': 0.97, 'learning_rate': 0.0005, 'batch_size': 32, 'n_epochs': 11, 'gae_lambda': 0.95, 'clip_range': 0.4, 'clip_range_vf': 0.1, 'normalize_advantage': False, 'ent_coef': 1e-05, 'vf_coef': 0.2, 'max_grad_norm': 0.5895150349918086, 'n_steps': 256}. Best is trial 2 with value: -10.8012141.\n",
      "[I 2023-06-19 16:02:01,009] Trial 5 finished with value: -17.5688862 and parameters: {'gamma': 0.91, 'learning_rate': 0.003, 'batch_size': 32, 'n_epochs': 12, 'gae_lambda': 0.92, 'clip_range': 0.4, 'clip_range_vf': None, 'normalize_advantage': False, 'ent_coef': 1e-06, 'vf_coef': 0.6, 'max_grad_norm': 0.5373159933981903, 'n_steps': 4096}. Best is trial 2 with value: -10.8012141.\n"
     ]
    }
   ],
   "source": [
    "def objective(trial: Trial):\n",
    "    env = vec_norm_train_env\n",
    "    gamma = trial.suggest_categorical('gamma', [0.9, 0.91, 0.95, 0.97, 0.99])\n",
    "    learning_rate = trial.suggest_categorical('learning_rate', [1e-5, 5e-5, 8e-5, 1e-4, 5e-4, 8e-4, 1e-3, 3e-3, 5e-3, 1e-2, 3e-2, 5e-2, 1e-1])\n",
    "    batch_size = trial.suggest_categorical('batch_size', [32, 64, 128, 256, 512, 1024])\n",
    "    n_epochs = trial.suggest_int('n_epochs', 5, 50)\n",
    "    gae_lamba = trial.suggest_categorical('gae_lambda', [0.9, 0.92, 0.95, 0.97, 0.99])\n",
    "    clip_range = trial.suggest_categorical('clip_range', [0.1, 0.2, 0.3, 0.4, 0.5])\n",
    "    clip_range_vf = trial.suggest_categorical('clip_range_vf', [None, 0.1, 0.2, 0.3, 0.4, 0.5])\n",
    "    normalize_advantage = trial.suggest_categorical('normalize_advantage', [False, True])\n",
    "    ent_coef = trial.suggest_categorical('ent_coef', [0.0, 1e-6, 5e-6, 1e-5, 5e-5, 1e-4, 5e-4])\n",
    "    vf_coef = trial.suggest_categorical('vf_coef', [0.1, 0.2, 0.5, 0.6, 0.7])\n",
    "    max_grad_norm = trial.suggest_float('max_grad_norm', 0.3, 0.7)\n",
    "    n_steps = trial.suggest_categorical('n_steps', [128, 256, 512, 1024, 2048, 4096, 8192])\n",
    "    \n",
    "    model = PPO(policy=\"MlpPolicy\",\n",
    "                env=vec_norm_train_env,\n",
    "                verbose=0,\n",
    "                learning_rate=learning_rate,\n",
    "                gamma=gamma,\n",
    "                batch_size=batch_size,\n",
    "                tensorboard_log=\"./tb_log\",\n",
    "                n_epochs=n_epochs,\n",
    "                gae_lambda=gae_lamba,\n",
    "                clip_range=clip_range,\n",
    "                clip_range_vf=clip_range_vf,\n",
    "                normalize_advantage=normalize_advantage,\n",
    "                ent_coef=ent_coef,\n",
    "                vf_coef=vf_coef,\n",
    "                max_grad_norm=max_grad_norm,\n",
    "                n_steps=n_steps\n",
    "                )\n",
    "\n",
    "    model.learn(50000)\n",
    "\n",
    "    mean_reward, _ = evaluate_policy(model, env, n_eval_episodes=10, deterministic=True)\n",
    "    return mean_reward\n",
    "\n",
    "study = optuna.create_study(direction='maximize')\n",
    "study.optimize(objective, n_trials=100)\n",
    "\n",
    "print(study.best_params)\n",
    "print(study.best_value)\n",
    "print(study.best_trial)\n"
   ]
  }
 ],
 "metadata": {
  "environment": {
   "kernel": "python3",
   "name": "common-cpu.m108",
   "type": "gcloud",
   "uri": "gcr.io/deeplearning-platform-release/base-cpu:m108"
  },
  "kernelspec": {
   "display_name": "Python 3",
   "language": "python",
   "name": "python3"
  },
  "language_info": {
   "codemirror_mode": {
    "name": "ipython",
    "version": 3
   },
   "file_extension": ".py",
   "mimetype": "text/x-python",
   "name": "python",
   "nbconvert_exporter": "python",
   "pygments_lexer": "ipython3",
   "version": "3.10.10"
  }
 },
 "nbformat": 4,
 "nbformat_minor": 5
}
