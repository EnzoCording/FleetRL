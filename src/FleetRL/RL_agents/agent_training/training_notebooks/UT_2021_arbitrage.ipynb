{
 "cells": [
  {
   "cell_type": "code",
   "execution_count": 1,
   "metadata": {
    "ExecuteTime": {
     "end_time": "2023-06-18T22:46:27.449177Z",
     "start_time": "2023-06-18T22:46:25.040277Z"
    },
    "tags": []
   },
   "outputs": [],
   "source": [
    "import numpy as np\n",
    "import time\n",
    "import os\n",
    "\n",
    "import FleetRL\n",
    "from FleetRL.fleet_env.fleet_environment import FleetEnv\n",
    "\n",
    "from stable_baselines3 import PPO\n",
    "from stable_baselines3.common.vec_env import VecNormalize, SubprocVecEnv\n",
    "from stable_baselines3.common.env_util import make_vec_env\n",
    "from stable_baselines3.common.evaluation import evaluate_policy\n",
    "from stable_baselines3.common.callbacks import EvalCallback, ProgressBarCallback, BaseCallback\n",
    "from stable_baselines3.common.logger import HParam\n",
    "\n",
    "from pink import PinkNoiseDist, PinkActionNoise"
   ]
  },
  {
   "cell_type": "code",
   "execution_count": 2,
   "metadata": {},
   "outputs": [
    {
     "name": "stdout",
     "output_type": "stream",
     "text": [
      "Python 3.10.11\n"
     ]
    }
   ],
   "source": [
    "!python --version"
   ]
  },
  {
   "cell_type": "code",
   "execution_count": 3,
   "metadata": {
    "ExecuteTime": {
     "end_time": "2023-06-18T21:16:43.248490Z",
     "start_time": "2023-06-18T21:16:43.242601Z"
    },
    "collapsed": false,
    "jupyter": {
     "outputs_hidden": false
    },
    "tags": []
   },
   "outputs": [],
   "source": [
    "run_name = \"UT_2021_arbitrage_PPO_mul4\"\n",
    "comment = run_name"
   ]
  },
  {
   "cell_type": "code",
   "execution_count": 4,
   "metadata": {
    "ExecuteTime": {
     "end_time": "2023-06-18T21:16:43.298801Z",
     "start_time": "2023-06-18T21:16:43.255700Z"
    },
    "collapsed": false,
    "jupyter": {
     "outputs_hidden": false
    },
    "tags": []
   },
   "outputs": [],
   "source": [
    "time_now = int(time.time())\n",
    "trained_agents_dir = f\"./trained/vec_PPO-{time_now}-{run_name}\"\n",
    "logs_dir = f\"./logs/vec_PPO-{time_now}-{run_name}\"\n",
    "\n",
    "if not os.path.exists(trained_agents_dir):\n",
    "    os.makedirs(trained_agents_dir)\n",
    "\n",
    "if not os.path.exists(logs_dir):\n",
    "    os.makedirs(logs_dir)"
   ]
  },
  {
   "cell_type": "code",
   "execution_count": 5,
   "metadata": {
    "ExecuteTime": {
     "end_time": "2023-06-18T22:46:35.849875Z",
     "start_time": "2023-06-18T22:46:29.818869Z"
    },
    "collapsed": false,
    "jupyter": {
     "outputs_hidden": false
    },
    "tags": []
   },
   "outputs": [],
   "source": [
    "env_args = {\"schedule_name\": \"ut_sched_single.csv\",\n",
    "            \"building_name\": \"load_ut.csv\",\n",
    "            \"price_name\": \"spot_2021_new.csv\",\n",
    "            \"tariff_name\": \"spot_2021_new_tariff.csv\",\n",
    "            \"use_case\": \"ut\",\n",
    "            \"verbose\": False,\n",
    "            \"time_picker\": \"random\",\n",
    "            \"episode_length\": 48,\n",
    "            \"calculate_degradation\": True,\n",
    "            \"log_data\": False,\n",
    "            \"normalize_in_env\": False,\n",
    "            \"aux\": True,\n",
    "            \"spot_markup\": 0,\n",
    "            \"spot_mul\": 1,\n",
    "            \"feed_in_ded\": 0\n",
    "            }\n",
    "\n",
    "n_cpu = 10\n",
    "train_vec_env = make_vec_env(FleetEnv,\n",
    "                             seed=40,\n",
    "                             n_envs=n_cpu,\n",
    "                             vec_env_cls=SubprocVecEnv,\n",
    "                             env_kwargs=env_args)"
   ]
  },
  {
   "cell_type": "code",
   "execution_count": 6,
   "metadata": {
    "ExecuteTime": {
     "end_time": "2023-06-18T22:46:35.854925Z",
     "start_time": "2023-06-18T22:46:35.853414Z"
    },
    "collapsed": false,
    "jupyter": {
     "outputs_hidden": false
    },
    "tags": []
   },
   "outputs": [],
   "source": [
    "train_norm_vec_env = VecNormalize(venv=train_vec_env, norm_obs=True, norm_reward=True, training=True, clip_reward=10.0)"
   ]
  },
  {
   "cell_type": "code",
   "execution_count": 7,
   "metadata": {
    "ExecuteTime": {
     "end_time": "2023-06-18T22:46:39.369517Z",
     "start_time": "2023-06-18T22:46:35.898496Z"
    },
    "collapsed": false,
    "jupyter": {
     "outputs_hidden": false
    },
    "tags": []
   },
   "outputs": [],
   "source": [
    "env_args = {\"schedule_name\": \"ut_sched_single.csv\",\n",
    "            \"building_name\": \"load_ut.csv\",\n",
    "            \"price_name\": \"spot_2021_new.csv\",\n",
    "            \"tariff_name\": \"spot_2021_new_tariff.csv\",\n",
    "            \"use_case\": \"ut\",\n",
    "            \"verbose\": False,\n",
    "            \"time_picker\": \"eval\",\n",
    "            \"episode_length\": 48,\n",
    "            \"calculate_degradation\": True,\n",
    "            \"log_data\": False,\n",
    "            \"normalize_in_env\": False,\n",
    "            \"aux\": True,\n",
    "            \"spot_markup\": 0,\n",
    "            \"spot_mul\": 1,\n",
    "            \"feed_in_ded\": 0\n",
    "            }\n",
    "\n",
    "eval_vec_env = make_vec_env(FleetEnv,\n",
    "                            seed=40,\n",
    "                            n_envs=1,\n",
    "                            vec_env_cls=SubprocVecEnv,\n",
    "                            env_kwargs=env_args)"
   ]
  },
  {
   "cell_type": "code",
   "execution_count": 8,
   "metadata": {
    "ExecuteTime": {
     "end_time": "2023-06-18T22:46:39.376182Z",
     "start_time": "2023-06-18T22:46:39.371022Z"
    },
    "collapsed": false,
    "jupyter": {
     "outputs_hidden": false
    },
    "tags": []
   },
   "outputs": [],
   "source": [
    "eval_norm_vec_env = VecNormalize(venv=eval_vec_env,\n",
    "                                 norm_obs=True,\n",
    "                                 norm_reward=True,\n",
    "                                 training=True,\n",
    "                                 clip_reward=10.0)"
   ]
  },
  {
   "cell_type": "code",
   "execution_count": 9,
   "metadata": {
    "ExecuteTime": {
     "end_time": "2023-06-18T22:46:59.480927Z",
     "start_time": "2023-06-18T22:46:59.475386Z"
    },
    "collapsed": false,
    "jupyter": {
     "outputs_hidden": false
    },
    "tags": []
   },
   "outputs": [],
   "source": [
    "eval_callback = EvalCallback(eval_env=eval_norm_vec_env,\n",
    "                             warn=True,\n",
    "                             verbose=1,\n",
    "                             deterministic=True,\n",
    "                             eval_freq=max(10000 // n_cpu, 1),\n",
    "                             n_eval_episodes=5,\n",
    "                             render=False,\n",
    "                             )"
   ]
  },
  {
   "cell_type": "code",
   "execution_count": 10,
   "metadata": {
    "collapsed": false,
    "jupyter": {
     "outputs_hidden": false
    },
    "tags": []
   },
   "outputs": [],
   "source": [
    "class HyperParamCallback(BaseCallback):\n",
    "\n",
    "    \"\"\"\n",
    "    Saves hyperparameters and metrics at start of training, logging to tensorboard\n",
    "    \"\"\"\n",
    "\n",
    "    def _on_training_start(self) -> None:\n",
    "        hparam_dict = {\n",
    "            \"algorithm\": self.model.__class__.__name__,\n",
    "            \"learning rate\": self.model.learning_rate,\n",
    "            \"gamma\": self.model.gamma,\n",
    "            \"tau\": self.model.tau,\n",
    "            \"learning starts\": self.model.learning_starts,\n",
    "            \"batch size\": self.model.batch_size,\n",
    "            \"buffer size\": self.model.buffer_size,\n",
    "            \"policy_delay\": self.model.policy_delay,\n",
    "        }\n",
    "\n",
    "        metric_dict = {\n",
    "            \"rollout/ep_len_mean\": 0,\n",
    "            \"train/value_loss\": 0.0,\n",
    "        }\n",
    "\n",
    "        self.logger.record(\n",
    "            \"hparams\",\n",
    "            HParam(hparam_dict, metric_dict),\n",
    "            exclude=(\"stdout\", \"log\", \"json\", \"csv\")\n",
    "        )\n",
    "\n",
    "    def _on_step(self) -> bool:\n",
    "        return True\n"
   ]
  },
  {
   "cell_type": "code",
   "execution_count": 11,
   "metadata": {
    "collapsed": false,
    "jupyter": {
     "outputs_hidden": false
    },
    "tags": []
   },
   "outputs": [],
   "source": [
    "hyperparameter_callback = HyperParamCallback()"
   ]
  },
  {
   "cell_type": "code",
   "execution_count": 12,
   "metadata": {
    "ExecuteTime": {
     "end_time": "2023-06-18T22:46:59.843009Z",
     "start_time": "2023-06-18T22:46:59.832197Z"
    },
    "collapsed": false,
    "jupyter": {
     "outputs_hidden": false
    },
    "tags": []
   },
   "outputs": [],
   "source": [
    "n_actions = train_norm_vec_env.action_space.shape[-1]\n",
    "param_noise = None\n",
    "noise_scale = 0.1\n",
    "seq_len = 48 * 4\n",
    "action_noise = PinkActionNoise(noise_scale, seq_len, n_actions)"
   ]
  },
  {
   "cell_type": "markdown",
   "metadata": {
    "ExecuteTime": {
     "end_time": "2023-06-18T22:47:00.416896Z",
     "start_time": "2023-06-18T22:47:00.378841Z"
    },
    "collapsed": false,
    "jupyter": {
     "outputs_hidden": false
    },
    "tags": []
   },
   "source": [
    "model = PPO(policy=\"MlpPolicy\",\n",
    "           verbose=0,\n",
    "           env = train_norm_vec_env,\n",
    "           tensorboard_log = \"./tb_log\",\n",
    "           gamma=0.99,\n",
    "           learning_rate=0.0005,\n",
    "           batch_size=128,\n",
    "           n_epochs=8,\n",
    "           gae_lambda=0.9,\n",
    "           clip_range=0.2,\n",
    "           clip_range_vf=None,\n",
    "           normalize_advantage=True,\n",
    "           ent_coef=0.0005,\n",
    "           vf_coef=0.6,\n",
    "           max_grad_norm=0.5,\n",
    "           n_steps=128)"
   ]
  },
  {
   "cell_type": "code",
   "execution_count": 13,
   "metadata": {},
   "outputs": [],
   "source": [
    "train_norm_vec_env.load(\"./tmp/vec_PPO/vec_normalize-UT_2021_arbitrage_PPO.pkl\", venv=train_norm_vec_env)\n",
    "model = PPO.load(\"./tmp/vec_PPO/PPO-fleet_UT_2021_arbitrage_PPO.zip\", env = train_norm_vec_env,\n",
    "                custom_objects={\"observation_space\": train_norm_vec_env.observation_space,\n",
    "                                \"action_space\": train_norm_vec_env.action_space})\n",
    "#model.ent_coef = 0.0005"
   ]
  },
  {
   "cell_type": "code",
   "execution_count": null,
   "metadata": {
    "ExecuteTime": {
     "end_time": "2023-06-18T22:46:41.189642Z",
     "start_time": "2023-06-18T22:46:40.190292Z"
    },
    "collapsed": false,
    "jupyter": {
     "outputs_hidden": false
    },
    "pycharm": {
     "is_executing": true
    },
    "tags": []
   },
   "outputs": [
    {
     "name": "stdout",
     "output_type": "stream",
     "text": [
      "Eval num_timesteps=5744400, episode_reward=-3.91 +/- 27.40\n",
      "Episode length: 192.00 +/- 0.00\n",
      "New best mean reward!\n",
      "Eval num_timesteps=5754400, episode_reward=5.24 +/- 22.88\n",
      "Episode length: 192.00 +/- 0.00\n",
      "New best mean reward!\n",
      "Eval num_timesteps=5764400, episode_reward=14.69 +/- 20.08\n",
      "Episode length: 192.00 +/- 0.00\n",
      "New best mean reward!\n",
      "Eval num_timesteps=5774400, episode_reward=-14.43 +/- 11.92\n",
      "Episode length: 192.00 +/- 0.00\n",
      "Eval num_timesteps=5784400, episode_reward=3.02 +/- 4.07\n",
      "Episode length: 192.00 +/- 0.00\n",
      "Eval num_timesteps=5794400, episode_reward=2.44 +/- 22.88\n",
      "Episode length: 192.00 +/- 0.00\n",
      "Eval num_timesteps=5804400, episode_reward=-7.67 +/- 16.20\n",
      "Episode length: 192.00 +/- 0.00\n",
      "Eval num_timesteps=5814400, episode_reward=9.21 +/- 12.55\n",
      "Episode length: 192.00 +/- 0.00\n",
      "Eval num_timesteps=5824400, episode_reward=10.15 +/- 33.72\n",
      "Episode length: 192.00 +/- 0.00\n",
      "Eval num_timesteps=5834400, episode_reward=-4.31 +/- 50.63\n",
      "Episode length: 192.00 +/- 0.00\n",
      "Eval num_timesteps=5844400, episode_reward=8.04 +/- 10.84\n",
      "Episode length: 192.00 +/- 0.00\n",
      "Eval num_timesteps=5854400, episode_reward=16.43 +/- 12.98\n",
      "Episode length: 192.00 +/- 0.00\n",
      "New best mean reward!\n",
      "Eval num_timesteps=5864400, episode_reward=-11.75 +/- 56.85\n",
      "Episode length: 192.00 +/- 0.00\n",
      "Eval num_timesteps=5874400, episode_reward=9.73 +/- 18.20\n",
      "Episode length: 192.00 +/- 0.00\n",
      "Eval num_timesteps=5884400, episode_reward=-8.94 +/- 8.14\n",
      "Episode length: 192.00 +/- 0.00\n",
      "Eval num_timesteps=5894400, episode_reward=2.72 +/- 25.43\n",
      "Episode length: 192.00 +/- 0.00\n",
      "Eval num_timesteps=5904400, episode_reward=-1.30 +/- 20.29\n",
      "Episode length: 192.00 +/- 0.00\n",
      "Eval num_timesteps=5914400, episode_reward=-3.80 +/- 14.11\n",
      "Episode length: 192.00 +/- 0.00\n",
      "Eval num_timesteps=5924400, episode_reward=4.71 +/- 19.74\n",
      "Episode length: 192.00 +/- 0.00\n",
      "Eval num_timesteps=5934400, episode_reward=15.70 +/- 24.41\n",
      "Episode length: 192.00 +/- 0.00\n",
      "Eval num_timesteps=5944400, episode_reward=26.78 +/- 25.04\n",
      "Episode length: 192.00 +/- 0.00\n",
      "New best mean reward!\n",
      "Eval num_timesteps=5954400, episode_reward=12.36 +/- 9.05\n",
      "Episode length: 192.00 +/- 0.00\n",
      "Eval num_timesteps=5964400, episode_reward=11.75 +/- 11.38\n",
      "Episode length: 192.00 +/- 0.00\n",
      "Eval num_timesteps=5974400, episode_reward=8.04 +/- 22.42\n",
      "Episode length: 192.00 +/- 0.00\n",
      "Eval num_timesteps=5984400, episode_reward=4.69 +/- 17.31\n",
      "Episode length: 192.00 +/- 0.00\n",
      "Eval num_timesteps=5994400, episode_reward=11.15 +/- 21.50\n",
      "Episode length: 192.00 +/- 0.00\n",
      "Eval num_timesteps=6004400, episode_reward=0.18 +/- 23.90\n",
      "Episode length: 192.00 +/- 0.00\n",
      "Eval num_timesteps=6014400, episode_reward=17.16 +/- 15.50\n",
      "Episode length: 192.00 +/- 0.00\n",
      "Eval num_timesteps=6024400, episode_reward=11.94 +/- 16.42\n",
      "Episode length: 192.00 +/- 0.00\n",
      "Eval num_timesteps=6034400, episode_reward=9.66 +/- 16.84\n",
      "Episode length: 192.00 +/- 0.00\n",
      "Eval num_timesteps=6044400, episode_reward=5.85 +/- 37.63\n",
      "Episode length: 192.00 +/- 0.00\n",
      "Eval num_timesteps=6054400, episode_reward=9.02 +/- 17.03\n",
      "Episode length: 192.00 +/- 0.00\n",
      "Eval num_timesteps=6064400, episode_reward=26.40 +/- 25.59\n",
      "Episode length: 192.00 +/- 0.00\n",
      "Eval num_timesteps=6074400, episode_reward=-27.96 +/- 33.19\n",
      "Episode length: 192.00 +/- 0.00\n",
      "Eval num_timesteps=6084400, episode_reward=-3.57 +/- 20.83\n",
      "Episode length: 192.00 +/- 0.00\n",
      "Eval num_timesteps=6094400, episode_reward=14.57 +/- 15.54\n",
      "Episode length: 192.00 +/- 0.00\n",
      "Eval num_timesteps=6104400, episode_reward=-1.50 +/- 28.45\n",
      "Episode length: 192.00 +/- 0.00\n",
      "Eval num_timesteps=6114400, episode_reward=22.98 +/- 19.00\n",
      "Episode length: 192.00 +/- 0.00\n",
      "Eval num_timesteps=6124400, episode_reward=18.31 +/- 2.57\n",
      "Episode length: 192.00 +/- 0.00\n",
      "Eval num_timesteps=6134400, episode_reward=30.47 +/- 27.27\n",
      "Episode length: 192.00 +/- 0.00\n",
      "New best mean reward!\n",
      "Eval num_timesteps=6144400, episode_reward=-19.36 +/- 25.77\n",
      "Episode length: 192.00 +/- 0.00\n",
      "Eval num_timesteps=6154400, episode_reward=10.50 +/- 20.33\n",
      "Episode length: 192.00 +/- 0.00\n",
      "Eval num_timesteps=6164400, episode_reward=3.44 +/- 19.26\n",
      "Episode length: 192.00 +/- 0.00\n",
      "Eval num_timesteps=6174400, episode_reward=17.75 +/- 16.35\n",
      "Episode length: 192.00 +/- 0.00\n",
      "Eval num_timesteps=6184400, episode_reward=8.75 +/- 9.06\n",
      "Episode length: 192.00 +/- 0.00\n",
      "Eval num_timesteps=6194400, episode_reward=12.09 +/- 21.01\n",
      "Episode length: 192.00 +/- 0.00\n",
      "Eval num_timesteps=6204400, episode_reward=17.82 +/- 27.27\n",
      "Episode length: 192.00 +/- 0.00\n",
      "Eval num_timesteps=6214400, episode_reward=12.26 +/- 13.99\n",
      "Episode length: 192.00 +/- 0.00\n",
      "Eval num_timesteps=6224400, episode_reward=1.85 +/- 5.91\n",
      "Episode length: 192.00 +/- 0.00\n",
      "Eval num_timesteps=6234400, episode_reward=7.25 +/- 20.75\n",
      "Episode length: 192.00 +/- 0.00\n",
      "Eval num_timesteps=6244400, episode_reward=5.13 +/- 11.44\n",
      "Episode length: 192.00 +/- 0.00\n",
      "Eval num_timesteps=6254400, episode_reward=11.09 +/- 8.40\n",
      "Episode length: 192.00 +/- 0.00\n",
      "Eval num_timesteps=6264400, episode_reward=24.03 +/- 26.04\n",
      "Episode length: 192.00 +/- 0.00\n",
      "Eval num_timesteps=6274400, episode_reward=14.45 +/- 21.70\n",
      "Episode length: 192.00 +/- 0.00\n",
      "Eval num_timesteps=6284400, episode_reward=6.39 +/- 15.51\n",
      "Episode length: 192.00 +/- 0.00\n",
      "Eval num_timesteps=6294400, episode_reward=16.41 +/- 15.92\n",
      "Episode length: 192.00 +/- 0.00\n",
      "Eval num_timesteps=6304400, episode_reward=25.14 +/- 19.95\n",
      "Episode length: 192.00 +/- 0.00\n",
      "Eval num_timesteps=6314400, episode_reward=17.36 +/- 19.84\n",
      "Episode length: 192.00 +/- 0.00\n",
      "Eval num_timesteps=6324400, episode_reward=11.55 +/- 12.45\n",
      "Episode length: 192.00 +/- 0.00\n",
      "Eval num_timesteps=6334400, episode_reward=-0.89 +/- 17.96\n",
      "Episode length: 192.00 +/- 0.00\n",
      "Eval num_timesteps=6344400, episode_reward=15.17 +/- 13.24\n",
      "Episode length: 192.00 +/- 0.00\n",
      "Eval num_timesteps=6354400, episode_reward=9.40 +/- 14.30\n",
      "Episode length: 192.00 +/- 0.00\n",
      "Eval num_timesteps=6364400, episode_reward=3.47 +/- 16.45\n",
      "Episode length: 192.00 +/- 0.00\n",
      "Eval num_timesteps=6374400, episode_reward=14.50 +/- 5.73\n",
      "Episode length: 192.00 +/- 0.00\n",
      "Eval num_timesteps=6384400, episode_reward=17.27 +/- 22.94\n",
      "Episode length: 192.00 +/- 0.00\n",
      "Eval num_timesteps=6394400, episode_reward=9.04 +/- 22.31\n",
      "Episode length: 192.00 +/- 0.00\n",
      "Eval num_timesteps=6404400, episode_reward=2.48 +/- 14.71\n",
      "Episode length: 192.00 +/- 0.00\n",
      "Eval num_timesteps=6414400, episode_reward=10.16 +/- 2.48\n",
      "Episode length: 192.00 +/- 0.00\n",
      "Eval num_timesteps=6424400, episode_reward=8.07 +/- 5.14\n",
      "Episode length: 192.00 +/- 0.00\n",
      "Eval num_timesteps=6434400, episode_reward=3.30 +/- 19.44\n",
      "Episode length: 192.00 +/- 0.00\n",
      "Eval num_timesteps=6444400, episode_reward=14.08 +/- 9.87\n",
      "Episode length: 192.00 +/- 0.00\n",
      "Eval num_timesteps=6454400, episode_reward=19.33 +/- 19.38\n",
      "Episode length: 192.00 +/- 0.00\n",
      "Eval num_timesteps=6464400, episode_reward=14.06 +/- 22.26\n",
      "Episode length: 192.00 +/- 0.00\n",
      "Eval num_timesteps=6474400, episode_reward=19.46 +/- 12.05\n",
      "Episode length: 192.00 +/- 0.00\n",
      "Eval num_timesteps=6484400, episode_reward=6.44 +/- 15.94\n",
      "Episode length: 192.00 +/- 0.00\n",
      "Eval num_timesteps=6494400, episode_reward=11.27 +/- 19.04\n",
      "Episode length: 192.00 +/- 0.00\n",
      "Eval num_timesteps=6504400, episode_reward=-1.63 +/- 15.93\n",
      "Episode length: 192.00 +/- 0.00\n",
      "Eval num_timesteps=6514400, episode_reward=-2.47 +/- 14.84\n",
      "Episode length: 192.00 +/- 0.00\n",
      "Eval num_timesteps=6524400, episode_reward=0.19 +/- 21.94\n",
      "Episode length: 192.00 +/- 0.00\n",
      "Eval num_timesteps=6534400, episode_reward=-5.11 +/- 11.89\n",
      "Episode length: 192.00 +/- 0.00\n",
      "Eval num_timesteps=6544400, episode_reward=-15.49 +/- 63.37\n",
      "Episode length: 192.00 +/- 0.00\n",
      "Eval num_timesteps=6554400, episode_reward=8.35 +/- 18.85\n",
      "Episode length: 192.00 +/- 0.00\n",
      "Eval num_timesteps=6564400, episode_reward=-4.23 +/- 18.28\n",
      "Episode length: 192.00 +/- 0.00\n",
      "Eval num_timesteps=6574400, episode_reward=-11.21 +/- 10.80\n",
      "Episode length: 192.00 +/- 0.00\n",
      "Eval num_timesteps=6584400, episode_reward=4.18 +/- 13.32\n",
      "Episode length: 192.00 +/- 0.00\n",
      "Eval num_timesteps=6594400, episode_reward=7.43 +/- 15.40\n",
      "Episode length: 192.00 +/- 0.00\n",
      "Eval num_timesteps=6604400, episode_reward=19.35 +/- 16.07\n",
      "Episode length: 192.00 +/- 0.00\n",
      "Eval num_timesteps=6614400, episode_reward=7.91 +/- 18.98\n",
      "Episode length: 192.00 +/- 0.00\n",
      "Eval num_timesteps=6624400, episode_reward=1.61 +/- 16.57\n",
      "Episode length: 192.00 +/- 0.00\n",
      "Eval num_timesteps=6634400, episode_reward=2.06 +/- 9.00\n",
      "Episode length: 192.00 +/- 0.00\n",
      "Eval num_timesteps=6644400, episode_reward=10.16 +/- 12.55\n",
      "Episode length: 192.00 +/- 0.00\n",
      "Eval num_timesteps=6654400, episode_reward=3.94 +/- 7.49\n",
      "Episode length: 192.00 +/- 0.00\n",
      "Eval num_timesteps=6664400, episode_reward=-6.82 +/- 4.52\n",
      "Episode length: 192.00 +/- 0.00\n",
      "Eval num_timesteps=6674400, episode_reward=-10.46 +/- 7.09\n",
      "Episode length: 192.00 +/- 0.00\n",
      "Eval num_timesteps=6684400, episode_reward=6.07 +/- 11.98\n",
      "Episode length: 192.00 +/- 0.00\n",
      "Eval num_timesteps=6694400, episode_reward=30.02 +/- 25.37\n",
      "Episode length: 192.00 +/- 0.00\n",
      "Eval num_timesteps=6704400, episode_reward=20.31 +/- 25.98\n",
      "Episode length: 192.00 +/- 0.00\n",
      "Eval num_timesteps=6714400, episode_reward=12.87 +/- 16.89\n",
      "Episode length: 192.00 +/- 0.00\n",
      "Eval num_timesteps=6724400, episode_reward=25.65 +/- 15.62\n",
      "Episode length: 192.00 +/- 0.00\n",
      "Eval num_timesteps=6734400, episode_reward=9.25 +/- 11.75\n",
      "Episode length: 192.00 +/- 0.00\n",
      "Eval num_timesteps=6744400, episode_reward=31.14 +/- 25.19\n",
      "Episode length: 192.00 +/- 0.00\n",
      "New best mean reward!\n",
      "Eval num_timesteps=6754400, episode_reward=-9.93 +/- 6.66\n",
      "Episode length: 192.00 +/- 0.00\n",
      "Eval num_timesteps=6764400, episode_reward=-8.49 +/- 13.33\n",
      "Episode length: 192.00 +/- 0.00\n",
      "Eval num_timesteps=6774400, episode_reward=10.82 +/- 8.69\n",
      "Episode length: 192.00 +/- 0.00\n",
      "Eval num_timesteps=6784400, episode_reward=29.75 +/- 18.04\n",
      "Episode length: 192.00 +/- 0.00\n",
      "Eval num_timesteps=6794400, episode_reward=-41.28 +/- 75.07\n",
      "Episode length: 192.00 +/- 0.00\n",
      "Eval num_timesteps=6804400, episode_reward=-25.73 +/- 81.39\n",
      "Episode length: 192.00 +/- 0.00\n",
      "Eval num_timesteps=6814400, episode_reward=3.64 +/- 21.71\n",
      "Episode length: 192.00 +/- 0.00\n",
      "Eval num_timesteps=6824400, episode_reward=14.65 +/- 7.92\n",
      "Episode length: 192.00 +/- 0.00\n",
      "Eval num_timesteps=6834400, episode_reward=10.64 +/- 14.25\n",
      "Episode length: 192.00 +/- 0.00\n",
      "Eval num_timesteps=6844400, episode_reward=-1.66 +/- 17.46\n",
      "Episode length: 192.00 +/- 0.00\n",
      "Eval num_timesteps=6854400, episode_reward=9.99 +/- 10.50\n",
      "Episode length: 192.00 +/- 0.00\n",
      "Eval num_timesteps=6864400, episode_reward=2.28 +/- 8.14\n",
      "Episode length: 192.00 +/- 0.00\n",
      "Eval num_timesteps=6874400, episode_reward=-8.30 +/- 23.77\n",
      "Episode length: 192.00 +/- 0.00\n",
      "Eval num_timesteps=6884400, episode_reward=23.01 +/- 27.96\n",
      "Episode length: 192.00 +/- 0.00\n",
      "Eval num_timesteps=6894400, episode_reward=4.17 +/- 23.88\n",
      "Episode length: 192.00 +/- 0.00\n",
      "Eval num_timesteps=6904400, episode_reward=-0.80 +/- 8.90\n",
      "Episode length: 192.00 +/- 0.00\n",
      "Eval num_timesteps=6914400, episode_reward=-10.61 +/- 13.80\n",
      "Episode length: 192.00 +/- 0.00\n",
      "Eval num_timesteps=6924400, episode_reward=8.87 +/- 13.23\n",
      "Episode length: 192.00 +/- 0.00\n",
      "Eval num_timesteps=6934400, episode_reward=-13.24 +/- 62.61\n",
      "Episode length: 192.00 +/- 0.00\n",
      "Eval num_timesteps=6944400, episode_reward=4.45 +/- 16.49\n",
      "Episode length: 192.00 +/- 0.00\n",
      "Eval num_timesteps=6954400, episode_reward=16.90 +/- 35.21\n",
      "Episode length: 192.00 +/- 0.00\n",
      "Eval num_timesteps=6964400, episode_reward=-3.40 +/- 17.29\n",
      "Episode length: 192.00 +/- 0.00\n",
      "Eval num_timesteps=6974400, episode_reward=-2.17 +/- 16.37\n",
      "Episode length: 192.00 +/- 0.00\n",
      "Eval num_timesteps=6984400, episode_reward=7.19 +/- 14.18\n",
      "Episode length: 192.00 +/- 0.00\n",
      "Eval num_timesteps=6994400, episode_reward=8.65 +/- 16.75\n",
      "Episode length: 192.00 +/- 0.00\n",
      "Eval num_timesteps=7004400, episode_reward=13.19 +/- 19.84\n",
      "Episode length: 192.00 +/- 0.00\n",
      "Eval num_timesteps=7014400, episode_reward=7.98 +/- 19.89\n",
      "Episode length: 192.00 +/- 0.00\n",
      "Eval num_timesteps=7024400, episode_reward=7.25 +/- 20.24\n",
      "Episode length: 192.00 +/- 0.00\n",
      "Eval num_timesteps=7034400, episode_reward=4.32 +/- 10.24\n",
      "Episode length: 192.00 +/- 0.00\n",
      "Eval num_timesteps=7044400, episode_reward=-29.56 +/- 71.96\n",
      "Episode length: 192.00 +/- 0.00\n",
      "Eval num_timesteps=7054400, episode_reward=4.61 +/- 24.90\n",
      "Episode length: 192.00 +/- 0.00\n",
      "Eval num_timesteps=7064400, episode_reward=3.73 +/- 15.26\n",
      "Episode length: 192.00 +/- 0.00\n",
      "Eval num_timesteps=7074400, episode_reward=14.21 +/- 14.28\n",
      "Episode length: 192.00 +/- 0.00\n",
      "Eval num_timesteps=7084400, episode_reward=9.61 +/- 5.30\n",
      "Episode length: 192.00 +/- 0.00\n",
      "Eval num_timesteps=7094400, episode_reward=14.92 +/- 24.22\n",
      "Episode length: 192.00 +/- 0.00\n",
      "Eval num_timesteps=7104400, episode_reward=20.70 +/- 17.04\n",
      "Episode length: 192.00 +/- 0.00\n",
      "Eval num_timesteps=7114400, episode_reward=-4.29 +/- 18.47\n",
      "Episode length: 192.00 +/- 0.00\n",
      "Eval num_timesteps=7124400, episode_reward=14.89 +/- 10.31\n",
      "Episode length: 192.00 +/- 0.00\n",
      "Eval num_timesteps=7134400, episode_reward=16.73 +/- 18.20\n",
      "Episode length: 192.00 +/- 0.00\n",
      "Eval num_timesteps=7144400, episode_reward=-46.77 +/- 109.92\n",
      "Episode length: 192.00 +/- 0.00\n",
      "Eval num_timesteps=7154400, episode_reward=11.51 +/- 13.36\n",
      "Episode length: 192.00 +/- 0.00\n",
      "Eval num_timesteps=7164400, episode_reward=11.66 +/- 11.64\n",
      "Episode length: 192.00 +/- 0.00\n",
      "Eval num_timesteps=7174400, episode_reward=13.29 +/- 9.48\n",
      "Episode length: 192.00 +/- 0.00\n",
      "Eval num_timesteps=7184400, episode_reward=7.39 +/- 23.93\n",
      "Episode length: 192.00 +/- 0.00\n",
      "Eval num_timesteps=7194400, episode_reward=-1.06 +/- 11.78\n",
      "Episode length: 192.00 +/- 0.00\n",
      "Eval num_timesteps=7204400, episode_reward=3.64 +/- 24.19\n",
      "Episode length: 192.00 +/- 0.00\n",
      "Eval num_timesteps=7214400, episode_reward=9.84 +/- 35.94\n",
      "Episode length: 192.00 +/- 0.00\n",
      "Eval num_timesteps=7224400, episode_reward=18.60 +/- 11.44\n",
      "Episode length: 192.00 +/- 0.00\n",
      "Eval num_timesteps=7234400, episode_reward=19.01 +/- 20.45\n",
      "Episode length: 192.00 +/- 0.00\n",
      "Eval num_timesteps=7244400, episode_reward=16.75 +/- 8.58\n",
      "Episode length: 192.00 +/- 0.00\n",
      "Eval num_timesteps=7254400, episode_reward=-14.66 +/- 9.72\n",
      "Episode length: 192.00 +/- 0.00\n",
      "Eval num_timesteps=7264400, episode_reward=17.74 +/- 20.68\n",
      "Episode length: 192.00 +/- 0.00\n",
      "Eval num_timesteps=7274400, episode_reward=4.33 +/- 19.53\n",
      "Episode length: 192.00 +/- 0.00\n",
      "Eval num_timesteps=7284400, episode_reward=8.91 +/- 18.06\n",
      "Episode length: 192.00 +/- 0.00\n",
      "Eval num_timesteps=7294400, episode_reward=13.91 +/- 12.49\n",
      "Episode length: 192.00 +/- 0.00\n",
      "Eval num_timesteps=7304400, episode_reward=12.53 +/- 14.14\n",
      "Episode length: 192.00 +/- 0.00\n",
      "Eval num_timesteps=7314400, episode_reward=-2.38 +/- 17.63\n",
      "Episode length: 192.00 +/- 0.00\n",
      "Eval num_timesteps=7324400, episode_reward=16.77 +/- 23.98\n",
      "Episode length: 192.00 +/- 0.00\n",
      "Eval num_timesteps=7334400, episode_reward=13.83 +/- 22.08\n",
      "Episode length: 192.00 +/- 0.00\n",
      "Eval num_timesteps=7344400, episode_reward=7.71 +/- 15.05\n",
      "Episode length: 192.00 +/- 0.00\n",
      "Eval num_timesteps=7354400, episode_reward=4.12 +/- 22.16\n",
      "Episode length: 192.00 +/- 0.00\n",
      "Eval num_timesteps=7364400, episode_reward=11.81 +/- 21.47\n",
      "Episode length: 192.00 +/- 0.00\n",
      "Eval num_timesteps=7374400, episode_reward=12.21 +/- 24.01\n",
      "Episode length: 192.00 +/- 0.00\n",
      "Eval num_timesteps=7384400, episode_reward=16.12 +/- 22.65\n",
      "Episode length: 192.00 +/- 0.00\n",
      "Eval num_timesteps=7394400, episode_reward=-31.68 +/- 88.21\n",
      "Episode length: 192.00 +/- 0.00\n",
      "Eval num_timesteps=7404400, episode_reward=15.59 +/- 5.02\n",
      "Episode length: 192.00 +/- 0.00\n",
      "Eval num_timesteps=7414400, episode_reward=2.11 +/- 20.56\n",
      "Episode length: 192.00 +/- 0.00\n",
      "Eval num_timesteps=7424400, episode_reward=-5.53 +/- 16.69\n",
      "Episode length: 192.00 +/- 0.00\n"
     ]
    }
   ],
   "source": [
    "saving_interval = 50000\n",
    "for i in range(0, 80):\n",
    "    model.learn(total_timesteps=saving_interval, \n",
    "                reset_num_timesteps=False, \n",
    "                tb_log_name=f\"PPO_{time_now}_{comment}\",\n",
    "                callback=[eval_callback])\n",
    "    \n",
    "    model.save(f\"{trained_agents_dir}/{saving_interval * i}\")\n",
    "\n",
    "    # Don't forget to save the VecNormalize statistics when saving the agent\n",
    "    log_dir = \"./tmp/vec_PPO/\"\n",
    "    model.save(log_dir + f\"PPO-fleet_{comment}\")\n",
    "    stats_path = os.path.join(log_dir, f\"vec_normalize-{comment}.pkl\")\n",
    "    train_norm_vec_env.save(stats_path)"
   ]
  }
 ],
 "metadata": {
  "environment": {
   "kernel": "python3",
   "name": "pytorch-gpu.1-13.m108",
   "type": "gcloud",
   "uri": "gcr.io/deeplearning-platform-release/pytorch-gpu.1-13:m108"
  },
  "kernelspec": {
   "display_name": "Python 3 (ipykernel)",
   "language": "python",
   "name": "python3"
  },
  "language_info": {
   "codemirror_mode": {
    "name": "ipython",
    "version": 3
   },
   "file_extension": ".py",
   "mimetype": "text/x-python",
   "name": "python",
   "nbconvert_exporter": "python",
   "pygments_lexer": "ipython3",
   "version": "3.10.11"
  }
 },
 "nbformat": 4,
 "nbformat_minor": 4
}
