{
 "cells": [
  {
   "cell_type": "code",
   "execution_count": 1,
   "metadata": {
    "ExecuteTime": {
     "end_time": "2023-06-18T22:46:27.449177Z",
     "start_time": "2023-06-18T22:46:25.040277Z"
    },
    "tags": []
   },
   "outputs": [],
   "source": [
    "import numpy as np\n",
    "import time\n",
    "import os\n",
    "\n",
    "import FleetRL\n",
    "from FleetRL.fleet_env.fleet_environment import FleetEnv\n",
    "\n",
    "from stable_baselines3 import PPO\n",
    "from stable_baselines3.common.vec_env import VecNormalize, SubprocVecEnv\n",
    "from stable_baselines3.common.env_util import make_vec_env\n",
    "from stable_baselines3.common.evaluation import evaluate_policy\n",
    "from stable_baselines3.common.callbacks import EvalCallback, ProgressBarCallback, BaseCallback\n",
    "from stable_baselines3.common.logger import HParam\n",
    "\n",
    "from pink import PinkNoiseDist, PinkActionNoise"
   ]
  },
  {
   "cell_type": "code",
   "execution_count": 2,
   "metadata": {
    "ExecuteTime": {
     "end_time": "2023-06-18T21:16:43.248490Z",
     "start_time": "2023-06-18T21:16:43.242601Z"
    },
    "jupyter": {
     "outputs_hidden": false
    },
    "tags": []
   },
   "outputs": [],
   "source": [
    "run_name = \"LMD_2021_arbitrage_PPO_mul3\"\n",
    "comment = run_name"
   ]
  },
  {
   "cell_type": "code",
   "execution_count": 3,
   "metadata": {
    "ExecuteTime": {
     "end_time": "2023-06-18T21:16:43.298801Z",
     "start_time": "2023-06-18T21:16:43.255700Z"
    },
    "jupyter": {
     "outputs_hidden": false
    },
    "tags": []
   },
   "outputs": [],
   "source": [
    "time_now = int(time.time())\n",
    "trained_agents_dir = f\"./trained/vec_PPO-{time_now}-{run_name}\"\n",
    "logs_dir = f\"./logs/vec_PPO-{time_now}-{run_name}\"\n",
    "\n",
    "if not os.path.exists(trained_agents_dir):\n",
    "    os.makedirs(trained_agents_dir)\n",
    "\n",
    "if not os.path.exists(logs_dir):\n",
    "    os.makedirs(logs_dir)"
   ]
  },
  {
   "cell_type": "code",
   "execution_count": 4,
   "metadata": {
    "ExecuteTime": {
     "end_time": "2023-06-18T22:46:35.849875Z",
     "start_time": "2023-06-18T22:46:29.818869Z"
    },
    "jupyter": {
     "outputs_hidden": false
    },
    "tags": []
   },
   "outputs": [],
   "source": [
    "env_args = {\"schedule_name\": \"lmd_sched_single.csv\",\n",
    "            \"building_name\": \"load_lmd.csv\",\n",
    "            \"price_name\": \"spot_2021_new.csv\",\n",
    "            \"tariff_name\": \"spot_2021_new_tariff.csv\",\n",
    "            \"use_case\": \"lmd\",\n",
    "            \"verbose\": False,\n",
    "            \"time_picker\": \"random\",\n",
    "            \"episode_length\": 48,\n",
    "            \"calculate_degradation\": True,\n",
    "            \"log_data\": False,\n",
    "            \"normalize_in_env\": False,\n",
    "            \"aux\": True,\n",
    "            \"spot_markup\": 0,\n",
    "            \"spot_mul\": 1,\n",
    "            \"feed_in_ded\": 0\n",
    "            }\n",
    "\n",
    "n_cpu = 10\n",
    "train_vec_env = make_vec_env(FleetEnv,\n",
    "                             n_envs=n_cpu,\n",
    "                             vec_env_cls=SubprocVecEnv,\n",
    "                             env_kwargs=env_args)"
   ]
  },
  {
   "cell_type": "code",
   "execution_count": 5,
   "metadata": {
    "ExecuteTime": {
     "end_time": "2023-06-18T22:46:35.854925Z",
     "start_time": "2023-06-18T22:46:35.853414Z"
    },
    "jupyter": {
     "outputs_hidden": false
    },
    "tags": []
   },
   "outputs": [],
   "source": [
    "train_norm_vec_env = VecNormalize(venv=train_vec_env, norm_obs=True, norm_reward=True, training=True, clip_reward=10.0)"
   ]
  },
  {
   "cell_type": "code",
   "execution_count": 6,
   "metadata": {
    "ExecuteTime": {
     "end_time": "2023-06-18T22:46:39.369517Z",
     "start_time": "2023-06-18T22:46:35.898496Z"
    },
    "jupyter": {
     "outputs_hidden": false
    },
    "tags": []
   },
   "outputs": [],
   "source": [
    "env_args = {\"schedule_name\": \"lmd_sched_single.csv\",\n",
    "            \"building_name\": \"load_lmd.csv\",\n",
    "            \"price_name\": \"spot_2021_new.csv\",\n",
    "            \"tariff_name\": \"spot_2021_new_tariff.csv\",\n",
    "            \"use_case\": \"lmd\",\n",
    "            \"verbose\": False,\n",
    "            \"time_picker\": \"eval\",\n",
    "            \"episode_length\": 48,\n",
    "            \"calculate_degradation\": True,\n",
    "            \"log_data\": False,\n",
    "            \"normalize_in_env\": False,\n",
    "            \"aux\": True,\n",
    "            \"spot_markup\": 0,\n",
    "            \"spot_mul\": 1,\n",
    "            \"feed_in_ded\": 0\n",
    "            }\n",
    "\n",
    "eval_vec_env = make_vec_env(FleetEnv,\n",
    "                            n_envs=1,\n",
    "                            vec_env_cls=SubprocVecEnv,\n",
    "                            env_kwargs=env_args)"
   ]
  },
  {
   "cell_type": "code",
   "execution_count": 7,
   "metadata": {
    "ExecuteTime": {
     "end_time": "2023-06-18T22:46:39.376182Z",
     "start_time": "2023-06-18T22:46:39.371022Z"
    },
    "jupyter": {
     "outputs_hidden": false
    },
    "tags": []
   },
   "outputs": [],
   "source": [
    "eval_norm_vec_env = VecNormalize(venv=eval_vec_env,\n",
    "                                 norm_obs=True,\n",
    "                                 norm_reward=True,\n",
    "                                 training=True,\n",
    "                                 clip_reward=10.0)"
   ]
  },
  {
   "cell_type": "code",
   "execution_count": 8,
   "metadata": {
    "ExecuteTime": {
     "end_time": "2023-06-18T22:46:59.480927Z",
     "start_time": "2023-06-18T22:46:59.475386Z"
    },
    "jupyter": {
     "outputs_hidden": false
    },
    "tags": []
   },
   "outputs": [],
   "source": [
    "eval_callback = EvalCallback(eval_env=eval_norm_vec_env,\n",
    "                             warn=True,\n",
    "                             verbose=1,\n",
    "                             deterministic=True,\n",
    "                             eval_freq=max(10000 // n_cpu, 1),\n",
    "                             n_eval_episodes=5,\n",
    "                             render=False,\n",
    "                             )"
   ]
  },
  {
   "cell_type": "code",
   "execution_count": 9,
   "metadata": {
    "jupyter": {
     "outputs_hidden": false
    },
    "tags": []
   },
   "outputs": [],
   "source": [
    "class HyperParamCallback(BaseCallback):\n",
    "\n",
    "    \"\"\"\n",
    "    Saves hyperparameters and metrics at start of training, logging to tensorboard\n",
    "    \"\"\"\n",
    "\n",
    "    def _on_training_start(self) -> None:\n",
    "        hparam_dict = {\n",
    "            \"algorithm\": self.model.__class__.__name__,\n",
    "            \"learning rate\": self.model.learning_rate,\n",
    "            \"gamma\": self.model.gamma,\n",
    "            \"tau\": self.model.tau,\n",
    "            \"learning starts\": self.model.learning_starts,\n",
    "            \"batch size\": self.model.batch_size,\n",
    "            \"buffer size\": self.model.buffer_size,\n",
    "            \"policy_delay\": self.model.policy_delay,\n",
    "        }\n",
    "\n",
    "        metric_dict = {\n",
    "            \"rollout/ep_len_mean\": 0,\n",
    "            \"train/value_loss\": 0.0,\n",
    "        }\n",
    "\n",
    "        self.logger.record(\n",
    "            \"hparams\",\n",
    "            HParam(hparam_dict, metric_dict),\n",
    "            exclude=(\"stdout\", \"log\", \"json\", \"csv\")\n",
    "        )\n",
    "\n",
    "    def _on_step(self) -> bool:\n",
    "        return True\n"
   ]
  },
  {
   "cell_type": "code",
   "execution_count": 10,
   "metadata": {
    "jupyter": {
     "outputs_hidden": false
    },
    "tags": []
   },
   "outputs": [],
   "source": [
    "hyperparameter_callback = HyperParamCallback()"
   ]
  },
  {
   "cell_type": "code",
   "execution_count": 11,
   "metadata": {
    "ExecuteTime": {
     "end_time": "2023-06-18T22:46:59.843009Z",
     "start_time": "2023-06-18T22:46:59.832197Z"
    },
    "jupyter": {
     "outputs_hidden": false
    },
    "tags": []
   },
   "outputs": [],
   "source": [
    "n_actions = train_norm_vec_env.action_space.shape[-1]\n",
    "param_noise = None\n",
    "noise_scale = 0.1\n",
    "seq_len = 48 * 4\n",
    "action_noise = PinkActionNoise(noise_scale, seq_len, n_actions)"
   ]
  },
  {
   "cell_type": "markdown",
   "metadata": {
    "ExecuteTime": {
     "end_time": "2023-06-18T22:47:00.416896Z",
     "start_time": "2023-06-18T22:47:00.378841Z"
    },
    "jupyter": {
     "outputs_hidden": false
    },
    "tags": []
   },
   "source": [
    "model = PPO(policy=\"MlpPolicy\",\n",
    "            env=train_norm_vec_env,\n",
    "            verbose=0,\n",
    "            train_freq=(4, \"step\"),\n",
    "            learning_rate=0.001,\n",
    "            learning_starts=20000,\n",
    "            gamma=0.97,\n",
    "            batch_size=100,\n",
    "            buffer_size=1000000,\n",
    "            tau=0.01,\n",
    "            tensorboard_log=\"./tb_log\",\n",
    "            action_noise=action_noise\n",
    "            )"
   ]
  },
  {
   "cell_type": "code",
   "execution_count": 12,
   "metadata": {},
   "outputs": [],
   "source": [
    "train_norm_vec_env.load(\"./tmp/vec_PPO/vec_normalize-LMD_2021_arbitrage_PPO_mul3.pkl\", venv=train_norm_vec_env)\n",
    "model = PPO.load(\"./tmp/vec_PPO/PPO-fleet_LMD_2021_arbitrage_PPO_mul3.zip\", env = train_norm_vec_env,\n",
    "                custom_objects={\"observation_space\": train_norm_vec_env.observation_space,\n",
    "                                \"action_space\": train_norm_vec_env.action_space})\n",
    "#model.ent_coef = 0.0005"
   ]
  },
  {
   "cell_type": "code",
   "execution_count": null,
   "metadata": {
    "ExecuteTime": {
     "end_time": "2023-06-18T22:46:41.189642Z",
     "start_time": "2023-06-18T22:46:40.190292Z"
    },
    "jupyter": {
     "outputs_hidden": false
    },
    "pycharm": {
     "is_executing": true
    },
    "tags": []
   },
   "outputs": [
    {
     "name": "stdout",
     "output_type": "stream",
     "text": [
      "Eval num_timesteps=5744400, episode_reward=-19.32 +/- 24.87\n",
      "Episode length: 192.00 +/- 0.00\n",
      "New best mean reward!\n",
      "Eval num_timesteps=5754400, episode_reward=-12.51 +/- 44.73\n",
      "Episode length: 192.00 +/- 0.00\n",
      "New best mean reward!\n",
      "Eval num_timesteps=5764400, episode_reward=-21.73 +/- 26.05\n",
      "Episode length: 192.00 +/- 0.00\n",
      "Eval num_timesteps=5774400, episode_reward=22.27 +/- 30.57\n",
      "Episode length: 192.00 +/- 0.00\n",
      "New best mean reward!\n",
      "Eval num_timesteps=5784400, episode_reward=-4.56 +/- 8.19\n",
      "Episode length: 192.00 +/- 0.00\n",
      "Eval num_timesteps=5794400, episode_reward=17.24 +/- 11.41\n",
      "Episode length: 192.00 +/- 0.00\n",
      "Eval num_timesteps=5804400, episode_reward=18.07 +/- 18.39\n",
      "Episode length: 192.00 +/- 0.00\n",
      "Eval num_timesteps=5814400, episode_reward=-26.35 +/- 48.71\n",
      "Episode length: 192.00 +/- 0.00\n",
      "Eval num_timesteps=5824400, episode_reward=-6.13 +/- 36.82\n",
      "Episode length: 192.00 +/- 0.00\n",
      "Eval num_timesteps=5834400, episode_reward=-2.07 +/- 22.02\n",
      "Episode length: 192.00 +/- 0.00\n",
      "Eval num_timesteps=5844400, episode_reward=-16.29 +/- 24.34\n",
      "Episode length: 192.00 +/- 0.00\n",
      "Eval num_timesteps=5854400, episode_reward=-8.10 +/- 28.29\n",
      "Episode length: 192.00 +/- 0.00\n",
      "Eval num_timesteps=5864400, episode_reward=-3.97 +/- 23.06\n",
      "Episode length: 192.00 +/- 0.00\n",
      "Eval num_timesteps=5874400, episode_reward=14.91 +/- 12.01\n",
      "Episode length: 192.00 +/- 0.00\n",
      "Eval num_timesteps=5884400, episode_reward=-2.45 +/- 9.24\n",
      "Episode length: 192.00 +/- 0.00\n",
      "Eval num_timesteps=5894400, episode_reward=-8.85 +/- 31.73\n",
      "Episode length: 192.00 +/- 0.00\n",
      "Eval num_timesteps=5904400, episode_reward=13.70 +/- 13.13\n",
      "Episode length: 192.00 +/- 0.00\n",
      "Eval num_timesteps=5914400, episode_reward=15.10 +/- 27.01\n",
      "Episode length: 192.00 +/- 0.00\n",
      "Eval num_timesteps=5924400, episode_reward=-16.50 +/- 28.72\n",
      "Episode length: 192.00 +/- 0.00\n",
      "Eval num_timesteps=5934400, episode_reward=3.47 +/- 15.56\n",
      "Episode length: 192.00 +/- 0.00\n",
      "Eval num_timesteps=5944400, episode_reward=-3.24 +/- 23.84\n",
      "Episode length: 192.00 +/- 0.00\n",
      "Eval num_timesteps=5954400, episode_reward=6.78 +/- 15.53\n",
      "Episode length: 192.00 +/- 0.00\n",
      "Eval num_timesteps=5964400, episode_reward=13.76 +/- 13.80\n",
      "Episode length: 192.00 +/- 0.00\n",
      "Eval num_timesteps=5974400, episode_reward=-28.03 +/- 29.97\n",
      "Episode length: 192.00 +/- 0.00\n",
      "Eval num_timesteps=5984400, episode_reward=8.84 +/- 41.43\n",
      "Episode length: 192.00 +/- 0.00\n",
      "Eval num_timesteps=5994400, episode_reward=-1.16 +/- 9.41\n",
      "Episode length: 192.00 +/- 0.00\n",
      "Eval num_timesteps=6004400, episode_reward=2.64 +/- 15.99\n",
      "Episode length: 192.00 +/- 0.00\n",
      "Eval num_timesteps=6014400, episode_reward=-32.48 +/- 25.03\n",
      "Episode length: 192.00 +/- 0.00\n",
      "Eval num_timesteps=6024400, episode_reward=-3.97 +/- 21.13\n",
      "Episode length: 192.00 +/- 0.00\n",
      "Eval num_timesteps=6034400, episode_reward=8.59 +/- 10.11\n",
      "Episode length: 192.00 +/- 0.00\n",
      "Eval num_timesteps=6044400, episode_reward=-20.33 +/- 38.18\n",
      "Episode length: 192.00 +/- 0.00\n",
      "Eval num_timesteps=6054400, episode_reward=13.43 +/- 12.54\n",
      "Episode length: 192.00 +/- 0.00\n",
      "Eval num_timesteps=6064400, episode_reward=-0.95 +/- 11.42\n",
      "Episode length: 192.00 +/- 0.00\n",
      "Eval num_timesteps=6074400, episode_reward=9.05 +/- 19.40\n",
      "Episode length: 192.00 +/- 0.00\n",
      "Eval num_timesteps=6084400, episode_reward=17.03 +/- 28.80\n",
      "Episode length: 192.00 +/- 0.00\n",
      "Eval num_timesteps=6094400, episode_reward=15.03 +/- 2.51\n",
      "Episode length: 192.00 +/- 0.00\n",
      "Eval num_timesteps=6104400, episode_reward=21.17 +/- 22.36\n",
      "Episode length: 192.00 +/- 0.00\n",
      "Eval num_timesteps=6114400, episode_reward=13.94 +/- 9.92\n",
      "Episode length: 192.00 +/- 0.00\n",
      "Eval num_timesteps=6124400, episode_reward=-10.43 +/- 21.71\n",
      "Episode length: 192.00 +/- 0.00\n",
      "Eval num_timesteps=6134400, episode_reward=-47.82 +/- 108.32\n",
      "Episode length: 192.00 +/- 0.00\n",
      "Eval num_timesteps=6144400, episode_reward=-16.61 +/- 14.71\n",
      "Episode length: 192.00 +/- 0.00\n",
      "Eval num_timesteps=6154400, episode_reward=0.68 +/- 27.10\n",
      "Episode length: 192.00 +/- 0.00\n",
      "Eval num_timesteps=6164400, episode_reward=0.26 +/- 21.96\n",
      "Episode length: 192.00 +/- 0.00\n",
      "Eval num_timesteps=6174400, episode_reward=-22.91 +/- 25.73\n",
      "Episode length: 192.00 +/- 0.00\n",
      "Eval num_timesteps=6184400, episode_reward=2.52 +/- 28.87\n",
      "Episode length: 192.00 +/- 0.00\n",
      "Eval num_timesteps=6194400, episode_reward=-9.66 +/- 17.05\n",
      "Episode length: 192.00 +/- 0.00\n",
      "Eval num_timesteps=6204400, episode_reward=-11.19 +/- 18.71\n",
      "Episode length: 192.00 +/- 0.00\n",
      "Eval num_timesteps=6214400, episode_reward=8.33 +/- 27.95\n",
      "Episode length: 192.00 +/- 0.00\n",
      "Eval num_timesteps=6224400, episode_reward=24.83 +/- 9.33\n",
      "Episode length: 192.00 +/- 0.00\n",
      "New best mean reward!\n",
      "Eval num_timesteps=6234400, episode_reward=5.17 +/- 26.55\n",
      "Episode length: 192.00 +/- 0.00\n",
      "Eval num_timesteps=6244400, episode_reward=-10.63 +/- 25.83\n",
      "Episode length: 192.00 +/- 0.00\n",
      "Eval num_timesteps=6254400, episode_reward=10.25 +/- 7.01\n",
      "Episode length: 192.00 +/- 0.00\n",
      "Eval num_timesteps=6264400, episode_reward=-6.10 +/- 16.50\n",
      "Episode length: 192.00 +/- 0.00\n",
      "Eval num_timesteps=6274400, episode_reward=2.04 +/- 8.51\n",
      "Episode length: 192.00 +/- 0.00\n",
      "Eval num_timesteps=6284400, episode_reward=-5.90 +/- 33.27\n",
      "Episode length: 192.00 +/- 0.00\n",
      "Eval num_timesteps=6294400, episode_reward=17.32 +/- 27.39\n",
      "Episode length: 192.00 +/- 0.00\n",
      "Eval num_timesteps=6304400, episode_reward=13.14 +/- 19.64\n",
      "Episode length: 192.00 +/- 0.00\n",
      "Eval num_timesteps=6314400, episode_reward=5.66 +/- 23.05\n",
      "Episode length: 192.00 +/- 0.00\n",
      "Eval num_timesteps=6324400, episode_reward=11.78 +/- 8.01\n",
      "Episode length: 192.00 +/- 0.00\n",
      "Eval num_timesteps=6334400, episode_reward=6.65 +/- 11.57\n",
      "Episode length: 192.00 +/- 0.00\n",
      "Eval num_timesteps=6344400, episode_reward=27.50 +/- 24.52\n",
      "Episode length: 192.00 +/- 0.00\n",
      "New best mean reward!\n",
      "Eval num_timesteps=6354400, episode_reward=9.60 +/- 6.88\n",
      "Episode length: 192.00 +/- 0.00\n",
      "Eval num_timesteps=6364400, episode_reward=2.13 +/- 14.38\n",
      "Episode length: 192.00 +/- 0.00\n",
      "Eval num_timesteps=6374400, episode_reward=-40.40 +/- 97.40\n",
      "Episode length: 192.00 +/- 0.00\n",
      "Eval num_timesteps=6384400, episode_reward=-11.96 +/- 27.60\n",
      "Episode length: 192.00 +/- 0.00\n",
      "Eval num_timesteps=6394400, episode_reward=12.77 +/- 17.71\n",
      "Episode length: 192.00 +/- 0.00\n",
      "Eval num_timesteps=6404400, episode_reward=19.79 +/- 10.48\n",
      "Episode length: 192.00 +/- 0.00\n",
      "Eval num_timesteps=6414400, episode_reward=31.84 +/- 28.99\n",
      "Episode length: 192.00 +/- 0.00\n",
      "New best mean reward!\n",
      "Eval num_timesteps=6424400, episode_reward=21.53 +/- 35.86\n",
      "Episode length: 192.00 +/- 0.00\n",
      "Eval num_timesteps=6434400, episode_reward=-27.80 +/- 71.95\n",
      "Episode length: 192.00 +/- 0.00\n",
      "Eval num_timesteps=6444400, episode_reward=-8.27 +/- 16.29\n",
      "Episode length: 192.00 +/- 0.00\n",
      "Eval num_timesteps=6454400, episode_reward=-7.95 +/- 16.80\n",
      "Episode length: 192.00 +/- 0.00\n",
      "Eval num_timesteps=6464400, episode_reward=-13.05 +/- 53.75\n",
      "Episode length: 192.00 +/- 0.00\n",
      "Eval num_timesteps=6474400, episode_reward=2.45 +/- 13.56\n",
      "Episode length: 192.00 +/- 0.00\n",
      "Eval num_timesteps=6484400, episode_reward=6.00 +/- 16.53\n",
      "Episode length: 192.00 +/- 0.00\n",
      "Eval num_timesteps=6494400, episode_reward=22.29 +/- 23.56\n",
      "Episode length: 192.00 +/- 0.00\n",
      "Eval num_timesteps=6504400, episode_reward=6.25 +/- 15.18\n",
      "Episode length: 192.00 +/- 0.00\n",
      "Eval num_timesteps=6514400, episode_reward=4.78 +/- 3.59\n",
      "Episode length: 192.00 +/- 0.00\n",
      "Eval num_timesteps=6524400, episode_reward=17.26 +/- 37.18\n",
      "Episode length: 192.00 +/- 0.00\n",
      "Eval num_timesteps=6534400, episode_reward=-3.02 +/- 17.27\n",
      "Episode length: 192.00 +/- 0.00\n",
      "Eval num_timesteps=6544400, episode_reward=-6.16 +/- 11.08\n",
      "Episode length: 192.00 +/- 0.00\n",
      "Eval num_timesteps=6554400, episode_reward=15.60 +/- 4.28\n",
      "Episode length: 192.00 +/- 0.00\n",
      "Eval num_timesteps=6564400, episode_reward=-7.34 +/- 33.16\n",
      "Episode length: 192.00 +/- 0.00\n",
      "Eval num_timesteps=6574400, episode_reward=10.07 +/- 31.21\n",
      "Episode length: 192.00 +/- 0.00\n",
      "Eval num_timesteps=6584400, episode_reward=-2.16 +/- 22.72\n",
      "Episode length: 192.00 +/- 0.00\n",
      "Eval num_timesteps=6594400, episode_reward=4.03 +/- 16.46\n",
      "Episode length: 192.00 +/- 0.00\n",
      "Eval num_timesteps=6604400, episode_reward=9.70 +/- 16.35\n",
      "Episode length: 192.00 +/- 0.00\n",
      "Eval num_timesteps=6614400, episode_reward=12.58 +/- 19.91\n",
      "Episode length: 192.00 +/- 0.00\n",
      "Eval num_timesteps=6624400, episode_reward=7.46 +/- 14.12\n",
      "Episode length: 192.00 +/- 0.00\n",
      "Eval num_timesteps=6634400, episode_reward=10.35 +/- 21.97\n",
      "Episode length: 192.00 +/- 0.00\n",
      "Eval num_timesteps=6644400, episode_reward=1.69 +/- 7.62\n",
      "Episode length: 192.00 +/- 0.00\n",
      "Eval num_timesteps=6654400, episode_reward=-13.07 +/- 21.34\n",
      "Episode length: 192.00 +/- 0.00\n",
      "Eval num_timesteps=6664400, episode_reward=9.64 +/- 12.71\n",
      "Episode length: 192.00 +/- 0.00\n",
      "Eval num_timesteps=6674400, episode_reward=13.79 +/- 11.00\n",
      "Episode length: 192.00 +/- 0.00\n",
      "Eval num_timesteps=6684400, episode_reward=2.98 +/- 19.36\n",
      "Episode length: 192.00 +/- 0.00\n",
      "Eval num_timesteps=6694400, episode_reward=23.82 +/- 18.89\n",
      "Episode length: 192.00 +/- 0.00\n",
      "Eval num_timesteps=6704400, episode_reward=3.63 +/- 23.86\n",
      "Episode length: 192.00 +/- 0.00\n",
      "Eval num_timesteps=6714400, episode_reward=-6.51 +/- 13.43\n",
      "Episode length: 192.00 +/- 0.00\n",
      "Eval num_timesteps=6724400, episode_reward=-3.70 +/- 21.42\n",
      "Episode length: 192.00 +/- 0.00\n",
      "Eval num_timesteps=6734400, episode_reward=4.06 +/- 8.91\n",
      "Episode length: 192.00 +/- 0.00\n",
      "Eval num_timesteps=6744400, episode_reward=17.83 +/- 9.99\n",
      "Episode length: 192.00 +/- 0.00\n",
      "Eval num_timesteps=6754400, episode_reward=12.07 +/- 21.50\n",
      "Episode length: 192.00 +/- 0.00\n",
      "Eval num_timesteps=6764400, episode_reward=-16.95 +/- 38.43\n",
      "Episode length: 192.00 +/- 0.00\n",
      "Eval num_timesteps=6774400, episode_reward=11.98 +/- 5.25\n",
      "Episode length: 192.00 +/- 0.00\n",
      "Eval num_timesteps=6784400, episode_reward=8.46 +/- 21.44\n",
      "Episode length: 192.00 +/- 0.00\n",
      "Eval num_timesteps=6794400, episode_reward=20.91 +/- 19.42\n",
      "Episode length: 192.00 +/- 0.00\n",
      "Eval num_timesteps=6804400, episode_reward=-14.55 +/- 39.37\n",
      "Episode length: 192.00 +/- 0.00\n",
      "Eval num_timesteps=6814400, episode_reward=11.15 +/- 15.05\n",
      "Episode length: 192.00 +/- 0.00\n",
      "Eval num_timesteps=6824400, episode_reward=10.06 +/- 17.93\n",
      "Episode length: 192.00 +/- 0.00\n",
      "Eval num_timesteps=6834400, episode_reward=10.53 +/- 8.12\n",
      "Episode length: 192.00 +/- 0.00\n",
      "Eval num_timesteps=6844400, episode_reward=-0.44 +/- 23.04\n",
      "Episode length: 192.00 +/- 0.00\n",
      "Eval num_timesteps=6854400, episode_reward=7.41 +/- 26.47\n",
      "Episode length: 192.00 +/- 0.00\n",
      "Eval num_timesteps=6864400, episode_reward=-10.95 +/- 25.97\n",
      "Episode length: 192.00 +/- 0.00\n",
      "Eval num_timesteps=6874400, episode_reward=-6.64 +/- 29.77\n",
      "Episode length: 192.00 +/- 0.00\n",
      "Eval num_timesteps=6884400, episode_reward=2.06 +/- 17.98\n",
      "Episode length: 192.00 +/- 0.00\n",
      "Eval num_timesteps=6894400, episode_reward=17.62 +/- 16.84\n",
      "Episode length: 192.00 +/- 0.00\n",
      "Eval num_timesteps=6904400, episode_reward=15.09 +/- 15.23\n",
      "Episode length: 192.00 +/- 0.00\n",
      "Eval num_timesteps=6914400, episode_reward=14.91 +/- 10.56\n",
      "Episode length: 192.00 +/- 0.00\n",
      "Eval num_timesteps=6924400, episode_reward=-13.28 +/- 31.36\n",
      "Episode length: 192.00 +/- 0.00\n",
      "Eval num_timesteps=6934400, episode_reward=-26.08 +/- 28.71\n",
      "Episode length: 192.00 +/- 0.00\n",
      "Eval num_timesteps=6944400, episode_reward=3.44 +/- 8.31\n",
      "Episode length: 192.00 +/- 0.00\n",
      "Eval num_timesteps=6954400, episode_reward=-28.05 +/- 47.03\n",
      "Episode length: 192.00 +/- 0.00\n",
      "Eval num_timesteps=6964400, episode_reward=5.51 +/- 24.87\n",
      "Episode length: 192.00 +/- 0.00\n",
      "Eval num_timesteps=6974400, episode_reward=-17.24 +/- 37.78\n",
      "Episode length: 192.00 +/- 0.00\n",
      "Eval num_timesteps=6984400, episode_reward=-63.54 +/- 54.92\n",
      "Episode length: 192.00 +/- 0.00\n",
      "Eval num_timesteps=6994400, episode_reward=-109.28 +/- 105.21\n",
      "Episode length: 192.00 +/- 0.00\n",
      "Eval num_timesteps=7004400, episode_reward=3.90 +/- 11.09\n",
      "Episode length: 192.00 +/- 0.00\n",
      "Eval num_timesteps=7014400, episode_reward=-66.97 +/- 84.43\n",
      "Episode length: 192.00 +/- 0.00\n",
      "Eval num_timesteps=7024400, episode_reward=-21.07 +/- 28.57\n",
      "Episode length: 192.00 +/- 0.00\n",
      "Eval num_timesteps=7034400, episode_reward=-39.54 +/- 69.09\n",
      "Episode length: 192.00 +/- 0.00\n",
      "Eval num_timesteps=7044400, episode_reward=-10.54 +/- 12.77\n",
      "Episode length: 192.00 +/- 0.00\n",
      "Eval num_timesteps=7054400, episode_reward=-8.45 +/- 24.23\n",
      "Episode length: 192.00 +/- 0.00\n",
      "Eval num_timesteps=7064400, episode_reward=-46.22 +/- 70.00\n",
      "Episode length: 192.00 +/- 0.00\n",
      "Eval num_timesteps=7074400, episode_reward=-4.51 +/- 26.36\n",
      "Episode length: 192.00 +/- 0.00\n",
      "Eval num_timesteps=7084400, episode_reward=-34.71 +/- 76.03\n",
      "Episode length: 192.00 +/- 0.00\n",
      "Eval num_timesteps=7094400, episode_reward=-21.44 +/- 41.09\n",
      "Episode length: 192.00 +/- 0.00\n",
      "Eval num_timesteps=7104400, episode_reward=-37.70 +/- 70.76\n",
      "Episode length: 192.00 +/- 0.00\n",
      "Eval num_timesteps=7114400, episode_reward=-36.12 +/- 52.37\n",
      "Episode length: 192.00 +/- 0.00\n",
      "Eval num_timesteps=7124400, episode_reward=-22.42 +/- 16.98\n",
      "Episode length: 192.00 +/- 0.00\n",
      "Eval num_timesteps=7134400, episode_reward=13.10 +/- 10.92\n",
      "Episode length: 192.00 +/- 0.00\n",
      "Eval num_timesteps=7144400, episode_reward=13.29 +/- 24.74\n",
      "Episode length: 192.00 +/- 0.00\n",
      "Eval num_timesteps=7154400, episode_reward=-20.71 +/- 46.67\n",
      "Episode length: 192.00 +/- 0.00\n",
      "Eval num_timesteps=7164400, episode_reward=2.55 +/- 5.73\n",
      "Episode length: 192.00 +/- 0.00\n",
      "Eval num_timesteps=7174400, episode_reward=-46.05 +/- 98.87\n",
      "Episode length: 192.00 +/- 0.00\n",
      "Eval num_timesteps=7184400, episode_reward=13.43 +/- 13.29\n",
      "Episode length: 192.00 +/- 0.00\n",
      "Eval num_timesteps=7194400, episode_reward=20.90 +/- 10.40\n",
      "Episode length: 192.00 +/- 0.00\n",
      "Eval num_timesteps=7204400, episode_reward=18.23 +/- 18.21\n",
      "Episode length: 192.00 +/- 0.00\n",
      "Eval num_timesteps=7214400, episode_reward=16.85 +/- 12.72\n",
      "Episode length: 192.00 +/- 0.00\n",
      "Eval num_timesteps=7224400, episode_reward=11.15 +/- 8.41\n",
      "Episode length: 192.00 +/- 0.00\n",
      "Eval num_timesteps=7234400, episode_reward=2.35 +/- 7.66\n",
      "Episode length: 192.00 +/- 0.00\n",
      "Eval num_timesteps=7244400, episode_reward=8.85 +/- 13.78\n",
      "Episode length: 192.00 +/- 0.00\n",
      "Eval num_timesteps=7254400, episode_reward=4.14 +/- 12.52\n",
      "Episode length: 192.00 +/- 0.00\n",
      "Eval num_timesteps=7264400, episode_reward=6.44 +/- 17.64\n",
      "Episode length: 192.00 +/- 0.00\n",
      "Eval num_timesteps=7274400, episode_reward=13.20 +/- 6.23\n",
      "Episode length: 192.00 +/- 0.00\n",
      "Eval num_timesteps=7284400, episode_reward=-5.68 +/- 24.03\n",
      "Episode length: 192.00 +/- 0.00\n",
      "Eval num_timesteps=7294400, episode_reward=-1.89 +/- 24.28\n",
      "Episode length: 192.00 +/- 0.00\n",
      "Eval num_timesteps=7304400, episode_reward=15.55 +/- 20.49\n",
      "Episode length: 192.00 +/- 0.00\n",
      "Eval num_timesteps=7314400, episode_reward=-1.58 +/- 25.64\n",
      "Episode length: 192.00 +/- 0.00\n",
      "Eval num_timesteps=7324400, episode_reward=3.95 +/- 11.89\n",
      "Episode length: 192.00 +/- 0.00\n",
      "Eval num_timesteps=7334400, episode_reward=0.89 +/- 13.18\n",
      "Episode length: 192.00 +/- 0.00\n",
      "Eval num_timesteps=7344400, episode_reward=2.70 +/- 28.46\n",
      "Episode length: 192.00 +/- 0.00\n",
      "Eval num_timesteps=7354400, episode_reward=6.46 +/- 19.25\n",
      "Episode length: 192.00 +/- 0.00\n",
      "Eval num_timesteps=7364400, episode_reward=4.24 +/- 16.10\n",
      "Episode length: 192.00 +/- 0.00\n",
      "Eval num_timesteps=7374400, episode_reward=10.18 +/- 9.30\n",
      "Episode length: 192.00 +/- 0.00\n",
      "Eval num_timesteps=7384400, episode_reward=-33.27 +/- 72.84\n",
      "Episode length: 192.00 +/- 0.00\n",
      "Eval num_timesteps=7404400, episode_reward=-5.14 +/- 25.81\n",
      "Episode length: 192.00 +/- 0.00\n",
      "Eval num_timesteps=7414400, episode_reward=20.20 +/- 18.52\n",
      "Episode length: 192.00 +/- 0.00\n",
      "Eval num_timesteps=7424400, episode_reward=14.49 +/- 13.60\n",
      "Episode length: 192.00 +/- 0.00\n",
      "Eval num_timesteps=7434400, episode_reward=15.80 +/- 5.35\n",
      "Episode length: 192.00 +/- 0.00\n"
     ]
    }
   ],
   "source": [
    "saving_interval = 50000\n",
    "for i in range(0, 80):\n",
    "    model.learn(total_timesteps=saving_interval, \n",
    "                reset_num_timesteps=False, \n",
    "                tb_log_name=f\"PPO_{time_now}_{comment}\",\n",
    "                callback=[eval_callback])\n",
    "    \n",
    "    model.save(f\"{trained_agents_dir}/{saving_interval * i}\")\n",
    "\n",
    "    # Don't forget to save the VecNormalize statistics when saving the agent\n",
    "    log_dir = \"./tmp/vec_PPO/\"\n",
    "    model.save(log_dir + f\"PPO-fleet_{comment}\")\n",
    "    stats_path = os.path.join(log_dir, f\"vec_normalize-{comment}.pkl\")\n",
    "    train_norm_vec_env.save(stats_path)"
   ]
  }
 ],
 "metadata": {
  "environment": {
   "kernel": "python3",
   "name": "pytorch-gpu.1-13.m108",
   "type": "gcloud",
   "uri": "gcr.io/deeplearning-platform-release/pytorch-gpu.1-13:m108"
  },
  "kernelspec": {
   "display_name": "Python 3 (ipykernel)",
   "language": "python",
   "name": "python3"
  },
  "language_info": {
   "codemirror_mode": {
    "name": "ipython",
    "version": 3
   },
   "file_extension": ".py",
   "mimetype": "text/x-python",
   "name": "python",
   "nbconvert_exporter": "python",
   "pygments_lexer": "ipython3",
   "version": "3.10.6"
  }
 },
 "nbformat": 4,
 "nbformat_minor": 4
}
