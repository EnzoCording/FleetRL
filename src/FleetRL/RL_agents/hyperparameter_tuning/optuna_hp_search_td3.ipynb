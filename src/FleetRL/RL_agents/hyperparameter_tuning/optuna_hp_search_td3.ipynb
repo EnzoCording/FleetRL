{
 "cells": [
  {
   "cell_type": "code",
   "execution_count": 17,
   "id": "801eea4f-512c-4a33-9592-9318caa7b821",
   "metadata": {
    "ExecuteTime": {
     "start_time": "2023-06-21T12:46:33.671995Z",
     "end_time": "2023-06-21T12:46:33.691343Z"
    }
   },
   "outputs": [],
   "source": [
    "from optuna.trial import Trial\n",
    "from stable_baselines3.common.vec_env import DummyVecEnv, SubprocVecEnv, VecNormalize\n",
    "from stable_baselines3.common.env_util import make_vec_env\n",
    "from pink import PinkNoiseDist, PinkActionNoise\n",
    "from stable_baselines3.common.callbacks import BaseCallback, EvalCallback, ProgressBarCallback\n",
    "from stable_baselines3.common.logger import HParam\n",
    "from FleetRL.fleet_env.fleet_environment import FleetEnv\n",
    "import optuna\n",
    "from stable_baselines3 import TD3\n",
    "from stable_baselines3.common.evaluation import evaluate_policy\n",
    "import time\n",
    "import os"
   ]
  },
  {
   "cell_type": "code",
   "execution_count": 18,
   "id": "6186f18e-942e-4e77-8389-3aaaf5544c7f",
   "metadata": {
    "ExecuteTime": {
     "start_time": "2023-06-21T12:46:33.724237Z",
     "end_time": "2023-06-21T12:46:33.778395Z"
    }
   },
   "outputs": [],
   "source": [
    "run_name = \"td3_full_vecnorm_clip5_hp_study_aux\""
   ]
  },
  {
   "cell_type": "code",
   "execution_count": 19,
   "id": "e4827d2c-74bf-4423-94a4-969c475ad87d",
   "metadata": {
    "ExecuteTime": {
     "start_time": "2023-06-21T12:46:33.726174Z",
     "end_time": "2023-06-21T12:46:33.779425Z"
    }
   },
   "outputs": [],
   "source": [
    "time_now = int(time.time())\n",
    "trained_agents_dir = f\"./trained/vec_TD3-{time_now}-{run_name}\"\n",
    "logs_dir = f\"./logs/vec_TD3-{time_now}-{run_name}\"\n",
    "\n",
    "if not os.path.exists(trained_agents_dir):\n",
    "    os.makedirs(trained_agents_dir)\n",
    "\n",
    "if not os.path.exists(logs_dir):\n",
    "    os.makedirs(logs_dir)"
   ]
  },
  {
   "cell_type": "code",
   "execution_count": 20,
   "id": "e8622bee-2c78-4f91-b474-5b0ce3f1d9b4",
   "metadata": {
    "ExecuteTime": {
     "start_time": "2023-06-21T12:46:33.729287Z",
     "end_time": "2023-06-21T12:46:38.577211Z"
    }
   },
   "outputs": [],
   "source": [
    "n_cpu = 4\n",
    "train_vec_env = make_vec_env(FleetEnv,\n",
    "                             n_envs=n_cpu,\n",
    "                             vec_env_cls=SubprocVecEnv,\n",
    "                             env_kwargs={\n",
    "                                 \"schedule_name\": \"lmd_sched_single.csv\",\n",
    "                                 \"building_name\": \"load_lmd.csv\",\n",
    "                                 \"include_building\": True,\n",
    "                                 \"include_pv\": True,\n",
    "                                 \"time_picker\": \"random\",\n",
    "                                 \"deg_emp\": False,\n",
    "                                 \"include_price\": True,\n",
    "                                 \"ignore_price_reward\": False,\n",
    "                                 \"ignore_invalid_penalty\": False,\n",
    "                                 \"ignore_overcharging_penalty\": False,\n",
    "                                 \"ignore_overloading_penalty\": False,\n",
    "                                 \"episode_length\": 48,\n",
    "                                 \"normalize_in_env\": False,\n",
    "                                 \"verbose\": 0,\n",
    "                                 \"aux\": True,\n",
    "                                 \"use_case\": \"lmd\"\n",
    "                             })"
   ]
  },
  {
   "cell_type": "code",
   "execution_count": 21,
   "id": "c9310e1c-b364-409b-9cb2-c1fab489108b",
   "metadata": {
    "ExecuteTime": {
     "start_time": "2023-06-21T12:46:38.580814Z",
     "end_time": "2023-06-21T12:46:38.583021Z"
    }
   },
   "outputs": [],
   "source": [
    "vec_norm_train_env = VecNormalize(venv=train_vec_env,\n",
    "                                  training=True,\n",
    "                                  norm_obs=True,\n",
    "                                  norm_reward=True,\n",
    "                                  clip_reward=10.0)"
   ]
  },
  {
   "cell_type": "code",
   "execution_count": 22,
   "outputs": [],
   "source": [
    "n_cpu = 4\n",
    "eval_vec_env = make_vec_env(FleetEnv,\n",
    "                             n_envs=1,\n",
    "                             vec_env_cls=SubprocVecEnv,\n",
    "                             env_kwargs={\n",
    "                                 \"schedule_name\": \"lmd_sched_single.csv\",\n",
    "                                 \"building_name\": \"load_lmd.csv\",\n",
    "                                 \"include_building\": True,\n",
    "                                 \"include_pv\": True,\n",
    "                                 \"time_picker\": \"eval\",\n",
    "                                 \"deg_emp\": False,\n",
    "                                 \"include_price\": True,\n",
    "                                 \"ignore_price_reward\": False,\n",
    "                                 \"ignore_invalid_penalty\": False,\n",
    "                                 \"ignore_overcharging_penalty\": False,\n",
    "                                 \"ignore_overloading_penalty\": False,\n",
    "                                 \"episode_length\": 48,\n",
    "                                 \"normalize_in_env\": False,\n",
    "                                 \"verbose\": 0,\n",
    "                                 \"aux\": True,\n",
    "                                 \"use_case\": \"lmd\"\n",
    "                             })"
   ],
   "metadata": {
    "collapsed": false,
    "ExecuteTime": {
     "start_time": "2023-06-21T12:46:38.585818Z",
     "end_time": "2023-06-21T12:46:43.051745Z"
    }
   }
  },
  {
   "cell_type": "code",
   "execution_count": 23,
   "outputs": [],
   "source": [
    "vec_norm_eval_env = VecNormalize(venv=eval_vec_env,\n",
    "                                 training=True,\n",
    "                                 norm_obs=True,\n",
    "                                 norm_reward=True,\n",
    "                                 clip_reward=10.0)"
   ],
   "metadata": {
    "collapsed": false,
    "ExecuteTime": {
     "start_time": "2023-06-21T12:46:43.055473Z",
     "end_time": "2023-06-21T12:46:43.058842Z"
    }
   }
  },
  {
   "cell_type": "code",
   "execution_count": 24,
   "outputs": [],
   "source": [
    "class HyperParamCallback(BaseCallback):\n",
    "    \"\"\"\n",
    "    Saves hyperparameters and metrics at start of training, logging to tensorboard\n",
    "    \"\"\"\n",
    "\n",
    "    def _on_training_start(self) -> None:\n",
    "        hparam_dict = {\n",
    "            \"algorithm\": self.model.__class__.__name__,\n",
    "            \"learning rate\": self.model.learning_rate,\n",
    "            \"gamma\": self.model.gamma,\n",
    "            \"tau\": self.model.tau,\n",
    "            \"learning starts\": self.model.learning_starts,\n",
    "            \"batch size\": self.model.batch_size,\n",
    "            \"buffer size\": self.model.buffer_size,\n",
    "            \"policy_delay\": self.model.policy_delay,\n",
    "        }\n",
    "\n",
    "        metric_dict = {\n",
    "            \"rollout/ep_len_mean\": 0,\n",
    "            \"train/value_loss\": 0.0,\n",
    "        }\n",
    "\n",
    "        self.logger.record(\n",
    "            \"hparams\",\n",
    "            HParam(hparam_dict, metric_dict),\n",
    "            exclude=(\"stdout\", \"log\", \"json\", \"csv\")\n",
    "        )\n",
    "\n",
    "    def _on_step(self) -> bool:\n",
    "        return True\n"
   ],
   "metadata": {
    "collapsed": false,
    "ExecuteTime": {
     "start_time": "2023-06-21T12:46:43.064514Z",
     "end_time": "2023-06-21T12:46:43.080241Z"
    }
   }
  },
  {
   "cell_type": "code",
   "execution_count": 25,
   "outputs": [],
   "source": [
    "hp_callback = HyperParamCallback()\n",
    "progress_bar_callback = ProgressBarCallback()"
   ],
   "metadata": {
    "collapsed": false,
    "ExecuteTime": {
     "start_time": "2023-06-21T12:46:43.074914Z",
     "end_time": "2023-06-21T12:46:43.101561Z"
    }
   }
  },
  {
   "cell_type": "code",
   "execution_count": 26,
   "outputs": [],
   "source": [
    "n_actions = vec_norm_train_env.action_space.shape[-1]\n",
    "param_noise = None\n",
    "seq_len = 48 * 4"
   ],
   "metadata": {
    "collapsed": false,
    "ExecuteTime": {
     "start_time": "2023-06-21T12:46:43.087002Z",
     "end_time": "2023-06-21T12:46:43.102174Z"
    }
   }
  },
  {
   "cell_type": "code",
   "execution_count": 27,
   "id": "5becf068-bc31-4b16-8b56-138aef22acfd",
   "metadata": {
    "ExecuteTime": {
     "start_time": "2023-06-21T12:46:43.138241Z",
     "end_time": "2023-06-21T12:46:43.139502Z"
    }
   },
   "outputs": [],
   "source": [
    "def objective(trial: Trial):\n",
    "    noise_scale = trial.suggest_categorical(\"noise_scale\", [0.1, 0.2, 0.3, 0.4, 0.5])\n",
    "    action_noise = PinkActionNoise(noise_scale, seq_len, n_actions)\n",
    "    gamma = trial.suggest_categorical('gamma', [0.9, 0.91, 0.95, 0.97, 0.99])\n",
    "    learning_rate = trial.suggest_categorical('learning_rate', [1e-5, 5e-5, 1e-4, 5e-4, 1e-3, 3e-3, 5e-3, 1e-2, 3e-2, 5e-2, 1e-1])\n",
    "    buffer_size = trial.suggest_categorical('buffer_size', [10000, 50000, 50000, 1000000])\n",
    "    batch_size = trial.suggest_categorical('batch_size', [32, 64, 128, 256, 512])\n",
    "    tau = trial.suggest_categorical('tau', [0.0001, 0.0005, 0.0008, 0.001, 0.003, 0.005, 0.01])\n",
    "    learning_starts = trial.suggest_categorical('learning_starts', [5000, 10000, 50000])\n",
    "    train_freq = trial.suggest_categorical('train_freq', [2, 4, 8])\n",
    "\n",
    "    model = TD3('MlpPolicy',\n",
    "            env=vec_norm_train_env,\n",
    "            verbose=0,\n",
    "            learning_rate=learning_rate,\n",
    "            learning_starts=learning_starts,\n",
    "            buffer_size=buffer_size,\n",
    "            batch_size=batch_size,\n",
    "            gamma=gamma,\n",
    "            tau=tau,\n",
    "            train_freq=train_freq,\n",
    "            action_noise=action_noise,\n",
    "            tensorboard_log=\"./tb_log_hp\"\n",
    "           )\n",
    "\n",
    "    model.learn(50000, callback=hp_callback)\n",
    "\n",
    "    mean_reward, _ = evaluate_policy(model, env=vec_norm_eval_env, n_eval_episodes=5, deterministic=True)\n",
    "    return mean_reward"
   ]
  },
  {
   "cell_type": "code",
   "execution_count": 28,
   "outputs": [
    {
     "name": "stderr",
     "output_type": "stream",
     "text": [
      "[I 2023-06-21 12:46:43,107] A new study created in memory with name: no-name-3739491d-0b81-459d-ba8c-539c64577440\n"
     ]
    },
    {
     "data": {
      "text/plain": "Output()",
      "application/vnd.jupyter.widget-view+json": {
       "version_major": 2,
       "version_minor": 0,
       "model_id": "bd25d8282cb544b7bcf2ebc9f9ceccc5"
      }
     },
     "metadata": {},
     "output_type": "display_data"
    },
    {
     "data": {
      "text/plain": "",
      "text/html": "<pre style=\"white-space:pre;overflow-x:auto;line-height:normal;font-family:Menlo,'DejaVu Sans Mono',consolas,'Courier New',monospace\"></pre>\n"
     },
     "metadata": {},
     "output_type": "display_data"
    },
    {
     "data": {
      "text/plain": "\n",
      "text/html": "<pre style=\"white-space:pre;overflow-x:auto;line-height:normal;font-family:Menlo,'DejaVu Sans Mono',consolas,'Courier New',monospace\">\n</pre>\n"
     },
     "metadata": {},
     "output_type": "display_data"
    },
    {
     "name": "stderr",
     "output_type": "stream",
     "text": [
      "[I 2023-06-21 12:47:17,664] Trial 0 finished with value: -171.7580381 and parameters: {'noise_scale': 0.1, 'gamma': 0.9, 'learning_rate': 5e-05, 'buffer_size': 50000, 'batch_size': 512, 'tau': 0.003, 'learning_starts': 50000, 'train_freq': 4}. Best is trial 0 with value: -171.7580381.\n"
     ]
    },
    {
     "data": {
      "text/plain": "Output()",
      "application/vnd.jupyter.widget-view+json": {
       "version_major": 2,
       "version_minor": 0,
       "model_id": "a30c4fa8bf1849edbc24ddbc48441dc3"
      }
     },
     "metadata": {},
     "output_type": "display_data"
    },
    {
     "data": {
      "text/plain": "",
      "text/html": "<pre style=\"white-space:pre;overflow-x:auto;line-height:normal;font-family:Menlo,'DejaVu Sans Mono',consolas,'Courier New',monospace\"></pre>\n"
     },
     "metadata": {},
     "output_type": "display_data"
    },
    {
     "data": {
      "text/plain": "\n",
      "text/html": "<pre style=\"white-space:pre;overflow-x:auto;line-height:normal;font-family:Menlo,'DejaVu Sans Mono',consolas,'Courier New',monospace\">\n</pre>\n"
     },
     "metadata": {},
     "output_type": "display_data"
    },
    {
     "name": "stderr",
     "output_type": "stream",
     "text": [
      "Process ForkServerProcess-10:\n",
      "Process ForkServerProcess-6:\n",
      "Process ForkServerProcess-8:\n",
      "Process ForkServerProcess-7:\n",
      "Process ForkServerProcess-9:\n",
      "Traceback (most recent call last):\n",
      "  File \"/usr/lib/python3.10/multiprocessing/process.py\", line 314, in _bootstrap\n",
      "    self.run()\n",
      "  File \"/usr/lib/python3.10/multiprocessing/process.py\", line 108, in run\n",
      "    self._target(*self._args, **self._kwargs)\n",
      "  File \"/home/enzo/Desktop/FleetRL/venv/lib/python3.10/site-packages/stable_baselines3/common/vec_env/subproc_vec_env.py\", line 34, in _worker\n",
      "    cmd, data = remote.recv()\n",
      "  File \"/usr/lib/python3.10/multiprocessing/connection.py\", line 250, in recv\n",
      "    buf = self._recv_bytes()\n",
      "  File \"/usr/lib/python3.10/multiprocessing/connection.py\", line 414, in _recv_bytes\n",
      "    buf = self._recv(4)\n",
      "  File \"/usr/lib/python3.10/multiprocessing/connection.py\", line 379, in _recv\n",
      "    chunk = read(handle, remaining)\n",
      "KeyboardInterrupt\n",
      "Traceback (most recent call last):\n",
      "Traceback (most recent call last):\n",
      "Traceback (most recent call last):\n",
      "  File \"/usr/lib/python3.10/multiprocessing/process.py\", line 314, in _bootstrap\n",
      "    self.run()\n",
      "  File \"/usr/lib/python3.10/multiprocessing/process.py\", line 314, in _bootstrap\n",
      "    self.run()\n",
      "  File \"/usr/lib/python3.10/multiprocessing/process.py\", line 108, in run\n",
      "    self._target(*self._args, **self._kwargs)\n",
      "  File \"/usr/lib/python3.10/multiprocessing/process.py\", line 314, in _bootstrap\n",
      "    self.run()\n",
      "  File \"/usr/lib/python3.10/multiprocessing/process.py\", line 108, in run\n",
      "    self._target(*self._args, **self._kwargs)\n",
      "  File \"/home/enzo/Desktop/FleetRL/venv/lib/python3.10/site-packages/stable_baselines3/common/vec_env/subproc_vec_env.py\", line 34, in _worker\n",
      "    cmd, data = remote.recv()\n",
      "  File \"/home/enzo/Desktop/FleetRL/venv/lib/python3.10/site-packages/stable_baselines3/common/vec_env/subproc_vec_env.py\", line 34, in _worker\n",
      "    cmd, data = remote.recv()\n",
      "  File \"/usr/lib/python3.10/multiprocessing/process.py\", line 108, in run\n",
      "    self._target(*self._args, **self._kwargs)\n",
      "  File \"/usr/lib/python3.10/multiprocessing/connection.py\", line 250, in recv\n",
      "    buf = self._recv_bytes()\n",
      "  File \"/usr/lib/python3.10/multiprocessing/connection.py\", line 250, in recv\n",
      "    buf = self._recv_bytes()\n",
      "  File \"/home/enzo/Desktop/FleetRL/venv/lib/python3.10/site-packages/stable_baselines3/common/vec_env/subproc_vec_env.py\", line 34, in _worker\n",
      "    cmd, data = remote.recv()\n",
      "  File \"/usr/lib/python3.10/multiprocessing/connection.py\", line 414, in _recv_bytes\n",
      "    buf = self._recv(4)\n",
      "  File \"/usr/lib/python3.10/multiprocessing/connection.py\", line 414, in _recv_bytes\n",
      "    buf = self._recv(4)\n",
      "  File \"/usr/lib/python3.10/multiprocessing/connection.py\", line 379, in _recv\n",
      "    chunk = read(handle, remaining)\n",
      "  File \"/usr/lib/python3.10/multiprocessing/connection.py\", line 250, in recv\n",
      "    buf = self._recv_bytes()\n",
      "  File \"/usr/lib/python3.10/multiprocessing/connection.py\", line 379, in _recv\n",
      "    chunk = read(handle, remaining)\n",
      "  File \"/usr/lib/python3.10/multiprocessing/connection.py\", line 414, in _recv_bytes\n",
      "    buf = self._recv(4)\n",
      "  File \"/usr/lib/python3.10/multiprocessing/connection.py\", line 379, in _recv\n",
      "    chunk = read(handle, remaining)\n",
      "KeyboardInterrupt\n",
      "KeyboardInterrupt\n",
      "KeyboardInterrupt\n",
      "[W 2023-06-21 12:47:30,585] Trial 1 failed with parameters: {'noise_scale': 0.1, 'gamma': 0.97, 'learning_rate': 0.0001, 'buffer_size': 10000, 'batch_size': 256, 'tau': 0.0005, 'learning_starts': 10000, 'train_freq': 2} because of the following error: KeyboardInterrupt().\n",
      "Traceback (most recent call last):\n",
      "  File \"/home/enzo/Desktop/FleetRL/venv/lib/python3.10/site-packages/optuna/study/_optimize.py\", line 200, in _run_trial\n",
      "    value_or_values = func(trial)\n",
      "  File \"/tmp/ipykernel_22072/230886827.py\", line 28, in objective\n",
      "    mean_reward, _ = evaluate_policy(model, env=vec_norm_eval_env, n_eval_episodes=10, deterministic=True)\n",
      "  File \"/home/enzo/Desktop/FleetRL/venv/lib/python3.10/site-packages/stable_baselines3/common/evaluation.py\", line 94, in evaluate_policy\n",
      "    new_observations, rewards, dones, infos = env.step(actions)\n",
      "  File \"/home/enzo/Desktop/FleetRL/venv/lib/python3.10/site-packages/stable_baselines3/common/vec_env/base_vec_env.py\", line 171, in step\n",
      "    return self.step_wait()\n",
      "  File \"/home/enzo/Desktop/FleetRL/venv/lib/python3.10/site-packages/stable_baselines3/common/vec_env/vec_normalize.py\", line 178, in step_wait\n",
      "    obs, rewards, dones, infos = self.venv.step_wait()\n",
      "  File \"/home/enzo/Desktop/FleetRL/venv/lib/python3.10/site-packages/stable_baselines3/common/vec_env/subproc_vec_env.py\", line 133, in step_wait\n",
      "    results = [remote.recv() for remote in self.remotes]\n",
      "  File \"/home/enzo/Desktop/FleetRL/venv/lib/python3.10/site-packages/stable_baselines3/common/vec_env/subproc_vec_env.py\", line 133, in <listcomp>\n",
      "    results = [remote.recv() for remote in self.remotes]\n",
      "  File \"/usr/lib/python3.10/multiprocessing/connection.py\", line 250, in recv\n",
      "    buf = self._recv_bytes()\n",
      "  File \"/usr/lib/python3.10/multiprocessing/connection.py\", line 414, in _recv_bytes\n",
      "    buf = self._recv(4)\n",
      "  File \"/usr/lib/python3.10/multiprocessing/connection.py\", line 379, in _recv\n",
      "    chunk = read(handle, remaining)\n",
      "KeyboardInterrupt\n",
      "[W 2023-06-21 12:47:30,593] Trial 1 failed with value None.\n",
      "Traceback (most recent call last):\n",
      "  File \"/usr/lib/python3.10/multiprocessing/process.py\", line 314, in _bootstrap\n",
      "    self.run()\n",
      "  File \"/usr/lib/python3.10/multiprocessing/process.py\", line 108, in run\n",
      "    self._target(*self._args, **self._kwargs)\n",
      "  File \"/home/enzo/Desktop/FleetRL/venv/lib/python3.10/site-packages/stable_baselines3/common/vec_env/subproc_vec_env.py\", line 36, in _worker\n",
      "    observation, reward, terminated, truncated, info = env.step(data)\n",
      "  File \"/home/enzo/Desktop/FleetRL/venv/lib/python3.10/site-packages/stable_baselines3/common/monitor.py\", line 94, in step\n",
      "    observation, reward, terminated, truncated, info = self.env.step(action)\n",
      "  File \"/home/enzo/Desktop/FleetRL/src/FleetRL/fleet_env/fleet_environment.py\", line 582, in step\n",
      "    next_obs = self.observer.get_obs(self.db, self.time_conf.price_lookahead,\n",
      "  File \"/home/enzo/Desktop/FleetRL/src/FleetRL/utils/observation/observer_bl_pv.py\", line 66, in get_obs\n",
      "    pv = pv.resample(\"H\", on=\"date\").first()[\"pv\"].values\n",
      "  File \"/home/enzo/Desktop/FleetRL/venv/lib/python3.10/site-packages/pandas/core/resample.py\", line 934, in first\n",
      "    return self._downsample(\"first\", numeric_only=numeric_only, min_count=min_count)\n",
      "  File \"/home/enzo/Desktop/FleetRL/venv/lib/python3.10/site-packages/pandas/core/resample.py\", line 1297, in _downsample\n",
      "    result = obj.groupby(self.grouper, axis=self.axis).aggregate(how, **kwargs)\n",
      "  File \"/home/enzo/Desktop/FleetRL/venv/lib/python3.10/site-packages/pandas/core/groupby/generic.py\", line 1269, in aggregate\n",
      "    result = op.agg()\n",
      "  File \"/home/enzo/Desktop/FleetRL/venv/lib/python3.10/site-packages/pandas/core/apply.py\", line 160, in agg\n",
      "    return self.apply_str()\n",
      "  File \"/home/enzo/Desktop/FleetRL/venv/lib/python3.10/site-packages/pandas/core/apply.py\", line 496, in apply_str\n",
      "    return self._try_aggregate_string_function(obj, f, *self.args, **self.kwargs)\n",
      "  File \"/home/enzo/Desktop/FleetRL/venv/lib/python3.10/site-packages/pandas/core/apply.py\", line 565, in _try_aggregate_string_function\n",
      "    return f(*args, **kwargs)\n",
      "  File \"/home/enzo/Desktop/FleetRL/venv/lib/python3.10/site-packages/pandas/core/groupby/groupby.py\", line 2384, in first\n",
      "    return self._agg_general(\n",
      "  File \"/home/enzo/Desktop/FleetRL/venv/lib/python3.10/site-packages/pandas/core/groupby/groupby.py\", line 1422, in _agg_general\n",
      "    result = self._cython_agg_general(\n",
      "  File \"/home/enzo/Desktop/FleetRL/venv/lib/python3.10/site-packages/pandas/core/groupby/groupby.py\", line 1509, in _cython_agg_general\n",
      "    out = self._wrap_aggregated_output(res)\n",
      "  File \"/home/enzo/Desktop/FleetRL/venv/lib/python3.10/site-packages/pandas/core/groupby/groupby.py\", line 1166, in _wrap_aggregated_output\n",
      "    return self._reindex_output(res, qs=qs)\n",
      "  File \"/home/enzo/Desktop/FleetRL/venv/lib/python3.10/site-packages/pandas/core/groupby/groupby.py\", line 4040, in _reindex_output\n",
      "    groupings = self.grouper.groupings\n",
      "  File \"/home/enzo/Desktop/FleetRL/venv/lib/python3.10/site-packages/pandas/core/groupby/ops.py\", line 1181, in groupings\n",
      "    labels = lev.take(codes)\n",
      "  File \"/home/enzo/Desktop/FleetRL/venv/lib/python3.10/site-packages/pandas/core/indexes/datetimelike.py\", line 779, in take\n",
      "    result = NDArrayBackedExtensionIndex.take(\n",
      "  File \"/home/enzo/Desktop/FleetRL/venv/lib/python3.10/site-packages/pandas/core/indexes/base.py\", line 1096, in take\n",
      "    indices, allow_fill=allow_fill, fill_value=self._na_value\n",
      "  File \"pandas/_libs/properties.pyx\", line 36, in pandas._libs.properties.CachedProperty.__get__\n",
      "  File \"/home/enzo/Desktop/FleetRL/venv/lib/python3.10/site-packages/pandas/core/indexes/base.py\", line 2682, in _na_value\n",
      "    if isinstance(dtype, np.dtype):\n",
      "KeyboardInterrupt\n"
     ]
    },
    {
     "ename": "KeyboardInterrupt",
     "evalue": "",
     "output_type": "error",
     "traceback": [
      "\u001B[0;31m---------------------------------------------------------------------------\u001B[0m",
      "\u001B[0;31mKeyboardInterrupt\u001B[0m                         Traceback (most recent call last)",
      "Cell \u001B[0;32mIn[28], line 2\u001B[0m\n\u001B[1;32m      1\u001B[0m study \u001B[38;5;241m=\u001B[39m optuna\u001B[38;5;241m.\u001B[39mcreate_study(direction\u001B[38;5;241m=\u001B[39m\u001B[38;5;124m'\u001B[39m\u001B[38;5;124mmaximize\u001B[39m\u001B[38;5;124m'\u001B[39m)\n\u001B[0;32m----> 2\u001B[0m \u001B[43mstudy\u001B[49m\u001B[38;5;241;43m.\u001B[39;49m\u001B[43moptimize\u001B[49m\u001B[43m(\u001B[49m\u001B[43mobjective\u001B[49m\u001B[43m,\u001B[49m\u001B[43m \u001B[49m\u001B[43mn_trials\u001B[49m\u001B[38;5;241;43m=\u001B[39;49m\u001B[38;5;241;43m50\u001B[39;49m\u001B[43m)\u001B[49m\n\u001B[1;32m      4\u001B[0m \u001B[38;5;28mprint\u001B[39m(study\u001B[38;5;241m.\u001B[39mbest_params)\n\u001B[1;32m      5\u001B[0m \u001B[38;5;28mprint\u001B[39m(study\u001B[38;5;241m.\u001B[39mbest_value)\n",
      "File \u001B[0;32m~/Desktop/FleetRL/venv/lib/python3.10/site-packages/optuna/study/study.py:443\u001B[0m, in \u001B[0;36mStudy.optimize\u001B[0;34m(self, func, n_trials, timeout, n_jobs, catch, callbacks, gc_after_trial, show_progress_bar)\u001B[0m\n\u001B[1;32m    339\u001B[0m \u001B[38;5;28;01mdef\u001B[39;00m \u001B[38;5;21moptimize\u001B[39m(\n\u001B[1;32m    340\u001B[0m     \u001B[38;5;28mself\u001B[39m,\n\u001B[1;32m    341\u001B[0m     func: ObjectiveFuncType,\n\u001B[0;32m   (...)\u001B[0m\n\u001B[1;32m    348\u001B[0m     show_progress_bar: \u001B[38;5;28mbool\u001B[39m \u001B[38;5;241m=\u001B[39m \u001B[38;5;28;01mFalse\u001B[39;00m,\n\u001B[1;32m    349\u001B[0m ) \u001B[38;5;241m-\u001B[39m\u001B[38;5;241m>\u001B[39m \u001B[38;5;28;01mNone\u001B[39;00m:\n\u001B[1;32m    350\u001B[0m \u001B[38;5;250m    \u001B[39m\u001B[38;5;124;03m\"\"\"Optimize an objective function.\u001B[39;00m\n\u001B[1;32m    351\u001B[0m \n\u001B[1;32m    352\u001B[0m \u001B[38;5;124;03m    Optimization is done by choosing a suitable set of hyperparameter values from a given\u001B[39;00m\n\u001B[0;32m   (...)\u001B[0m\n\u001B[1;32m    440\u001B[0m \u001B[38;5;124;03m            If nested invocation of this method occurs.\u001B[39;00m\n\u001B[1;32m    441\u001B[0m \u001B[38;5;124;03m    \"\"\"\u001B[39;00m\n\u001B[0;32m--> 443\u001B[0m     \u001B[43m_optimize\u001B[49m\u001B[43m(\u001B[49m\n\u001B[1;32m    444\u001B[0m \u001B[43m        \u001B[49m\u001B[43mstudy\u001B[49m\u001B[38;5;241;43m=\u001B[39;49m\u001B[38;5;28;43mself\u001B[39;49m\u001B[43m,\u001B[49m\n\u001B[1;32m    445\u001B[0m \u001B[43m        \u001B[49m\u001B[43mfunc\u001B[49m\u001B[38;5;241;43m=\u001B[39;49m\u001B[43mfunc\u001B[49m\u001B[43m,\u001B[49m\n\u001B[1;32m    446\u001B[0m \u001B[43m        \u001B[49m\u001B[43mn_trials\u001B[49m\u001B[38;5;241;43m=\u001B[39;49m\u001B[43mn_trials\u001B[49m\u001B[43m,\u001B[49m\n\u001B[1;32m    447\u001B[0m \u001B[43m        \u001B[49m\u001B[43mtimeout\u001B[49m\u001B[38;5;241;43m=\u001B[39;49m\u001B[43mtimeout\u001B[49m\u001B[43m,\u001B[49m\n\u001B[1;32m    448\u001B[0m \u001B[43m        \u001B[49m\u001B[43mn_jobs\u001B[49m\u001B[38;5;241;43m=\u001B[39;49m\u001B[43mn_jobs\u001B[49m\u001B[43m,\u001B[49m\n\u001B[1;32m    449\u001B[0m \u001B[43m        \u001B[49m\u001B[43mcatch\u001B[49m\u001B[38;5;241;43m=\u001B[39;49m\u001B[38;5;28;43mtuple\u001B[39;49m\u001B[43m(\u001B[49m\u001B[43mcatch\u001B[49m\u001B[43m)\u001B[49m\u001B[43m \u001B[49m\u001B[38;5;28;43;01mif\u001B[39;49;00m\u001B[43m \u001B[49m\u001B[38;5;28;43misinstance\u001B[39;49m\u001B[43m(\u001B[49m\u001B[43mcatch\u001B[49m\u001B[43m,\u001B[49m\u001B[43m \u001B[49m\u001B[43mIterable\u001B[49m\u001B[43m)\u001B[49m\u001B[43m \u001B[49m\u001B[38;5;28;43;01melse\u001B[39;49;00m\u001B[43m \u001B[49m\u001B[43m(\u001B[49m\u001B[43mcatch\u001B[49m\u001B[43m,\u001B[49m\u001B[43m)\u001B[49m\u001B[43m,\u001B[49m\n\u001B[1;32m    450\u001B[0m \u001B[43m        \u001B[49m\u001B[43mcallbacks\u001B[49m\u001B[38;5;241;43m=\u001B[39;49m\u001B[43mcallbacks\u001B[49m\u001B[43m,\u001B[49m\n\u001B[1;32m    451\u001B[0m \u001B[43m        \u001B[49m\u001B[43mgc_after_trial\u001B[49m\u001B[38;5;241;43m=\u001B[39;49m\u001B[43mgc_after_trial\u001B[49m\u001B[43m,\u001B[49m\n\u001B[1;32m    452\u001B[0m \u001B[43m        \u001B[49m\u001B[43mshow_progress_bar\u001B[49m\u001B[38;5;241;43m=\u001B[39;49m\u001B[43mshow_progress_bar\u001B[49m\u001B[43m,\u001B[49m\n\u001B[1;32m    453\u001B[0m \u001B[43m    \u001B[49m\u001B[43m)\u001B[49m\n",
      "File \u001B[0;32m~/Desktop/FleetRL/venv/lib/python3.10/site-packages/optuna/study/_optimize.py:66\u001B[0m, in \u001B[0;36m_optimize\u001B[0;34m(study, func, n_trials, timeout, n_jobs, catch, callbacks, gc_after_trial, show_progress_bar)\u001B[0m\n\u001B[1;32m     64\u001B[0m \u001B[38;5;28;01mtry\u001B[39;00m:\n\u001B[1;32m     65\u001B[0m     \u001B[38;5;28;01mif\u001B[39;00m n_jobs \u001B[38;5;241m==\u001B[39m \u001B[38;5;241m1\u001B[39m:\n\u001B[0;32m---> 66\u001B[0m         \u001B[43m_optimize_sequential\u001B[49m\u001B[43m(\u001B[49m\n\u001B[1;32m     67\u001B[0m \u001B[43m            \u001B[49m\u001B[43mstudy\u001B[49m\u001B[43m,\u001B[49m\n\u001B[1;32m     68\u001B[0m \u001B[43m            \u001B[49m\u001B[43mfunc\u001B[49m\u001B[43m,\u001B[49m\n\u001B[1;32m     69\u001B[0m \u001B[43m            \u001B[49m\u001B[43mn_trials\u001B[49m\u001B[43m,\u001B[49m\n\u001B[1;32m     70\u001B[0m \u001B[43m            \u001B[49m\u001B[43mtimeout\u001B[49m\u001B[43m,\u001B[49m\n\u001B[1;32m     71\u001B[0m \u001B[43m            \u001B[49m\u001B[43mcatch\u001B[49m\u001B[43m,\u001B[49m\n\u001B[1;32m     72\u001B[0m \u001B[43m            \u001B[49m\u001B[43mcallbacks\u001B[49m\u001B[43m,\u001B[49m\n\u001B[1;32m     73\u001B[0m \u001B[43m            \u001B[49m\u001B[43mgc_after_trial\u001B[49m\u001B[43m,\u001B[49m\n\u001B[1;32m     74\u001B[0m \u001B[43m            \u001B[49m\u001B[43mreseed_sampler_rng\u001B[49m\u001B[38;5;241;43m=\u001B[39;49m\u001B[38;5;28;43;01mFalse\u001B[39;49;00m\u001B[43m,\u001B[49m\n\u001B[1;32m     75\u001B[0m \u001B[43m            \u001B[49m\u001B[43mtime_start\u001B[49m\u001B[38;5;241;43m=\u001B[39;49m\u001B[38;5;28;43;01mNone\u001B[39;49;00m\u001B[43m,\u001B[49m\n\u001B[1;32m     76\u001B[0m \u001B[43m            \u001B[49m\u001B[43mprogress_bar\u001B[49m\u001B[38;5;241;43m=\u001B[39;49m\u001B[43mprogress_bar\u001B[49m\u001B[43m,\u001B[49m\n\u001B[1;32m     77\u001B[0m \u001B[43m        \u001B[49m\u001B[43m)\u001B[49m\n\u001B[1;32m     78\u001B[0m     \u001B[38;5;28;01melse\u001B[39;00m:\n\u001B[1;32m     79\u001B[0m         \u001B[38;5;28;01mif\u001B[39;00m n_jobs \u001B[38;5;241m==\u001B[39m \u001B[38;5;241m-\u001B[39m\u001B[38;5;241m1\u001B[39m:\n",
      "File \u001B[0;32m~/Desktop/FleetRL/venv/lib/python3.10/site-packages/optuna/study/_optimize.py:163\u001B[0m, in \u001B[0;36m_optimize_sequential\u001B[0;34m(study, func, n_trials, timeout, catch, callbacks, gc_after_trial, reseed_sampler_rng, time_start, progress_bar)\u001B[0m\n\u001B[1;32m    160\u001B[0m         \u001B[38;5;28;01mbreak\u001B[39;00m\n\u001B[1;32m    162\u001B[0m \u001B[38;5;28;01mtry\u001B[39;00m:\n\u001B[0;32m--> 163\u001B[0m     frozen_trial \u001B[38;5;241m=\u001B[39m \u001B[43m_run_trial\u001B[49m\u001B[43m(\u001B[49m\u001B[43mstudy\u001B[49m\u001B[43m,\u001B[49m\u001B[43m \u001B[49m\u001B[43mfunc\u001B[49m\u001B[43m,\u001B[49m\u001B[43m \u001B[49m\u001B[43mcatch\u001B[49m\u001B[43m)\u001B[49m\n\u001B[1;32m    164\u001B[0m \u001B[38;5;28;01mfinally\u001B[39;00m:\n\u001B[1;32m    165\u001B[0m     \u001B[38;5;66;03m# The following line mitigates memory problems that can be occurred in some\u001B[39;00m\n\u001B[1;32m    166\u001B[0m     \u001B[38;5;66;03m# environments (e.g., services that use computing containers such as GitHub Actions).\u001B[39;00m\n\u001B[1;32m    167\u001B[0m     \u001B[38;5;66;03m# Please refer to the following PR for further details:\u001B[39;00m\n\u001B[1;32m    168\u001B[0m     \u001B[38;5;66;03m# https://github.com/optuna/optuna/pull/325.\u001B[39;00m\n\u001B[1;32m    169\u001B[0m     \u001B[38;5;28;01mif\u001B[39;00m gc_after_trial:\n",
      "File \u001B[0;32m~/Desktop/FleetRL/venv/lib/python3.10/site-packages/optuna/study/_optimize.py:251\u001B[0m, in \u001B[0;36m_run_trial\u001B[0;34m(study, func, catch)\u001B[0m\n\u001B[1;32m    244\u001B[0m         \u001B[38;5;28;01massert\u001B[39;00m \u001B[38;5;28;01mFalse\u001B[39;00m, \u001B[38;5;124m\"\u001B[39m\u001B[38;5;124mShould not reach.\u001B[39m\u001B[38;5;124m\"\u001B[39m\n\u001B[1;32m    246\u001B[0m \u001B[38;5;28;01mif\u001B[39;00m (\n\u001B[1;32m    247\u001B[0m     frozen_trial\u001B[38;5;241m.\u001B[39mstate \u001B[38;5;241m==\u001B[39m TrialState\u001B[38;5;241m.\u001B[39mFAIL\n\u001B[1;32m    248\u001B[0m     \u001B[38;5;129;01mand\u001B[39;00m func_err \u001B[38;5;129;01mis\u001B[39;00m \u001B[38;5;129;01mnot\u001B[39;00m \u001B[38;5;28;01mNone\u001B[39;00m\n\u001B[1;32m    249\u001B[0m     \u001B[38;5;129;01mand\u001B[39;00m \u001B[38;5;129;01mnot\u001B[39;00m \u001B[38;5;28misinstance\u001B[39m(func_err, catch)\n\u001B[1;32m    250\u001B[0m ):\n\u001B[0;32m--> 251\u001B[0m     \u001B[38;5;28;01mraise\u001B[39;00m func_err\n\u001B[1;32m    252\u001B[0m \u001B[38;5;28;01mreturn\u001B[39;00m frozen_trial\n",
      "File \u001B[0;32m~/Desktop/FleetRL/venv/lib/python3.10/site-packages/optuna/study/_optimize.py:200\u001B[0m, in \u001B[0;36m_run_trial\u001B[0;34m(study, func, catch)\u001B[0m\n\u001B[1;32m    198\u001B[0m \u001B[38;5;28;01mwith\u001B[39;00m get_heartbeat_thread(trial\u001B[38;5;241m.\u001B[39m_trial_id, study\u001B[38;5;241m.\u001B[39m_storage):\n\u001B[1;32m    199\u001B[0m     \u001B[38;5;28;01mtry\u001B[39;00m:\n\u001B[0;32m--> 200\u001B[0m         value_or_values \u001B[38;5;241m=\u001B[39m \u001B[43mfunc\u001B[49m\u001B[43m(\u001B[49m\u001B[43mtrial\u001B[49m\u001B[43m)\u001B[49m\n\u001B[1;32m    201\u001B[0m     \u001B[38;5;28;01mexcept\u001B[39;00m exceptions\u001B[38;5;241m.\u001B[39mTrialPruned \u001B[38;5;28;01mas\u001B[39;00m e:\n\u001B[1;32m    202\u001B[0m         \u001B[38;5;66;03m# TODO(mamu): Handle multi-objective cases.\u001B[39;00m\n\u001B[1;32m    203\u001B[0m         state \u001B[38;5;241m=\u001B[39m TrialState\u001B[38;5;241m.\u001B[39mPRUNED\n",
      "Cell \u001B[0;32mIn[27], line 28\u001B[0m, in \u001B[0;36mobjective\u001B[0;34m(trial)\u001B[0m\n\u001B[1;32m     12\u001B[0m model \u001B[38;5;241m=\u001B[39m TD3(\u001B[38;5;124m'\u001B[39m\u001B[38;5;124mMlpPolicy\u001B[39m\u001B[38;5;124m'\u001B[39m,\n\u001B[1;32m     13\u001B[0m         env\u001B[38;5;241m=\u001B[39mvec_norm_train_env,\n\u001B[1;32m     14\u001B[0m         verbose\u001B[38;5;241m=\u001B[39m\u001B[38;5;241m0\u001B[39m,\n\u001B[0;32m   (...)\u001B[0m\n\u001B[1;32m     23\u001B[0m         tensorboard_log\u001B[38;5;241m=\u001B[39m\u001B[38;5;124m\"\u001B[39m\u001B[38;5;124m./tb_log_hp\u001B[39m\u001B[38;5;124m\"\u001B[39m\n\u001B[1;32m     24\u001B[0m        )\n\u001B[1;32m     26\u001B[0m model\u001B[38;5;241m.\u001B[39mlearn(\u001B[38;5;241m50\u001B[39m, callback\u001B[38;5;241m=\u001B[39m[hp_callback, progress_bar_callback])\n\u001B[0;32m---> 28\u001B[0m mean_reward, _ \u001B[38;5;241m=\u001B[39m \u001B[43mevaluate_policy\u001B[49m\u001B[43m(\u001B[49m\u001B[43mmodel\u001B[49m\u001B[43m,\u001B[49m\u001B[43m \u001B[49m\u001B[43menv\u001B[49m\u001B[38;5;241;43m=\u001B[39;49m\u001B[43mvec_norm_eval_env\u001B[49m\u001B[43m,\u001B[49m\u001B[43m \u001B[49m\u001B[43mn_eval_episodes\u001B[49m\u001B[38;5;241;43m=\u001B[39;49m\u001B[38;5;241;43m10\u001B[39;49m\u001B[43m,\u001B[49m\u001B[43m \u001B[49m\u001B[43mdeterministic\u001B[49m\u001B[38;5;241;43m=\u001B[39;49m\u001B[38;5;28;43;01mTrue\u001B[39;49;00m\u001B[43m)\u001B[49m\n\u001B[1;32m     29\u001B[0m \u001B[38;5;28;01mreturn\u001B[39;00m mean_reward\n",
      "File \u001B[0;32m~/Desktop/FleetRL/venv/lib/python3.10/site-packages/stable_baselines3/common/evaluation.py:94\u001B[0m, in \u001B[0;36mevaluate_policy\u001B[0;34m(model, env, n_eval_episodes, deterministic, render, callback, reward_threshold, return_episode_rewards, warn)\u001B[0m\n\u001B[1;32m     87\u001B[0m \u001B[38;5;28;01mwhile\u001B[39;00m (episode_counts \u001B[38;5;241m<\u001B[39m episode_count_targets)\u001B[38;5;241m.\u001B[39many():\n\u001B[1;32m     88\u001B[0m     actions, states \u001B[38;5;241m=\u001B[39m model\u001B[38;5;241m.\u001B[39mpredict(\n\u001B[1;32m     89\u001B[0m         observations,  \u001B[38;5;66;03m# type: ignore[arg-type]\u001B[39;00m\n\u001B[1;32m     90\u001B[0m         state\u001B[38;5;241m=\u001B[39mstates,\n\u001B[1;32m     91\u001B[0m         episode_start\u001B[38;5;241m=\u001B[39mepisode_starts,\n\u001B[1;32m     92\u001B[0m         deterministic\u001B[38;5;241m=\u001B[39mdeterministic,\n\u001B[1;32m     93\u001B[0m     )\n\u001B[0;32m---> 94\u001B[0m     new_observations, rewards, dones, infos \u001B[38;5;241m=\u001B[39m \u001B[43menv\u001B[49m\u001B[38;5;241;43m.\u001B[39;49m\u001B[43mstep\u001B[49m\u001B[43m(\u001B[49m\u001B[43mactions\u001B[49m\u001B[43m)\u001B[49m\n\u001B[1;32m     95\u001B[0m     current_rewards \u001B[38;5;241m+\u001B[39m\u001B[38;5;241m=\u001B[39m rewards\n\u001B[1;32m     96\u001B[0m     current_lengths \u001B[38;5;241m+\u001B[39m\u001B[38;5;241m=\u001B[39m \u001B[38;5;241m1\u001B[39m\n",
      "File \u001B[0;32m~/Desktop/FleetRL/venv/lib/python3.10/site-packages/stable_baselines3/common/vec_env/base_vec_env.py:171\u001B[0m, in \u001B[0;36mVecEnv.step\u001B[0;34m(self, actions)\u001B[0m\n\u001B[1;32m    164\u001B[0m \u001B[38;5;250m\u001B[39m\u001B[38;5;124;03m\"\"\"\u001B[39;00m\n\u001B[1;32m    165\u001B[0m \u001B[38;5;124;03mStep the environments with the given action\u001B[39;00m\n\u001B[1;32m    166\u001B[0m \n\u001B[1;32m    167\u001B[0m \u001B[38;5;124;03m:param actions: the action\u001B[39;00m\n\u001B[1;32m    168\u001B[0m \u001B[38;5;124;03m:return: observation, reward, done, information\u001B[39;00m\n\u001B[1;32m    169\u001B[0m \u001B[38;5;124;03m\"\"\"\u001B[39;00m\n\u001B[1;32m    170\u001B[0m \u001B[38;5;28mself\u001B[39m\u001B[38;5;241m.\u001B[39mstep_async(actions)\n\u001B[0;32m--> 171\u001B[0m \u001B[38;5;28;01mreturn\u001B[39;00m \u001B[38;5;28;43mself\u001B[39;49m\u001B[38;5;241;43m.\u001B[39;49m\u001B[43mstep_wait\u001B[49m\u001B[43m(\u001B[49m\u001B[43m)\u001B[49m\n",
      "File \u001B[0;32m~/Desktop/FleetRL/venv/lib/python3.10/site-packages/stable_baselines3/common/vec_env/vec_normalize.py:178\u001B[0m, in \u001B[0;36mVecNormalize.step_wait\u001B[0;34m(self)\u001B[0m\n\u001B[1;32m    171\u001B[0m \u001B[38;5;28;01mdef\u001B[39;00m \u001B[38;5;21mstep_wait\u001B[39m(\u001B[38;5;28mself\u001B[39m) \u001B[38;5;241m-\u001B[39m\u001B[38;5;241m>\u001B[39m VecEnvStepReturn:\n\u001B[1;32m    172\u001B[0m \u001B[38;5;250m    \u001B[39m\u001B[38;5;124;03m\"\"\"\u001B[39;00m\n\u001B[1;32m    173\u001B[0m \u001B[38;5;124;03m    Apply sequence of actions to sequence of environments\u001B[39;00m\n\u001B[1;32m    174\u001B[0m \u001B[38;5;124;03m    actions -> (observations, rewards, dones)\u001B[39;00m\n\u001B[1;32m    175\u001B[0m \n\u001B[1;32m    176\u001B[0m \u001B[38;5;124;03m    where ``dones`` is a boolean vector indicating whether each element is new.\u001B[39;00m\n\u001B[1;32m    177\u001B[0m \u001B[38;5;124;03m    \"\"\"\u001B[39;00m\n\u001B[0;32m--> 178\u001B[0m     obs, rewards, dones, infos \u001B[38;5;241m=\u001B[39m \u001B[38;5;28;43mself\u001B[39;49m\u001B[38;5;241;43m.\u001B[39;49m\u001B[43mvenv\u001B[49m\u001B[38;5;241;43m.\u001B[39;49m\u001B[43mstep_wait\u001B[49m\u001B[43m(\u001B[49m\u001B[43m)\u001B[49m\n\u001B[1;32m    179\u001B[0m     \u001B[38;5;28mself\u001B[39m\u001B[38;5;241m.\u001B[39mold_obs \u001B[38;5;241m=\u001B[39m obs\n\u001B[1;32m    180\u001B[0m     \u001B[38;5;28mself\u001B[39m\u001B[38;5;241m.\u001B[39mold_reward \u001B[38;5;241m=\u001B[39m rewards\n",
      "File \u001B[0;32m~/Desktop/FleetRL/venv/lib/python3.10/site-packages/stable_baselines3/common/vec_env/subproc_vec_env.py:133\u001B[0m, in \u001B[0;36mSubprocVecEnv.step_wait\u001B[0;34m(self)\u001B[0m\n\u001B[1;32m    132\u001B[0m \u001B[38;5;28;01mdef\u001B[39;00m \u001B[38;5;21mstep_wait\u001B[39m(\u001B[38;5;28mself\u001B[39m) \u001B[38;5;241m-\u001B[39m\u001B[38;5;241m>\u001B[39m VecEnvStepReturn:\n\u001B[0;32m--> 133\u001B[0m     results \u001B[38;5;241m=\u001B[39m [remote\u001B[38;5;241m.\u001B[39mrecv() \u001B[38;5;28;01mfor\u001B[39;00m remote \u001B[38;5;129;01min\u001B[39;00m \u001B[38;5;28mself\u001B[39m\u001B[38;5;241m.\u001B[39mremotes]\n\u001B[1;32m    134\u001B[0m     \u001B[38;5;28mself\u001B[39m\u001B[38;5;241m.\u001B[39mwaiting \u001B[38;5;241m=\u001B[39m \u001B[38;5;28;01mFalse\u001B[39;00m\n\u001B[1;32m    135\u001B[0m     obs, rews, dones, infos, \u001B[38;5;28mself\u001B[39m\u001B[38;5;241m.\u001B[39mreset_infos \u001B[38;5;241m=\u001B[39m \u001B[38;5;28mzip\u001B[39m(\u001B[38;5;241m*\u001B[39mresults)\n",
      "File \u001B[0;32m~/Desktop/FleetRL/venv/lib/python3.10/site-packages/stable_baselines3/common/vec_env/subproc_vec_env.py:133\u001B[0m, in \u001B[0;36m<listcomp>\u001B[0;34m(.0)\u001B[0m\n\u001B[1;32m    132\u001B[0m \u001B[38;5;28;01mdef\u001B[39;00m \u001B[38;5;21mstep_wait\u001B[39m(\u001B[38;5;28mself\u001B[39m) \u001B[38;5;241m-\u001B[39m\u001B[38;5;241m>\u001B[39m VecEnvStepReturn:\n\u001B[0;32m--> 133\u001B[0m     results \u001B[38;5;241m=\u001B[39m [\u001B[43mremote\u001B[49m\u001B[38;5;241;43m.\u001B[39;49m\u001B[43mrecv\u001B[49m\u001B[43m(\u001B[49m\u001B[43m)\u001B[49m \u001B[38;5;28;01mfor\u001B[39;00m remote \u001B[38;5;129;01min\u001B[39;00m \u001B[38;5;28mself\u001B[39m\u001B[38;5;241m.\u001B[39mremotes]\n\u001B[1;32m    134\u001B[0m     \u001B[38;5;28mself\u001B[39m\u001B[38;5;241m.\u001B[39mwaiting \u001B[38;5;241m=\u001B[39m \u001B[38;5;28;01mFalse\u001B[39;00m\n\u001B[1;32m    135\u001B[0m     obs, rews, dones, infos, \u001B[38;5;28mself\u001B[39m\u001B[38;5;241m.\u001B[39mreset_infos \u001B[38;5;241m=\u001B[39m \u001B[38;5;28mzip\u001B[39m(\u001B[38;5;241m*\u001B[39mresults)\n",
      "File \u001B[0;32m/usr/lib/python3.10/multiprocessing/connection.py:250\u001B[0m, in \u001B[0;36m_ConnectionBase.recv\u001B[0;34m(self)\u001B[0m\n\u001B[1;32m    248\u001B[0m \u001B[38;5;28mself\u001B[39m\u001B[38;5;241m.\u001B[39m_check_closed()\n\u001B[1;32m    249\u001B[0m \u001B[38;5;28mself\u001B[39m\u001B[38;5;241m.\u001B[39m_check_readable()\n\u001B[0;32m--> 250\u001B[0m buf \u001B[38;5;241m=\u001B[39m \u001B[38;5;28;43mself\u001B[39;49m\u001B[38;5;241;43m.\u001B[39;49m\u001B[43m_recv_bytes\u001B[49m\u001B[43m(\u001B[49m\u001B[43m)\u001B[49m\n\u001B[1;32m    251\u001B[0m \u001B[38;5;28;01mreturn\u001B[39;00m _ForkingPickler\u001B[38;5;241m.\u001B[39mloads(buf\u001B[38;5;241m.\u001B[39mgetbuffer())\n",
      "File \u001B[0;32m/usr/lib/python3.10/multiprocessing/connection.py:414\u001B[0m, in \u001B[0;36mConnection._recv_bytes\u001B[0;34m(self, maxsize)\u001B[0m\n\u001B[1;32m    413\u001B[0m \u001B[38;5;28;01mdef\u001B[39;00m \u001B[38;5;21m_recv_bytes\u001B[39m(\u001B[38;5;28mself\u001B[39m, maxsize\u001B[38;5;241m=\u001B[39m\u001B[38;5;28;01mNone\u001B[39;00m):\n\u001B[0;32m--> 414\u001B[0m     buf \u001B[38;5;241m=\u001B[39m \u001B[38;5;28;43mself\u001B[39;49m\u001B[38;5;241;43m.\u001B[39;49m\u001B[43m_recv\u001B[49m\u001B[43m(\u001B[49m\u001B[38;5;241;43m4\u001B[39;49m\u001B[43m)\u001B[49m\n\u001B[1;32m    415\u001B[0m     size, \u001B[38;5;241m=\u001B[39m struct\u001B[38;5;241m.\u001B[39munpack(\u001B[38;5;124m\"\u001B[39m\u001B[38;5;124m!i\u001B[39m\u001B[38;5;124m\"\u001B[39m, buf\u001B[38;5;241m.\u001B[39mgetvalue())\n\u001B[1;32m    416\u001B[0m     \u001B[38;5;28;01mif\u001B[39;00m size \u001B[38;5;241m==\u001B[39m \u001B[38;5;241m-\u001B[39m\u001B[38;5;241m1\u001B[39m:\n",
      "File \u001B[0;32m/usr/lib/python3.10/multiprocessing/connection.py:379\u001B[0m, in \u001B[0;36mConnection._recv\u001B[0;34m(self, size, read)\u001B[0m\n\u001B[1;32m    377\u001B[0m remaining \u001B[38;5;241m=\u001B[39m size\n\u001B[1;32m    378\u001B[0m \u001B[38;5;28;01mwhile\u001B[39;00m remaining \u001B[38;5;241m>\u001B[39m \u001B[38;5;241m0\u001B[39m:\n\u001B[0;32m--> 379\u001B[0m     chunk \u001B[38;5;241m=\u001B[39m \u001B[43mread\u001B[49m\u001B[43m(\u001B[49m\u001B[43mhandle\u001B[49m\u001B[43m,\u001B[49m\u001B[43m \u001B[49m\u001B[43mremaining\u001B[49m\u001B[43m)\u001B[49m\n\u001B[1;32m    380\u001B[0m     n \u001B[38;5;241m=\u001B[39m \u001B[38;5;28mlen\u001B[39m(chunk)\n\u001B[1;32m    381\u001B[0m     \u001B[38;5;28;01mif\u001B[39;00m n \u001B[38;5;241m==\u001B[39m \u001B[38;5;241m0\u001B[39m:\n",
      "\u001B[0;31mKeyboardInterrupt\u001B[0m: "
     ]
    }
   ],
   "source": [
    "study = optuna.create_study(direction='maximize')\n",
    "study.optimize(objective, n_trials=50)\n",
    "\n",
    "print(study.best_params)\n",
    "print(study.best_value)\n",
    "print(study.best_trial)"
   ],
   "metadata": {
    "collapsed": false
   }
  },
  {
   "cell_type": "code",
   "execution_count": null,
   "outputs": [],
   "source": [],
   "metadata": {
    "collapsed": false
   }
  }
 ],
 "metadata": {
  "environment": {
   "kernel": "python3",
   "name": "common-cpu.m108",
   "type": "gcloud",
   "uri": "gcr.io/deeplearning-platform-release/base-cpu:m108"
  },
  "kernelspec": {
   "display_name": "Python 3",
   "language": "python",
   "name": "python3"
  },
  "language_info": {
   "codemirror_mode": {
    "name": "ipython",
    "version": 3
   },
   "file_extension": ".py",
   "mimetype": "text/x-python",
   "name": "python",
   "nbconvert_exporter": "python",
   "pygments_lexer": "ipython3",
   "version": "3.10.10"
  }
 },
 "nbformat": 4,
 "nbformat_minor": 5
}
