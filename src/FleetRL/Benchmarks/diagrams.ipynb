{
 "cells": [
  {
   "cell_type": "code",
   "execution_count": null,
   "metadata": {
    "collapsed": true
   },
   "outputs": [],
   "source": [
    "import pandas as pd\n",
    "import matplotlib.pyplot as plt\n",
    "\n",
    "# Create a date range from Jan to Dec\n",
    "# Create a date range from Jan to Dec with a 15-minute resolution\n",
    "date_range = pd.date_range(start=\"2023-01-01\", end=\"2023-12-31\", freq='15min')\n",
    "\n",
    "# Check if the lengths match\n",
    "print(len(date_range) == len(log_RL))  # should print True\n",
    "\n",
    "# Continue with the rest of the code...\n",
    "\n",
    "# Create a figure\n",
    "fig, ax = plt.subplots()\n",
    "\n",
    "# Rescale the index of the dataframes to match the date range\n",
    "rescaled_log_RL = log_RL.copy()\n",
    "rescaled_log_RL.index = date_range[:len(log_RL)]\n",
    "rescaled_dumb_log = dumb_log.copy()\n",
    "rescaled_dumb_log.index = date_range[:len(dumb_log)]\n",
    "\n",
    "# Plot the data\n",
    "ax.plot(rescaled_dumb_log.index, rescaled_dumb_log['SOH'], label='Dumb', color='red')\n",
    "ax.plot(rescaled_log_RL.index, rescaled_log_RL['SOH'], label='RL', color='blue')\n",
    "\n",
    "\n",
    "# Set the title and labels\n",
    "ax.set_title('State of Health Over Time')\n",
    "ax.set_xlabel('Time')\n",
    "ax.set_ylabel('State of Health')\n",
    "ax.legend()\n",
    "\n",
    "ax.xaxis.set_major_locator(mdates.MonthLocator())\n",
    "ax.xaxis.set_major_formatter(mdates.DateFormatter('%b'))\n",
    "\n",
    "ax.set_xticklabels(ax.get_xticklabels()[0:12])[0:12]\n",
    "ax.set_xticks(ax.get_xticks()[0:12])[0:12]\n",
    "# Show the plot\n",
    "plt.grid(alpha=0.2)\n",
    "plt.show()\n"
   ]
  },
  {
   "cell_type": "code",
   "execution_count": null,
   "outputs": [],
   "source": [],
   "metadata": {
    "collapsed": false
   }
  }
 ],
 "metadata": {
  "kernelspec": {
   "display_name": "Python 3",
   "language": "python",
   "name": "python3"
  },
  "language_info": {
   "codemirror_mode": {
    "name": "ipython",
    "version": 2
   },
   "file_extension": ".py",
   "mimetype": "text/x-python",
   "name": "python",
   "nbconvert_exporter": "python",
   "pygments_lexer": "ipython2",
   "version": "2.7.6"
  }
 },
 "nbformat": 4,
 "nbformat_minor": 0
}
