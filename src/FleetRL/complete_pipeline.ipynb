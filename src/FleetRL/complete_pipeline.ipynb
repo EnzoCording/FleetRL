{
 "cells": [
  {
   "cell_type": "markdown",
   "metadata": {},
   "source": [
    "(c) Copyright 2023 Enzo Alexander Cording - https://github.com/EnzoCording"
   ]
  },
  {
   "cell_type": "markdown",
   "source": [
    "This code could also be run in a .py file. Then, the code after the imports should be wrapped in:\n",
    "\n",
    "    if __name__ == \"__main__\":\n",
    "        #code here\n",
    "\n",
    "to allow for parallel processing"
   ],
   "metadata": {
    "collapsed": false
   }
  },
  {
   "cell_type": "code",
   "execution_count": 1,
   "metadata": {
    "ExecuteTime": {
     "start_time": "2023-09-04T18:11:39.041508Z",
     "end_time": "2023-09-04T18:11:42.469531Z"
    },
    "collapsed": true
   },
   "outputs": [],
   "source": [
    "import datetime as dt\n",
    "import numpy as np\n",
    "import math\n",
    "import matplotlib.pyplot as plt\n",
    "from typing import Literal\n",
    "import pandas as pd\n",
    "import time\n",
    "import os\n",
    "\n",
    "from FleetRL.fleet_env import FleetEnv\n",
    "\n",
    "from stable_baselines3.common.vec_env import VecNormalize, SubprocVecEnv\n",
    "from stable_baselines3.common.env_util import make_vec_env\n",
    "from stable_baselines3 import PPO\n",
    "from stable_baselines3.common.callbacks import EvalCallback, ProgressBarCallback, BaseCallback\n",
    "from stable_baselines3.common.logger import HParam\n",
    "\n",
    "from pink import PinkActionNoise\n",
    "from stable_baselines3.common.noise import OrnsteinUhlenbeckActionNoise, NormalActionNoise"
   ]
  },
  {
   "cell_type": "code",
   "execution_count": 2,
   "metadata": {
    "ExecuteTime": {
     "start_time": "2023-09-04T18:11:50.237295Z",
     "end_time": "2023-09-04T18:11:50.243558Z"
    },
    "collapsed": false
   },
   "outputs": [],
   "source": [
    "# define fundamental parameters\n",
    "run_name = \"LMD_2022_arbitrage_PPO\"\n",
    "n_train_steps = 48  # number of hours in a training episode\n",
    "n_eval_steps = 8600  # number of hours in one evaluation episode\n",
    "n_eval_episodes = 1  # number of episodes for evaluation\n",
    "n_evs = 2  # number of evs\n",
    "n_envs = 2  # number of envs parallel - has to be equal to 1, if train_freq = (1, episode) or default setting\n",
    "time_steps_per_hour = 4  # temporal resolution\n",
    "use_case: str = \"lmd\"  # for file name\n",
    "scenario: Literal[\"arb\", \"tariff\"] = \"tariff\"  # arbitrage or tariff\n",
    "gen_new_schedule = True  # generate a new schedule - refer to schedule generator and its config to change settings\n",
    "gen_new_test_schedule = True  # generate a new schedule for agent testing\n",
    "\n",
    "# training parameters\n",
    "norm_obs_in_env = False  # normalize observations in FleetRL (max, min normalization)\n",
    "vec_norm_obs = True  # normalize observations in SB3 (rolling normalization)\n",
    "vec_norm_rew = True  # normalize rewards in SB3 (rolling normalization)\n",
    "total_steps = int(1e6)  # total training time steps\n",
    "saving_interval = 50000  # interval for saving the model"
   ]
  },
  {
   "cell_type": "code",
   "execution_count": 3,
   "metadata": {
    "ExecuteTime": {
     "start_time": "2023-09-04T18:11:55.598265Z",
     "end_time": "2023-09-04T18:11:55.604941Z"
    },
    "collapsed": false
   },
   "outputs": [],
   "source": [
    "# environment arguments - adjust settings if necessary\n",
    "# additional settings can be changed in the config files\n",
    "env_kwargs = {\"schedule_name\": str(n_evs) + \"_\" + str(use_case) + \".csv\",\n",
    "              \"building_name\": \"load_\" + str(use_case) + \".csv\",\n",
    "              \"use_case\": use_case,\n",
    "              \"include_building\": True,\n",
    "              \"include_pv\": True,\n",
    "              \"time_picker\": \"random\",\n",
    "              \"deg_emp\": False,\n",
    "              \"include_price\": True,\n",
    "              \"ignore_price_reward\": False,\n",
    "              \"ignore_invalid_penalty\": False,\n",
    "              \"ignore_overcharging_penalty\": False,\n",
    "              \"ignore_overloading_penalty\": False,\n",
    "              \"episode_length\": n_train_steps,\n",
    "              \"normalize_in_env\": norm_obs_in_env,\n",
    "              \"verbose\": 0,\n",
    "              \"aux\": True,\n",
    "              \"log_data\": False,\n",
    "              \"calculate_degradation\": True,\n",
    "              \"target_soc\": 0.85,\n",
    "              \"gen_schedule\": gen_new_schedule,\n",
    "              \"gen_start_date\": \"2022-01-01 00:00\",\n",
    "              \"gen_end_date\": \"2022-12-31 23:59:59\",\n",
    "              \"gen_name\": \"my_sched.csv\",\n",
    "              \"gen_n_evs\": 1,\n",
    "              \"seed\": 42\n",
    "              }\n",
    "\n",
    "if scenario == \"tariff\":\n",
    "    env_kwargs[\"spot_markup\"] = 10\n",
    "    env_kwargs[\"spot_mul\"] = 1.5\n",
    "    env_kwargs[\"feed_in_ded\"] = 0.25\n",
    "    env_kwargs[\"price_name\"] = \"spot_2021_new.csv\"\n",
    "    env_kwargs[\"tariff_name\"] = \"fixed_feed_in.csv\"\n",
    "elif scenario == \"arb\":\n",
    "    env_kwargs[\"spot_markup\"] = 0\n",
    "    env_kwargs[\"spot_mul\"] = 1\n",
    "    env_kwargs[\"feed_in_ded\"] = 0\n",
    "    env_kwargs[\"price_name\"] = \"spot_2021_new.csv\"\n",
    "    env_kwargs[\"tariff_name\"] = \"spot_2021_new_tariff.csv\""
   ]
  },
  {
   "cell_type": "code",
   "execution_count": 4,
   "metadata": {
    "ExecuteTime": {
     "start_time": "2023-09-04T18:11:58.051868Z",
     "end_time": "2023-09-04T18:13:39.284635Z"
    },
    "collapsed": false
   },
   "outputs": [],
   "source": [
    "train_vec_env = make_vec_env(FleetEnv,\n",
    "                             n_envs=n_envs,\n",
    "                             vec_env_cls=SubprocVecEnv,\n",
    "                             env_kwargs=env_kwargs)\n",
    "\n",
    "train_norm_vec_env = VecNormalize(venv=train_vec_env,\n",
    "                                  norm_obs=vec_norm_obs,\n",
    "                                  norm_reward=vec_norm_rew,\n",
    "                                  training=True,\n",
    "                                  clip_reward=10.0)\n",
    "\n",
    "env_kwargs[\"time_picker\"] = \"eval\"\n",
    "env_kwargs[\"gen_schedule\"] = False\n",
    "env_kwargs[\"schedule_name\"] = env_kwargs[\"gen_name\"]\n",
    "\n",
    "eval_vec_env = make_vec_env(FleetEnv,\n",
    "                             n_envs=n_envs,\n",
    "                             vec_env_cls=SubprocVecEnv,\n",
    "                             env_kwargs=env_kwargs)\n",
    "\n",
    "eval_norm_vec_env = VecNormalize(venv=eval_vec_env,\n",
    "                                  norm_obs=vec_norm_obs,\n",
    "                                  norm_reward=vec_norm_rew,\n",
    "                                  training=True,\n",
    "                                  clip_reward=10.0)"
   ]
  },
  {
   "cell_type": "code",
   "execution_count": 5,
   "metadata": {
    "ExecuteTime": {
     "start_time": "2023-09-04T18:13:55.618653Z",
     "end_time": "2023-09-04T18:15:39.800805Z"
    },
    "collapsed": false
   },
   "outputs": [
    {
     "name": "stdout",
     "output_type": "stream",
     "text": [
      "Generating schedules... This may take a while.\n",
      "Schedule generation complete. Saved in Inputs path. File name: my_sched_test.csv\n"
     ]
    }
   ],
   "source": [
    "if gen_new_test_schedule:\n",
    "    # generate an evaluation schedule\n",
    "    test_sched_name = env_kwargs[\"gen_name\"]\n",
    "    if not test_sched_name.endswith(\".csv\"):\n",
    "        test_sched_name = test_sched_name + \"_test\" + \".csv\"\n",
    "    else:\n",
    "        test_sched_name = test_sched_name.strip(\".csv\")\n",
    "        test_sched_name = test_sched_name + \"_test\" + \".csv\"\n",
    "\n",
    "    env_kwargs[\"gen_schedule\"] = True\n",
    "    env_kwargs[\"gen_name\"] = test_sched_name\n",
    "\n",
    "    test_vec_env = make_vec_env(FleetEnv,\n",
    "                                n_envs=1,\n",
    "                                vec_env_cls=SubprocVecEnv,\n",
    "                                env_kwargs=env_kwargs)\n",
    "\n",
    "    env_kwargs[\"gen_schedule\"] = False\n",
    "    env_kwargs[\"schedule_name\"] = test_sched_name\n",
    "\n",
    "test_vec_env = make_vec_env(FleetEnv,\n",
    "                            n_envs=n_envs,\n",
    "                            vec_env_cls=SubprocVecEnv,\n",
    "                            env_kwargs=env_kwargs)\n",
    "\n",
    "test_norm_vec_env = VecNormalize(venv=test_vec_env,\n",
    "                                 norm_obs=vec_norm_obs,\n",
    "                                 norm_reward=vec_norm_rew,\n",
    "                                 training=True,\n",
    "                                 clip_reward=10.0)"
   ]
  },
  {
   "cell_type": "code",
   "execution_count": 6,
   "metadata": {
    "ExecuteTime": {
     "start_time": "2023-09-04T18:15:43.493047Z",
     "end_time": "2023-09-04T18:15:43.500416Z"
    },
    "collapsed": false
   },
   "outputs": [],
   "source": [
    "eval_callback = EvalCallback(eval_env=eval_norm_vec_env,\n",
    "                             warn=True,\n",
    "                             verbose=1,\n",
    "                             deterministic=True,\n",
    "                             eval_freq=max(10000 // n_envs, 1),\n",
    "                             n_eval_episodes=5,\n",
    "                             render=False,\n",
    "                             )\n",
    "\n",
    "class HyperParamCallback(BaseCallback):\n",
    "    \"\"\"\n",
    "    Saves hyperparameters and metrics at start of training, logging to tensorboard\n",
    "    \"\"\"\n",
    "\n",
    "    def _on_training_start(self) -> None:\n",
    "        hparam_dict = {\n",
    "            \"algorithm\": self.model.__class__.__name__,\n",
    "            \"learning rate\": self.model.learning_rate,\n",
    "            \"gamma\": self.model.gamma,\n",
    "        }\n",
    "\n",
    "        metric_dict = {\n",
    "            \"rollout/ep_len_mean\": 0,\n",
    "            \"train/value_loss\": 0.0,\n",
    "        }\n",
    "\n",
    "        self.logger.record(\n",
    "            \"hparams\",\n",
    "            HParam(hparam_dict, metric_dict),\n",
    "            exclude=(\"stdout\", \"log\", \"json\", \"csv\")\n",
    "        )\n",
    "\n",
    "    def _on_step(self) -> bool:\n",
    "        return True\n",
    "\n",
    "progress_bar = ProgressBarCallback()\n",
    "\n",
    "## wandb callback possible, check documentation of SB3 and wandb"
   ]
  },
  {
   "cell_type": "code",
   "execution_count": 7,
   "metadata": {
    "ExecuteTime": {
     "start_time": "2023-09-04T18:15:44.919545Z",
     "end_time": "2023-09-04T18:15:44.927380Z"
    },
    "collapsed": false
   },
   "outputs": [],
   "source": [
    "hyperparameter_callback = HyperParamCallback()"
   ]
  },
  {
   "cell_type": "code",
   "execution_count": 8,
   "metadata": {
    "ExecuteTime": {
     "start_time": "2023-09-04T18:15:46.129480Z",
     "end_time": "2023-09-04T18:15:46.136880Z"
    },
    "collapsed": false
   },
   "outputs": [],
   "source": [
    "n_actions = train_norm_vec_env.action_space.shape[-1]\n",
    "param_noise = None\n",
    "noise_scale = 0.1\n",
    "seq_len = n_train_steps * time_steps_per_hour\n",
    "action_noise = PinkActionNoise(noise_scale, seq_len, n_actions)"
   ]
  },
  {
   "cell_type": "code",
   "execution_count": 9,
   "metadata": {
    "ExecuteTime": {
     "start_time": "2023-09-04T18:15:47.632978Z",
     "end_time": "2023-09-04T18:15:47.693589Z"
    },
    "collapsed": false
   },
   "outputs": [
    {
     "name": "stdout",
     "output_type": "stream",
     "text": [
      "Using cpu device\n"
     ]
    }
   ],
   "source": [
    "model = PPO(policy=\"MlpPolicy\",\n",
    "            verbose=1, # setting verbose to 0 can introduce performance increases in jupyterlab environments\n",
    "            env=train_norm_vec_env,\n",
    "            tensorboard_log=\"./tb_log\")\n",
    "\n",
    "# might introduce performance increases\n",
    "            # gamma=0.99,\n",
    "            # learning_rate=0.0005,\n",
    "            # batch_size=128,\n",
    "            # n_epochs=8,\n",
    "            # gae_lambda=0.9,\n",
    "            # clip_range=0.2,\n",
    "            # clip_range_vf=None,\n",
    "            # normalize_advantage=True,\n",
    "            # ent_coef=0.0008,\n",
    "            # vf_coef=0.5,\n",
    "            # max_grad_norm=0.5,\n",
    "            # n_steps=2048)"
   ]
  },
  {
   "cell_type": "code",
   "execution_count": 10,
   "metadata": {
    "ExecuteTime": {
     "start_time": "2023-09-04T18:15:49.360635Z",
     "end_time": "2023-09-04T18:15:51.381934Z"
    },
    "collapsed": false
   },
   "outputs": [
    {
     "data": {
      "text/plain": "Launching TensorBoard..."
     },
     "metadata": {},
     "output_type": "display_data"
    }
   ],
   "source": [
    "%reload_ext tensorboard\n",
    "%tensorboard --logdir ./tb_log --bind_all --port 6006"
   ]
  },
  {
   "cell_type": "code",
   "execution_count": 11,
   "metadata": {
    "ExecuteTime": {
     "start_time": "2023-09-04T18:15:53.597904Z",
     "end_time": "2023-09-04T18:15:53.606128Z"
    },
    "collapsed": false
   },
   "outputs": [],
   "source": [
    "comment = run_name\n",
    "time_now = int(time.time())\n",
    "trained_agents_dir = f\"./RL_agents/trained_agents/vec_PPO_{time_now}_{run_name}\"\n",
    "logs_dir = f\"./RL_agents/trained_agents/logs/vec_PPO_{time_now}_{run_name}\"\n",
    "\n",
    "if not os.path.exists(trained_agents_dir):\n",
    "    os.makedirs(trained_agents_dir)\n",
    "\n",
    "if not os.path.exists(logs_dir):\n",
    "    os.makedirs(logs_dir)"
   ]
  },
  {
   "cell_type": "code",
   "execution_count": 12,
   "metadata": {
    "collapsed": false
   },
   "outputs": [
    {
     "name": "stdout",
     "output_type": "stream",
     "text": [
      "Logging to ./tb_log/PPO_1693844153_LMD_2022_arbitrage_PPO_0\n"
     ]
    },
    {
     "data": {
      "text/plain": "Output()",
      "application/vnd.jupyter.widget-view+json": {
       "version_major": 2,
       "version_minor": 0,
       "model_id": "7893160694d14c38996e3449737adcae"
      }
     },
     "metadata": {},
     "output_type": "display_data"
    },
    {
     "name": "stdout",
     "output_type": "stream",
     "text": [
      "----------------------------------\n",
      "| rollout/           |           |\n",
      "|    ep_len_mean     | 192       |\n",
      "|    ep_rew_mean     | -1.34e+03 |\n",
      "| time/              |           |\n",
      "|    fps             | 92        |\n",
      "|    iterations      | 1         |\n",
      "|    time_elapsed    | 44        |\n",
      "|    total_timesteps | 4096      |\n",
      "----------------------------------\n"
     ]
    },
    {
     "name": "stderr",
     "output_type": "stream",
     "text": [
      "Process ForkServerProcess-1:\n",
      "Process ForkServerProcess-2:\n",
      "Process ForkServerProcess-3:\n",
      "Process ForkServerProcess-6:\n",
      "Process ForkServerProcess-7:\n",
      "Process ForkServerProcess-4:\n",
      "Traceback (most recent call last):\n",
      "Traceback (most recent call last):\n",
      "Traceback (most recent call last):\n",
      "  File \"/usr/lib/python3.10/multiprocessing/process.py\", line 314, in _bootstrap\n",
      "    self.run()\n",
      "  File \"/usr/lib/python3.10/multiprocessing/process.py\", line 314, in _bootstrap\n",
      "    self.run()\n",
      "  File \"/usr/lib/python3.10/multiprocessing/process.py\", line 108, in run\n",
      "    self._target(*self._args, **self._kwargs)\n",
      "  File \"/usr/lib/python3.10/multiprocessing/process.py\", line 108, in run\n",
      "    self._target(*self._args, **self._kwargs)\n",
      "  File \"/usr/lib/python3.10/multiprocessing/process.py\", line 314, in _bootstrap\n",
      "    self.run()\n",
      "  File \"/home/enzo/Desktop/FleetRL/venv/lib/python3.10/site-packages/stable_baselines3/common/vec_env/subproc_vec_env.py\", line 34, in _worker\n",
      "    cmd, data = remote.recv()\n",
      "  File \"/home/enzo/Desktop/FleetRL/venv/lib/python3.10/site-packages/stable_baselines3/common/vec_env/subproc_vec_env.py\", line 34, in _worker\n",
      "    cmd, data = remote.recv()\n",
      "  File \"/usr/lib/python3.10/multiprocessing/connection.py\", line 250, in recv\n",
      "    buf = self._recv_bytes()\n",
      "  File \"/usr/lib/python3.10/multiprocessing/process.py\", line 108, in run\n",
      "    self._target(*self._args, **self._kwargs)\n",
      "  File \"/usr/lib/python3.10/multiprocessing/connection.py\", line 250, in recv\n",
      "    buf = self._recv_bytes()\n",
      "  File \"/home/enzo/Desktop/FleetRL/venv/lib/python3.10/site-packages/stable_baselines3/common/vec_env/subproc_vec_env.py\", line 34, in _worker\n",
      "    cmd, data = remote.recv()\n",
      "  File \"/usr/lib/python3.10/multiprocessing/connection.py\", line 414, in _recv_bytes\n",
      "    buf = self._recv(4)\n",
      "  File \"/usr/lib/python3.10/multiprocessing/connection.py\", line 414, in _recv_bytes\n",
      "    buf = self._recv(4)\n",
      "  File \"/usr/lib/python3.10/multiprocessing/connection.py\", line 250, in recv\n",
      "    buf = self._recv_bytes()\n",
      "  File \"/usr/lib/python3.10/multiprocessing/connection.py\", line 379, in _recv\n",
      "    chunk = read(handle, remaining)\n",
      "  File \"/usr/lib/python3.10/multiprocessing/connection.py\", line 414, in _recv_bytes\n",
      "    buf = self._recv(4)\n",
      "  File \"/usr/lib/python3.10/multiprocessing/connection.py\", line 379, in _recv\n",
      "    chunk = read(handle, remaining)\n",
      "  File \"/usr/lib/python3.10/multiprocessing/connection.py\", line 379, in _recv\n",
      "    chunk = read(handle, remaining)\n",
      "KeyboardInterrupt\n",
      "KeyboardInterrupt\n",
      "KeyboardInterrupt\n",
      "Traceback (most recent call last):\n",
      "  File \"/usr/lib/python3.10/multiprocessing/process.py\", line 314, in _bootstrap\n",
      "    self.run()\n",
      "  File \"/usr/lib/python3.10/multiprocessing/process.py\", line 108, in run\n",
      "    self._target(*self._args, **self._kwargs)\n",
      "  File \"/home/enzo/Desktop/FleetRL/venv/lib/python3.10/site-packages/stable_baselines3/common/vec_env/subproc_vec_env.py\", line 34, in _worker\n",
      "    cmd, data = remote.recv()\n",
      "  File \"/usr/lib/python3.10/multiprocessing/connection.py\", line 250, in recv\n",
      "    buf = self._recv_bytes()\n",
      "  File \"/usr/lib/python3.10/multiprocessing/connection.py\", line 414, in _recv_bytes\n",
      "    buf = self._recv(4)\n",
      "  File \"/usr/lib/python3.10/multiprocessing/connection.py\", line 379, in _recv\n",
      "    chunk = read(handle, remaining)\n",
      "KeyboardInterrupt\n",
      "Traceback (most recent call last):\n",
      "  File \"/usr/lib/python3.10/multiprocessing/process.py\", line 314, in _bootstrap\n",
      "    self.run()\n",
      "  File \"/usr/lib/python3.10/multiprocessing/process.py\", line 108, in run\n",
      "    self._target(*self._args, **self._kwargs)\n",
      "  File \"/home/enzo/Desktop/FleetRL/venv/lib/python3.10/site-packages/stable_baselines3/common/vec_env/subproc_vec_env.py\", line 36, in _worker\n",
      "    observation, reward, terminated, truncated, info = env.step(data)\n",
      "  File \"/home/enzo/Desktop/FleetRL/venv/lib/python3.10/site-packages/stable_baselines3/common/monitor.py\", line 94, in step\n",
      "    observation, reward, terminated, truncated, info = self.env.step(action)\n",
      "  File \"/home/enzo/Desktop/FleetRL/src/FleetRL/fleet_env/fleet_environment.py\", line 643, in step\n",
      "    next_obs = self.observer.get_obs(self.db,\n",
      "  File \"/home/enzo/Desktop/FleetRL/src/FleetRL/utils/observation/observer_bl_pv.py\", line 56, in get_obs\n",
      "    price = price.resample(\"H\", on=\"date\").first()[\"DELU\"].values\n",
      "  File \"/home/enzo/Desktop/FleetRL/venv/lib/python3.10/site-packages/pandas/core/resample.py\", line 934, in first\n",
      "    return self._downsample(\"first\", numeric_only=numeric_only, min_count=min_count)\n",
      "  File \"/home/enzo/Desktop/FleetRL/venv/lib/python3.10/site-packages/pandas/core/resample.py\", line 1275, in _downsample\n",
      "    obj = self._obj_with_exclusions\n",
      "  File \"pandas/_libs/properties.pyx\", line 36, in pandas._libs.properties.CachedProperty.__get__\n",
      "  File \"/home/enzo/Desktop/FleetRL/venv/lib/python3.10/site-packages/pandas/core/base.py\", line 228, in _obj_with_exclusions\n",
      "    return self.obj._drop_axis(self.exclusions, axis=1, only_slice=True)\n",
      "  File \"/home/enzo/Desktop/FleetRL/venv/lib/python3.10/site-packages/pandas/core/generic.py\", line 4591, in _drop_axis\n",
      "    new_axis = axis.drop(labels, errors=errors)\n",
      "  File \"/home/enzo/Desktop/FleetRL/venv/lib/python3.10/site-packages/pandas/core/indexes/base.py\", line 6698, in drop\n",
      "    return self.delete(indexer)\n",
      "  File \"/home/enzo/Desktop/FleetRL/venv/lib/python3.10/site-packages/pandas/core/indexes/base.py\", line 6604, in delete\n",
      "    res_values = np.delete(values, loc)\n",
      "  File \"<__array_function__ internals>\", line 200, in delete\n",
      "  File \"/home/enzo/Desktop/FleetRL/venv/lib/python3.10/site-packages/numpy/lib/function_base.py\", line 5205, in delete\n",
      "    obj = obj.item()\n",
      "KeyboardInterrupt\n",
      "Traceback (most recent call last):\n",
      "  File \"/usr/lib/python3.10/multiprocessing/process.py\", line 314, in _bootstrap\n",
      "    self.run()\n",
      "  File \"/usr/lib/python3.10/multiprocessing/process.py\", line 108, in run\n",
      "    self._target(*self._args, **self._kwargs)\n",
      "  File \"/home/enzo/Desktop/FleetRL/venv/lib/python3.10/site-packages/stable_baselines3/common/vec_env/subproc_vec_env.py\", line 36, in _worker\n",
      "    observation, reward, terminated, truncated, info = env.step(data)\n",
      "  File \"/home/enzo/Desktop/FleetRL/venv/lib/python3.10/site-packages/stable_baselines3/common/monitor.py\", line 94, in step\n",
      "    observation, reward, terminated, truncated, info = self.env.step(action)\n",
      "  File \"/home/enzo/Desktop/FleetRL/src/FleetRL/fleet_env/fleet_environment.py\", line 643, in step\n",
      "    next_obs = self.observer.get_obs(self.db,\n",
      "  File \"/home/enzo/Desktop/FleetRL/src/FleetRL/utils/observation/observer_bl_pv.py\", line 57, in get_obs\n",
      "    tariff = tariff.resample(\"H\", on=\"date\").first()[\"tariff\"].values\n",
      "  File \"/home/enzo/Desktop/FleetRL/venv/lib/python3.10/site-packages/pandas/core/resample.py\", line 934, in first\n",
      "    return self._downsample(\"first\", numeric_only=numeric_only, min_count=min_count)\n",
      "  File \"/home/enzo/Desktop/FleetRL/venv/lib/python3.10/site-packages/pandas/core/resample.py\", line 1275, in _downsample\n",
      "    obj = self._obj_with_exclusions\n",
      "  File \"pandas/_libs/properties.pyx\", line 36, in pandas._libs.properties.CachedProperty.__get__\n",
      "  File \"/home/enzo/Desktop/FleetRL/venv/lib/python3.10/site-packages/pandas/core/base.py\", line 228, in _obj_with_exclusions\n",
      "    return self.obj._drop_axis(self.exclusions, axis=1, only_slice=True)\n",
      "  File \"/home/enzo/Desktop/FleetRL/venv/lib/python3.10/site-packages/pandas/core/generic.py\", line 4591, in _drop_axis\n",
      "    new_axis = axis.drop(labels, errors=errors)\n",
      "  File \"/home/enzo/Desktop/FleetRL/venv/lib/python3.10/site-packages/pandas/core/indexes/base.py\", line 6690, in drop\n",
      "    labels = com.index_labels_to_array(labels, dtype=arr_dtype)\n",
      "  File \"/home/enzo/Desktop/FleetRL/venv/lib/python3.10/site-packages/pandas/core/common.py\", line 261, in index_labels_to_array\n",
      "    def index_labels_to_array(\n",
      "KeyboardInterrupt\n"
     ]
    },
    {
     "name": "stdout",
     "output_type": "stream",
     "text": [
      "Generating schedules... This may take a while.\n",
      "Schedule generation complete. Saved in Inputs path. File name: my_sched.csv\n",
      "Degradation was negative: -4.931913431094337e-05.Recheck calcs if it happens often.Previous entry: Range    0.189291\n",
      "Mean     0.094646\n",
      "Count         0.5\n",
      "Start          76\n",
      "End            83\n",
      "Name: 10, dtype: objectCurrent entry:        Range      Mean  Count Start End\n",
      "11  0.102926  0.137828    0.5    83  86\n",
      "Degradation was negative: -1.5984558463522092e-06.Recheck calcs if it happens often.Previous entry: Range    0.501815\n",
      "Mean     0.250907\n",
      "Count         0.5\n",
      "Start          41\n",
      "End            76\n",
      "Name: 40, dtype: objectCurrent entry:        Range      Mean  Count Start  End\n",
      "39  0.027517  0.306290    1.0   162  163\n",
      "40  0.501815  0.250907    0.5    41   76\n",
      "41  0.384772  0.309429    0.5    76  119\n",
      "Generating schedules... This may take a while.\n",
      "Schedule generation complete. Saved in Inputs path. File name: my_sched.csv\n"
     ]
    },
    {
     "ename": "KeyboardInterrupt",
     "evalue": "",
     "output_type": "error",
     "traceback": [
      "\u001B[0;31m---------------------------------------------------------------------------\u001B[0m",
      "\u001B[0;31mKeyboardInterrupt\u001B[0m                         Traceback (most recent call last)",
      "Cell \u001B[0;32mIn[12], line 5\u001B[0m\n\u001B[1;32m      1\u001B[0m \u001B[38;5;66;03m# model training\u001B[39;00m\n\u001B[1;32m      2\u001B[0m \u001B[38;5;66;03m# models are saved in a specified interval: once with unique step identifiers\u001B[39;00m\n\u001B[1;32m      3\u001B[0m \u001B[38;5;66;03m# model and the normalization metrics are saved as well, overwriting the previous file every time\u001B[39;00m\n\u001B[1;32m      4\u001B[0m \u001B[38;5;28;01mfor\u001B[39;00m i \u001B[38;5;129;01min\u001B[39;00m \u001B[38;5;28mrange\u001B[39m(\u001B[38;5;241m0\u001B[39m, \u001B[38;5;28mint\u001B[39m(total_steps \u001B[38;5;241m/\u001B[39m saving_interval)):\n\u001B[0;32m----> 5\u001B[0m     \u001B[43mmodel\u001B[49m\u001B[38;5;241;43m.\u001B[39;49m\u001B[43mlearn\u001B[49m\u001B[43m(\u001B[49m\u001B[43mtotal_timesteps\u001B[49m\u001B[38;5;241;43m=\u001B[39;49m\u001B[43msaving_interval\u001B[49m\u001B[43m,\u001B[49m\n\u001B[1;32m      6\u001B[0m \u001B[43m                \u001B[49m\u001B[43mreset_num_timesteps\u001B[49m\u001B[38;5;241;43m=\u001B[39;49m\u001B[38;5;28;43;01mFalse\u001B[39;49;00m\u001B[43m,\u001B[49m\n\u001B[1;32m      7\u001B[0m \u001B[43m                \u001B[49m\u001B[43mtb_log_name\u001B[49m\u001B[38;5;241;43m=\u001B[39;49m\u001B[38;5;124;43mf\u001B[39;49m\u001B[38;5;124;43m\"\u001B[39;49m\u001B[38;5;124;43mPPO_\u001B[39;49m\u001B[38;5;132;43;01m{\u001B[39;49;00m\u001B[43mtime_now\u001B[49m\u001B[38;5;132;43;01m}\u001B[39;49;00m\u001B[38;5;124;43m_\u001B[39;49m\u001B[38;5;132;43;01m{\u001B[39;49;00m\u001B[43mcomment\u001B[49m\u001B[38;5;132;43;01m}\u001B[39;49;00m\u001B[38;5;124;43m\"\u001B[39;49m\u001B[43m,\u001B[49m\n\u001B[1;32m      8\u001B[0m \u001B[43m                \u001B[49m\u001B[43mcallback\u001B[49m\u001B[38;5;241;43m=\u001B[39;49m\u001B[43m[\u001B[49m\u001B[43meval_callback\u001B[49m\u001B[43m,\u001B[49m\u001B[43m \u001B[49m\u001B[43mhyperparameter_callback\u001B[49m\u001B[43m,\u001B[49m\u001B[43m \u001B[49m\u001B[43mprogress_bar\u001B[49m\u001B[43m]\u001B[49m\u001B[43m)\u001B[49m\n\u001B[1;32m     10\u001B[0m     model\u001B[38;5;241m.\u001B[39msave(\u001B[38;5;124mf\u001B[39m\u001B[38;5;124m\"\u001B[39m\u001B[38;5;132;01m{\u001B[39;00mtrained_agents_dir\u001B[38;5;132;01m}\u001B[39;00m\u001B[38;5;124m/\u001B[39m\u001B[38;5;132;01m{\u001B[39;00msaving_interval\u001B[38;5;250m \u001B[39m\u001B[38;5;241m*\u001B[39m\u001B[38;5;250m \u001B[39mi\u001B[38;5;132;01m}\u001B[39;00m\u001B[38;5;124m\"\u001B[39m)\n\u001B[1;32m     12\u001B[0m     \u001B[38;5;66;03m# Don't forget to save the VecNormalize statistics when saving the agent\u001B[39;00m\n",
      "File \u001B[0;32m~/Desktop/FleetRL/venv/lib/python3.10/site-packages/stable_baselines3/ppo/ppo.py:308\u001B[0m, in \u001B[0;36mPPO.learn\u001B[0;34m(self, total_timesteps, callback, log_interval, tb_log_name, reset_num_timesteps, progress_bar)\u001B[0m\n\u001B[1;32m    299\u001B[0m \u001B[38;5;28;01mdef\u001B[39;00m \u001B[38;5;21mlearn\u001B[39m(\n\u001B[1;32m    300\u001B[0m     \u001B[38;5;28mself\u001B[39m: SelfPPO,\n\u001B[1;32m    301\u001B[0m     total_timesteps: \u001B[38;5;28mint\u001B[39m,\n\u001B[0;32m   (...)\u001B[0m\n\u001B[1;32m    306\u001B[0m     progress_bar: \u001B[38;5;28mbool\u001B[39m \u001B[38;5;241m=\u001B[39m \u001B[38;5;28;01mFalse\u001B[39;00m,\n\u001B[1;32m    307\u001B[0m ) \u001B[38;5;241m-\u001B[39m\u001B[38;5;241m>\u001B[39m SelfPPO:\n\u001B[0;32m--> 308\u001B[0m     \u001B[38;5;28;01mreturn\u001B[39;00m \u001B[38;5;28;43msuper\u001B[39;49m\u001B[43m(\u001B[49m\u001B[43m)\u001B[49m\u001B[38;5;241;43m.\u001B[39;49m\u001B[43mlearn\u001B[49m\u001B[43m(\u001B[49m\n\u001B[1;32m    309\u001B[0m \u001B[43m        \u001B[49m\u001B[43mtotal_timesteps\u001B[49m\u001B[38;5;241;43m=\u001B[39;49m\u001B[43mtotal_timesteps\u001B[49m\u001B[43m,\u001B[49m\n\u001B[1;32m    310\u001B[0m \u001B[43m        \u001B[49m\u001B[43mcallback\u001B[49m\u001B[38;5;241;43m=\u001B[39;49m\u001B[43mcallback\u001B[49m\u001B[43m,\u001B[49m\n\u001B[1;32m    311\u001B[0m \u001B[43m        \u001B[49m\u001B[43mlog_interval\u001B[49m\u001B[38;5;241;43m=\u001B[39;49m\u001B[43mlog_interval\u001B[49m\u001B[43m,\u001B[49m\n\u001B[1;32m    312\u001B[0m \u001B[43m        \u001B[49m\u001B[43mtb_log_name\u001B[49m\u001B[38;5;241;43m=\u001B[39;49m\u001B[43mtb_log_name\u001B[49m\u001B[43m,\u001B[49m\n\u001B[1;32m    313\u001B[0m \u001B[43m        \u001B[49m\u001B[43mreset_num_timesteps\u001B[49m\u001B[38;5;241;43m=\u001B[39;49m\u001B[43mreset_num_timesteps\u001B[49m\u001B[43m,\u001B[49m\n\u001B[1;32m    314\u001B[0m \u001B[43m        \u001B[49m\u001B[43mprogress_bar\u001B[49m\u001B[38;5;241;43m=\u001B[39;49m\u001B[43mprogress_bar\u001B[49m\u001B[43m,\u001B[49m\n\u001B[1;32m    315\u001B[0m \u001B[43m    \u001B[49m\u001B[43m)\u001B[49m\n",
      "File \u001B[0;32m~/Desktop/FleetRL/venv/lib/python3.10/site-packages/stable_baselines3/common/on_policy_algorithm.py:259\u001B[0m, in \u001B[0;36mOnPolicyAlgorithm.learn\u001B[0;34m(self, total_timesteps, callback, log_interval, tb_log_name, reset_num_timesteps, progress_bar)\u001B[0m\n\u001B[1;32m    256\u001B[0m \u001B[38;5;28;01massert\u001B[39;00m \u001B[38;5;28mself\u001B[39m\u001B[38;5;241m.\u001B[39menv \u001B[38;5;129;01mis\u001B[39;00m \u001B[38;5;129;01mnot\u001B[39;00m \u001B[38;5;28;01mNone\u001B[39;00m\n\u001B[1;32m    258\u001B[0m \u001B[38;5;28;01mwhile\u001B[39;00m \u001B[38;5;28mself\u001B[39m\u001B[38;5;241m.\u001B[39mnum_timesteps \u001B[38;5;241m<\u001B[39m total_timesteps:\n\u001B[0;32m--> 259\u001B[0m     continue_training \u001B[38;5;241m=\u001B[39m \u001B[38;5;28;43mself\u001B[39;49m\u001B[38;5;241;43m.\u001B[39;49m\u001B[43mcollect_rollouts\u001B[49m\u001B[43m(\u001B[49m\u001B[38;5;28;43mself\u001B[39;49m\u001B[38;5;241;43m.\u001B[39;49m\u001B[43menv\u001B[49m\u001B[43m,\u001B[49m\u001B[43m \u001B[49m\u001B[43mcallback\u001B[49m\u001B[43m,\u001B[49m\u001B[43m \u001B[49m\u001B[38;5;28;43mself\u001B[39;49m\u001B[38;5;241;43m.\u001B[39;49m\u001B[43mrollout_buffer\u001B[49m\u001B[43m,\u001B[49m\u001B[43m \u001B[49m\u001B[43mn_rollout_steps\u001B[49m\u001B[38;5;241;43m=\u001B[39;49m\u001B[38;5;28;43mself\u001B[39;49m\u001B[38;5;241;43m.\u001B[39;49m\u001B[43mn_steps\u001B[49m\u001B[43m)\u001B[49m\n\u001B[1;32m    261\u001B[0m     \u001B[38;5;28;01mif\u001B[39;00m continue_training \u001B[38;5;129;01mis\u001B[39;00m \u001B[38;5;28;01mFalse\u001B[39;00m:\n\u001B[1;32m    262\u001B[0m         \u001B[38;5;28;01mbreak\u001B[39;00m\n",
      "File \u001B[0;32m~/Desktop/FleetRL/venv/lib/python3.10/site-packages/stable_baselines3/common/on_policy_algorithm.py:178\u001B[0m, in \u001B[0;36mOnPolicyAlgorithm.collect_rollouts\u001B[0;34m(self, env, callback, rollout_buffer, n_rollout_steps)\u001B[0m\n\u001B[1;32m    175\u001B[0m \u001B[38;5;28;01mif\u001B[39;00m \u001B[38;5;28misinstance\u001B[39m(\u001B[38;5;28mself\u001B[39m\u001B[38;5;241m.\u001B[39maction_space, spaces\u001B[38;5;241m.\u001B[39mBox):\n\u001B[1;32m    176\u001B[0m     clipped_actions \u001B[38;5;241m=\u001B[39m np\u001B[38;5;241m.\u001B[39mclip(actions, \u001B[38;5;28mself\u001B[39m\u001B[38;5;241m.\u001B[39maction_space\u001B[38;5;241m.\u001B[39mlow, \u001B[38;5;28mself\u001B[39m\u001B[38;5;241m.\u001B[39maction_space\u001B[38;5;241m.\u001B[39mhigh)\n\u001B[0;32m--> 178\u001B[0m new_obs, rewards, dones, infos \u001B[38;5;241m=\u001B[39m \u001B[43menv\u001B[49m\u001B[38;5;241;43m.\u001B[39;49m\u001B[43mstep\u001B[49m\u001B[43m(\u001B[49m\u001B[43mclipped_actions\u001B[49m\u001B[43m)\u001B[49m\n\u001B[1;32m    180\u001B[0m \u001B[38;5;28mself\u001B[39m\u001B[38;5;241m.\u001B[39mnum_timesteps \u001B[38;5;241m+\u001B[39m\u001B[38;5;241m=\u001B[39m env\u001B[38;5;241m.\u001B[39mnum_envs\n\u001B[1;32m    182\u001B[0m \u001B[38;5;66;03m# Give access to local variables\u001B[39;00m\n",
      "File \u001B[0;32m~/Desktop/FleetRL/venv/lib/python3.10/site-packages/stable_baselines3/common/vec_env/base_vec_env.py:171\u001B[0m, in \u001B[0;36mVecEnv.step\u001B[0;34m(self, actions)\u001B[0m\n\u001B[1;32m    164\u001B[0m \u001B[38;5;250m\u001B[39m\u001B[38;5;124;03m\"\"\"\u001B[39;00m\n\u001B[1;32m    165\u001B[0m \u001B[38;5;124;03mStep the environments with the given action\u001B[39;00m\n\u001B[1;32m    166\u001B[0m \n\u001B[1;32m    167\u001B[0m \u001B[38;5;124;03m:param actions: the action\u001B[39;00m\n\u001B[1;32m    168\u001B[0m \u001B[38;5;124;03m:return: observation, reward, done, information\u001B[39;00m\n\u001B[1;32m    169\u001B[0m \u001B[38;5;124;03m\"\"\"\u001B[39;00m\n\u001B[1;32m    170\u001B[0m \u001B[38;5;28mself\u001B[39m\u001B[38;5;241m.\u001B[39mstep_async(actions)\n\u001B[0;32m--> 171\u001B[0m \u001B[38;5;28;01mreturn\u001B[39;00m \u001B[38;5;28;43mself\u001B[39;49m\u001B[38;5;241;43m.\u001B[39;49m\u001B[43mstep_wait\u001B[49m\u001B[43m(\u001B[49m\u001B[43m)\u001B[49m\n",
      "File \u001B[0;32m~/Desktop/FleetRL/venv/lib/python3.10/site-packages/stable_baselines3/common/vec_env/vec_normalize.py:178\u001B[0m, in \u001B[0;36mVecNormalize.step_wait\u001B[0;34m(self)\u001B[0m\n\u001B[1;32m    171\u001B[0m \u001B[38;5;28;01mdef\u001B[39;00m \u001B[38;5;21mstep_wait\u001B[39m(\u001B[38;5;28mself\u001B[39m) \u001B[38;5;241m-\u001B[39m\u001B[38;5;241m>\u001B[39m VecEnvStepReturn:\n\u001B[1;32m    172\u001B[0m \u001B[38;5;250m    \u001B[39m\u001B[38;5;124;03m\"\"\"\u001B[39;00m\n\u001B[1;32m    173\u001B[0m \u001B[38;5;124;03m    Apply sequence of actions to sequence of environments\u001B[39;00m\n\u001B[1;32m    174\u001B[0m \u001B[38;5;124;03m    actions -> (observations, rewards, dones)\u001B[39;00m\n\u001B[1;32m    175\u001B[0m \n\u001B[1;32m    176\u001B[0m \u001B[38;5;124;03m    where ``dones`` is a boolean vector indicating whether each element is new.\u001B[39;00m\n\u001B[1;32m    177\u001B[0m \u001B[38;5;124;03m    \"\"\"\u001B[39;00m\n\u001B[0;32m--> 178\u001B[0m     obs, rewards, dones, infos \u001B[38;5;241m=\u001B[39m \u001B[38;5;28;43mself\u001B[39;49m\u001B[38;5;241;43m.\u001B[39;49m\u001B[43mvenv\u001B[49m\u001B[38;5;241;43m.\u001B[39;49m\u001B[43mstep_wait\u001B[49m\u001B[43m(\u001B[49m\u001B[43m)\u001B[49m\n\u001B[1;32m    179\u001B[0m     \u001B[38;5;28mself\u001B[39m\u001B[38;5;241m.\u001B[39mold_obs \u001B[38;5;241m=\u001B[39m obs\n\u001B[1;32m    180\u001B[0m     \u001B[38;5;28mself\u001B[39m\u001B[38;5;241m.\u001B[39mold_reward \u001B[38;5;241m=\u001B[39m rewards\n",
      "File \u001B[0;32m~/Desktop/FleetRL/venv/lib/python3.10/site-packages/stable_baselines3/common/vec_env/subproc_vec_env.py:133\u001B[0m, in \u001B[0;36mSubprocVecEnv.step_wait\u001B[0;34m(self)\u001B[0m\n\u001B[1;32m    132\u001B[0m \u001B[38;5;28;01mdef\u001B[39;00m \u001B[38;5;21mstep_wait\u001B[39m(\u001B[38;5;28mself\u001B[39m) \u001B[38;5;241m-\u001B[39m\u001B[38;5;241m>\u001B[39m VecEnvStepReturn:\n\u001B[0;32m--> 133\u001B[0m     results \u001B[38;5;241m=\u001B[39m [remote\u001B[38;5;241m.\u001B[39mrecv() \u001B[38;5;28;01mfor\u001B[39;00m remote \u001B[38;5;129;01min\u001B[39;00m \u001B[38;5;28mself\u001B[39m\u001B[38;5;241m.\u001B[39mremotes]\n\u001B[1;32m    134\u001B[0m     \u001B[38;5;28mself\u001B[39m\u001B[38;5;241m.\u001B[39mwaiting \u001B[38;5;241m=\u001B[39m \u001B[38;5;28;01mFalse\u001B[39;00m\n\u001B[1;32m    135\u001B[0m     obs, rews, dones, infos, \u001B[38;5;28mself\u001B[39m\u001B[38;5;241m.\u001B[39mreset_infos \u001B[38;5;241m=\u001B[39m \u001B[38;5;28mzip\u001B[39m(\u001B[38;5;241m*\u001B[39mresults)\n",
      "File \u001B[0;32m~/Desktop/FleetRL/venv/lib/python3.10/site-packages/stable_baselines3/common/vec_env/subproc_vec_env.py:133\u001B[0m, in \u001B[0;36m<listcomp>\u001B[0;34m(.0)\u001B[0m\n\u001B[1;32m    132\u001B[0m \u001B[38;5;28;01mdef\u001B[39;00m \u001B[38;5;21mstep_wait\u001B[39m(\u001B[38;5;28mself\u001B[39m) \u001B[38;5;241m-\u001B[39m\u001B[38;5;241m>\u001B[39m VecEnvStepReturn:\n\u001B[0;32m--> 133\u001B[0m     results \u001B[38;5;241m=\u001B[39m [\u001B[43mremote\u001B[49m\u001B[38;5;241;43m.\u001B[39;49m\u001B[43mrecv\u001B[49m\u001B[43m(\u001B[49m\u001B[43m)\u001B[49m \u001B[38;5;28;01mfor\u001B[39;00m remote \u001B[38;5;129;01min\u001B[39;00m \u001B[38;5;28mself\u001B[39m\u001B[38;5;241m.\u001B[39mremotes]\n\u001B[1;32m    134\u001B[0m     \u001B[38;5;28mself\u001B[39m\u001B[38;5;241m.\u001B[39mwaiting \u001B[38;5;241m=\u001B[39m \u001B[38;5;28;01mFalse\u001B[39;00m\n\u001B[1;32m    135\u001B[0m     obs, rews, dones, infos, \u001B[38;5;28mself\u001B[39m\u001B[38;5;241m.\u001B[39mreset_infos \u001B[38;5;241m=\u001B[39m \u001B[38;5;28mzip\u001B[39m(\u001B[38;5;241m*\u001B[39mresults)\n",
      "File \u001B[0;32m/usr/lib/python3.10/multiprocessing/connection.py:250\u001B[0m, in \u001B[0;36m_ConnectionBase.recv\u001B[0;34m(self)\u001B[0m\n\u001B[1;32m    248\u001B[0m \u001B[38;5;28mself\u001B[39m\u001B[38;5;241m.\u001B[39m_check_closed()\n\u001B[1;32m    249\u001B[0m \u001B[38;5;28mself\u001B[39m\u001B[38;5;241m.\u001B[39m_check_readable()\n\u001B[0;32m--> 250\u001B[0m buf \u001B[38;5;241m=\u001B[39m \u001B[38;5;28;43mself\u001B[39;49m\u001B[38;5;241;43m.\u001B[39;49m\u001B[43m_recv_bytes\u001B[49m\u001B[43m(\u001B[49m\u001B[43m)\u001B[49m\n\u001B[1;32m    251\u001B[0m \u001B[38;5;28;01mreturn\u001B[39;00m _ForkingPickler\u001B[38;5;241m.\u001B[39mloads(buf\u001B[38;5;241m.\u001B[39mgetbuffer())\n",
      "File \u001B[0;32m/usr/lib/python3.10/multiprocessing/connection.py:414\u001B[0m, in \u001B[0;36mConnection._recv_bytes\u001B[0;34m(self, maxsize)\u001B[0m\n\u001B[1;32m    413\u001B[0m \u001B[38;5;28;01mdef\u001B[39;00m \u001B[38;5;21m_recv_bytes\u001B[39m(\u001B[38;5;28mself\u001B[39m, maxsize\u001B[38;5;241m=\u001B[39m\u001B[38;5;28;01mNone\u001B[39;00m):\n\u001B[0;32m--> 414\u001B[0m     buf \u001B[38;5;241m=\u001B[39m \u001B[38;5;28;43mself\u001B[39;49m\u001B[38;5;241;43m.\u001B[39;49m\u001B[43m_recv\u001B[49m\u001B[43m(\u001B[49m\u001B[38;5;241;43m4\u001B[39;49m\u001B[43m)\u001B[49m\n\u001B[1;32m    415\u001B[0m     size, \u001B[38;5;241m=\u001B[39m struct\u001B[38;5;241m.\u001B[39munpack(\u001B[38;5;124m\"\u001B[39m\u001B[38;5;124m!i\u001B[39m\u001B[38;5;124m\"\u001B[39m, buf\u001B[38;5;241m.\u001B[39mgetvalue())\n\u001B[1;32m    416\u001B[0m     \u001B[38;5;28;01mif\u001B[39;00m size \u001B[38;5;241m==\u001B[39m \u001B[38;5;241m-\u001B[39m\u001B[38;5;241m1\u001B[39m:\n",
      "File \u001B[0;32m/usr/lib/python3.10/multiprocessing/connection.py:379\u001B[0m, in \u001B[0;36mConnection._recv\u001B[0;34m(self, size, read)\u001B[0m\n\u001B[1;32m    377\u001B[0m remaining \u001B[38;5;241m=\u001B[39m size\n\u001B[1;32m    378\u001B[0m \u001B[38;5;28;01mwhile\u001B[39;00m remaining \u001B[38;5;241m>\u001B[39m \u001B[38;5;241m0\u001B[39m:\n\u001B[0;32m--> 379\u001B[0m     chunk \u001B[38;5;241m=\u001B[39m \u001B[43mread\u001B[49m\u001B[43m(\u001B[49m\u001B[43mhandle\u001B[49m\u001B[43m,\u001B[49m\u001B[43m \u001B[49m\u001B[43mremaining\u001B[49m\u001B[43m)\u001B[49m\n\u001B[1;32m    380\u001B[0m     n \u001B[38;5;241m=\u001B[39m \u001B[38;5;28mlen\u001B[39m(chunk)\n\u001B[1;32m    381\u001B[0m     \u001B[38;5;28;01mif\u001B[39;00m n \u001B[38;5;241m==\u001B[39m \u001B[38;5;241m0\u001B[39m:\n",
      "\u001B[0;31mKeyboardInterrupt\u001B[0m: "
     ]
    }
   ],
   "source": [
    "# model training\n",
    "# models are saved in a specified interval: once with unique step identifiers\n",
    "# model and the normalization metrics are saved as well, overwriting the previous file every time\n",
    "for i in range(0, int(total_steps / saving_interval)):\n",
    "    model.learn(total_timesteps=saving_interval,\n",
    "                reset_num_timesteps=False,\n",
    "                tb_log_name=f\"PPO_{time_now}_{comment}\",\n",
    "                callback=[eval_callback, hyperparameter_callback, progress_bar])\n",
    "\n",
    "    model.save(f\"{trained_agents_dir}/{saving_interval * i}\")\n",
    "\n",
    "    # Don't forget to save the VecNormalize statistics when saving the agent\n",
    "    log_dir = \"./RL_agents/trained_agents/tmp/vec_PPO/\"\n",
    "    model.save(log_dir + f\"PPO-fleet_{comment}_{time_now}\")\n",
    "    stats_path = os.path.join(log_dir, f\"vec_normalize-{comment}_{time_now}.pkl\")\n",
    "    train_norm_vec_env.save(stats_path)"
   ]
  },
  {
   "cell_type": "code",
   "execution_count": null,
   "outputs": [],
   "source": [],
   "metadata": {
    "collapsed": false
   }
  }
 ],
 "metadata": {
  "kernelspec": {
   "display_name": "Python 3",
   "language": "python",
   "name": "python3"
  },
  "language_info": {
   "codemirror_mode": {
    "name": "ipython",
    "version": 2
   },
   "file_extension": ".py",
   "mimetype": "text/x-python",
   "name": "python",
   "nbconvert_exporter": "python",
   "pygments_lexer": "ipython2",
   "version": "2.7.6"
  }
 },
 "nbformat": 4,
 "nbformat_minor": 0
}
