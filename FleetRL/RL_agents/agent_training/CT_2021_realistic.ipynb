{
 "cells": [
  {
   "cell_type": "code",
   "execution_count": 1,
   "metadata": {
    "ExecuteTime": {
     "end_time": "2023-06-18T22:46:27.449177Z",
     "start_time": "2023-06-18T22:46:25.040277Z"
    },
    "tags": []
   },
   "outputs": [],
   "source": [
    "import numpy as np\n",
    "import time\n",
    "import os\n",
    "\n",
    "import FleetRL\n",
    "from FleetRL.fleet_env.fleet_environment import FleetEnv\n",
    "\n",
    "from stable_baselines3 import PPO\n",
    "from stable_baselines3.common.vec_env import VecNormalize, SubprocVecEnv\n",
    "from stable_baselines3.common.env_util import make_vec_env\n",
    "from stable_baselines3.common.evaluation import evaluate_policy\n",
    "from stable_baselines3.common.callbacks import EvalCallback, ProgressBarCallback, BaseCallback\n",
    "from stable_baselines3.common.logger import HParam\n",
    "\n",
    "from pink import PinkNoiseDist, PinkActionNoise"
   ]
  },
  {
   "cell_type": "code",
   "execution_count": 2,
   "metadata": {
    "ExecuteTime": {
     "end_time": "2023-06-18T21:16:43.248490Z",
     "start_time": "2023-06-18T21:16:43.242601Z"
    },
    "collapsed": false,
    "jupyter": {
     "outputs_hidden": false
    },
    "tags": []
   },
   "outputs": [],
   "source": [
    "run_name = \"ct_2021_realistic_PPO\"\n",
    "comment = run_name"
   ]
  },
  {
   "cell_type": "code",
   "execution_count": 3,
   "metadata": {
    "ExecuteTime": {
     "end_time": "2023-06-18T21:16:43.298801Z",
     "start_time": "2023-06-18T21:16:43.255700Z"
    },
    "collapsed": false,
    "jupyter": {
     "outputs_hidden": false
    },
    "tags": []
   },
   "outputs": [],
   "source": [
    "time_now = int(time.time())\n",
    "trained_agents_dir = f\"./trained/vec_PPO-{time_now}-{run_name}\"\n",
    "logs_dir = f\"./logs/vec_PPO-{time_now}-{run_name}\"\n",
    "\n",
    "if not os.path.exists(trained_agents_dir):\n",
    "    os.makedirs(trained_agents_dir)\n",
    "\n",
    "if not os.path.exists(logs_dir):\n",
    "    os.makedirs(logs_dir)"
   ]
  },
  {
   "cell_type": "code",
   "execution_count": 4,
   "metadata": {
    "ExecuteTime": {
     "end_time": "2023-06-18T22:46:35.849875Z",
     "start_time": "2023-06-18T22:46:29.818869Z"
    },
    "collapsed": false,
    "jupyter": {
     "outputs_hidden": false
    },
    "tags": []
   },
   "outputs": [],
   "source": [
    "env_args = {\"schedule_name\": \"ct_sched_single.csv\",\n",
    "            \"building_name\": \"load_ct.csv\",\n",
    "            \"price_name\": \"spot_2021_new.csv\",\n",
    "            \"tariff_name\": \"fixed_feed_in.csv\",\n",
    "            \"use_case\": \"ct\",\n",
    "            \"verbose\": False,\n",
    "            \"time_picker\": \"random\",\n",
    "            \"episode_length\": 48,\n",
    "            \"calculate_degradation\": True,\n",
    "            \"log_data\": False,\n",
    "            \"normalize_in_env\": False,\n",
    "            \"aux\": True,\n",
    "            \"spot_markup\": 10,\n",
    "            \"spot_mul\": 1.5,\n",
    "            \"feed_in_ded\": 0.25\n",
    "            }\n",
    "\n",
    "n_cpu = 10\n",
    "train_vec_env = make_vec_env(FleetEnv,\n",
    "                             seed=5,\n",
    "                             n_envs=n_cpu,\n",
    "                             vec_env_cls=SubprocVecEnv,\n",
    "                             env_kwargs=env_args)"
   ]
  },
  {
   "cell_type": "code",
   "execution_count": 5,
   "metadata": {
    "ExecuteTime": {
     "end_time": "2023-06-18T22:46:35.854925Z",
     "start_time": "2023-06-18T22:46:35.853414Z"
    },
    "collapsed": false,
    "jupyter": {
     "outputs_hidden": false
    },
    "tags": []
   },
   "outputs": [],
   "source": [
    "train_norm_vec_env = VecNormalize(venv=train_vec_env, norm_obs=True, norm_reward=True, training=True, clip_reward=10.0)"
   ]
  },
  {
   "cell_type": "code",
   "execution_count": 6,
   "metadata": {
    "ExecuteTime": {
     "end_time": "2023-06-18T22:46:39.369517Z",
     "start_time": "2023-06-18T22:46:35.898496Z"
    },
    "collapsed": false,
    "jupyter": {
     "outputs_hidden": false
    },
    "tags": []
   },
   "outputs": [],
   "source": [
    "env_args = {\"schedule_name\": \"ct_sched_single.csv\",\n",
    "            \"building_name\": \"load_ct.csv\",\n",
    "            \"price_name\": \"spot_2021_new.csv\",\n",
    "            \"tariff_name\": \"fixed_feed_in.csv\",\n",
    "            \"use_case\": \"ct\",\n",
    "            \"verbose\": False,\n",
    "            \"time_picker\": \"eval\",\n",
    "            \"episode_length\": 48,\n",
    "            \"calculate_degradation\": True,\n",
    "            \"log_data\": False,\n",
    "            \"normalize_in_env\": False,\n",
    "            \"aux\": True,\n",
    "            \"spot_markup\": 10,\n",
    "            \"spot_mul\": 1.5,\n",
    "            \"feed_in_ded\": 0.25\n",
    "            }\n",
    "\n",
    "eval_vec_env = make_vec_env(FleetEnv,\n",
    "                            n_envs=1,\n",
    "                            seed=5,\n",
    "                            vec_env_cls=SubprocVecEnv,\n",
    "                            env_kwargs=env_args)"
   ]
  },
  {
   "cell_type": "code",
   "execution_count": 7,
   "metadata": {
    "ExecuteTime": {
     "end_time": "2023-06-18T22:46:39.376182Z",
     "start_time": "2023-06-18T22:46:39.371022Z"
    },
    "collapsed": false,
    "jupyter": {
     "outputs_hidden": false
    },
    "tags": []
   },
   "outputs": [],
   "source": [
    "eval_norm_vec_env = VecNormalize(venv=eval_vec_env,\n",
    "                                 norm_obs=True,\n",
    "                                 norm_reward=True,\n",
    "                                 training=True,\n",
    "                                 clip_reward=10.0)"
   ]
  },
  {
   "cell_type": "code",
   "execution_count": 8,
   "metadata": {
    "ExecuteTime": {
     "end_time": "2023-06-18T22:46:59.480927Z",
     "start_time": "2023-06-18T22:46:59.475386Z"
    },
    "collapsed": false,
    "jupyter": {
     "outputs_hidden": false
    },
    "tags": []
   },
   "outputs": [],
   "source": [
    "eval_callback = EvalCallback(eval_env=eval_norm_vec_env,\n",
    "                             warn=True,\n",
    "                             verbose=1,\n",
    "                             deterministic=True,\n",
    "                             eval_freq=max(10000 // n_cpu, 1),\n",
    "                             n_eval_episodes=5,\n",
    "                             render=False,\n",
    "                             )"
   ]
  },
  {
   "cell_type": "code",
   "execution_count": 9,
   "metadata": {
    "collapsed": false,
    "jupyter": {
     "outputs_hidden": false
    },
    "tags": []
   },
   "outputs": [],
   "source": [
    "class HyperParamCallback(BaseCallback):\n",
    "\n",
    "    \"\"\"\n",
    "    Saves hyperparameters and metrics at start of training, logging to tensorboard\n",
    "    \"\"\"\n",
    "\n",
    "    def _on_training_start(self) -> None:\n",
    "        hparam_dict = {\n",
    "            \"algorithm\": self.model.__class__.__name__,\n",
    "            \"learning rate\": self.model.learning_rate,\n",
    "            \"gamma\": self.model.gamma,\n",
    "            \"tau\": self.model.tau,\n",
    "            \"learning starts\": self.model.learning_starts,\n",
    "            \"batch size\": self.model.batch_size,\n",
    "            \"buffer size\": self.model.buffer_size,\n",
    "            \"policy_delay\": self.model.policy_delay,\n",
    "        }\n",
    "\n",
    "        metric_dict = {\n",
    "            \"rollout/ep_len_mean\": 0,\n",
    "            \"train/value_loss\": 0.0,\n",
    "        }\n",
    "\n",
    "        self.logger.record(\n",
    "            \"hparams\",\n",
    "            HParam(hparam_dict, metric_dict),\n",
    "            exclude=(\"stdout\", \"log\", \"json\", \"csv\")\n",
    "        )\n",
    "\n",
    "    def _on_step(self) -> bool:\n",
    "        return True\n"
   ]
  },
  {
   "cell_type": "code",
   "execution_count": 10,
   "metadata": {
    "collapsed": false,
    "jupyter": {
     "outputs_hidden": false
    },
    "tags": []
   },
   "outputs": [],
   "source": [
    "hyperparameter_callback = HyperParamCallback()"
   ]
  },
  {
   "cell_type": "code",
   "execution_count": 11,
   "metadata": {
    "ExecuteTime": {
     "end_time": "2023-06-18T22:46:59.843009Z",
     "start_time": "2023-06-18T22:46:59.832197Z"
    },
    "collapsed": false,
    "jupyter": {
     "outputs_hidden": false
    },
    "tags": []
   },
   "outputs": [],
   "source": [
    "n_actions = train_norm_vec_env.action_space.shape[-1]\n",
    "param_noise = None\n",
    "noise_scale = 0.1\n",
    "seq_len = 48 * 4\n",
    "action_noise = PinkActionNoise(noise_scale, seq_len, n_actions)"
   ]
  },
  {
   "cell_type": "markdown",
   "metadata": {
    "ExecuteTime": {
     "end_time": "2023-06-18T22:47:00.416896Z",
     "start_time": "2023-06-18T22:47:00.378841Z"
    },
    "collapsed": false,
    "jupyter": {
     "outputs_hidden": false
    },
    "tags": []
   },
   "source": [
    "model = PPO(policy=\"MlpPolicy\",\n",
    "           verbose=0,\n",
    "           env = train_norm_vec_env,\n",
    "           tensorboard_log = \"./tb_log\")"
   ]
  },
  {
   "cell_type": "code",
   "execution_count": 12,
   "metadata": {},
   "outputs": [],
   "source": [
    "train_norm_vec_env.load(\"./tmp/vec_PPO/vec_normalize-ct_2021_realistic_PPO.pkl\", train_norm_vec_env)\n",
    "model = PPO.load(\"./tmp/vec_PPO/PPO-fleet_ct_2021_realistic_PPO.zip\", env = train_norm_vec_env,\n",
    "                custom_objects={\"observation_space\": train_norm_vec_env.observation_space,\n",
    "                                \"action_space\": train_norm_vec_env.action_space})\n",
    "#model.ent_coef = 0.0005"
   ]
  },
  {
   "cell_type": "markdown",
   "metadata": {
    "execution": {
     "iopub.execute_input": "2023-07-08T17:56:36.392347Z",
     "iopub.status.busy": "2023-07-08T17:56:36.391665Z",
     "iopub.status.idle": "2023-07-08T17:56:39.050837Z",
     "shell.execute_reply": "2023-07-08T17:56:39.049872Z",
     "shell.execute_reply.started": "2023-07-08T17:56:36.392309Z"
    }
   },
   "source": [
    "train_norm_vec_env.load(\"./tmp/vec_PPO/vec_normalize-LMD_2021_realistic_PPO.pkl\", train_norm_vec_env)\n",
    "model = PPO.load(\"./tmp/vec_PPO/PPO-fleet_LMD_2021_realistic_PPO.zip\", env = train_norm_vec_env)\n",
    "model.gamma = 0.99"
   ]
  },
  {
   "cell_type": "code",
   "execution_count": null,
   "metadata": {
    "ExecuteTime": {
     "end_time": "2023-06-18T22:46:41.189642Z",
     "start_time": "2023-06-18T22:46:40.190292Z"
    },
    "collapsed": false,
    "jupyter": {
     "outputs_hidden": false
    },
    "pycharm": {
     "is_executing": true
    },
    "tags": []
   },
   "outputs": [
    {
     "name": "stdout",
     "output_type": "stream",
     "text": [
      "Eval num_timesteps=5744400, episode_reward=-37.95 +/- 64.38\n",
      "Episode length: 192.00 +/- 0.00\n",
      "New best mean reward!\n",
      "Eval num_timesteps=5754400, episode_reward=-30.02 +/- 46.73\n",
      "Episode length: 192.00 +/- 0.00\n",
      "New best mean reward!\n",
      "Eval num_timesteps=5764400, episode_reward=-115.23 +/- 111.13\n",
      "Episode length: 192.00 +/- 0.00\n",
      "Eval num_timesteps=5774400, episode_reward=-55.34 +/- 53.92\n",
      "Episode length: 192.00 +/- 0.00\n",
      "Eval num_timesteps=5784400, episode_reward=-54.39 +/- 48.50\n",
      "Episode length: 192.00 +/- 0.00\n",
      "Eval num_timesteps=5794400, episode_reward=-32.77 +/- 18.30\n",
      "Episode length: 192.00 +/- 0.00\n",
      "Eval num_timesteps=5804400, episode_reward=-72.35 +/- 37.96\n",
      "Episode length: 192.00 +/- 0.00\n",
      "Eval num_timesteps=5814400, episode_reward=-30.84 +/- 32.58\n",
      "Episode length: 192.00 +/- 0.00\n",
      "Eval num_timesteps=5824400, episode_reward=-15.20 +/- 18.29\n",
      "Episode length: 192.00 +/- 0.00\n",
      "New best mean reward!\n",
      "Eval num_timesteps=5834400, episode_reward=-16.64 +/- 24.51\n",
      "Episode length: 192.00 +/- 0.00\n",
      "Eval num_timesteps=5844400, episode_reward=-26.37 +/- 35.33\n",
      "Episode length: 192.00 +/- 0.00\n",
      "Eval num_timesteps=5854400, episode_reward=-76.62 +/- 37.89\n",
      "Episode length: 192.00 +/- 0.00\n",
      "Eval num_timesteps=5864400, episode_reward=-29.82 +/- 9.53\n",
      "Episode length: 192.00 +/- 0.00\n",
      "Eval num_timesteps=5874400, episode_reward=-60.04 +/- 40.41\n",
      "Episode length: 192.00 +/- 0.00\n",
      "Eval num_timesteps=5884400, episode_reward=-41.89 +/- 47.92\n",
      "Episode length: 192.00 +/- 0.00\n",
      "Eval num_timesteps=5894400, episode_reward=-27.76 +/- 24.69\n",
      "Episode length: 192.00 +/- 0.00\n",
      "Eval num_timesteps=5904400, episode_reward=-21.32 +/- 45.40\n",
      "Episode length: 192.00 +/- 0.00\n",
      "Eval num_timesteps=5914400, episode_reward=-31.05 +/- 22.76\n",
      "Episode length: 192.00 +/- 0.00\n",
      "Eval num_timesteps=5924400, episode_reward=-33.55 +/- 25.90\n",
      "Episode length: 192.00 +/- 0.00\n",
      "Eval num_timesteps=5934400, episode_reward=-2.97 +/- 19.46\n",
      "Episode length: 192.00 +/- 0.00\n",
      "New best mean reward!\n",
      "Eval num_timesteps=5944400, episode_reward=-58.06 +/- 42.44\n",
      "Episode length: 192.00 +/- 0.00\n",
      "Eval num_timesteps=5954400, episode_reward=-53.02 +/- 49.94\n",
      "Episode length: 192.00 +/- 0.00\n",
      "Eval num_timesteps=5964400, episode_reward=-32.91 +/- 21.09\n",
      "Episode length: 192.00 +/- 0.00\n",
      "Eval num_timesteps=5974400, episode_reward=-33.24 +/- 45.76\n",
      "Episode length: 192.00 +/- 0.00\n",
      "Eval num_timesteps=5984400, episode_reward=-42.22 +/- 54.29\n",
      "Episode length: 192.00 +/- 0.00\n",
      "Eval num_timesteps=5994400, episode_reward=-43.06 +/- 34.92\n",
      "Episode length: 192.00 +/- 0.00\n",
      "Eval num_timesteps=6004400, episode_reward=-35.48 +/- 44.72\n",
      "Episode length: 192.00 +/- 0.00\n",
      "Eval num_timesteps=6014400, episode_reward=-66.50 +/- 21.15\n",
      "Episode length: 192.00 +/- 0.00\n",
      "Eval num_timesteps=6024400, episode_reward=-40.48 +/- 53.67\n",
      "Episode length: 192.00 +/- 0.00\n",
      "Eval num_timesteps=6034400, episode_reward=-62.39 +/- 35.70\n",
      "Episode length: 192.00 +/- 0.00\n",
      "Eval num_timesteps=6044400, episode_reward=-41.69 +/- 53.49\n",
      "Episode length: 192.00 +/- 0.00\n",
      "Eval num_timesteps=6054400, episode_reward=-62.47 +/- 29.00\n",
      "Episode length: 192.00 +/- 0.00\n",
      "Eval num_timesteps=6064400, episode_reward=-15.60 +/- 24.67\n",
      "Episode length: 192.00 +/- 0.00\n",
      "Eval num_timesteps=6074400, episode_reward=-51.97 +/- 24.57\n",
      "Episode length: 192.00 +/- 0.00\n",
      "Eval num_timesteps=6084400, episode_reward=-55.48 +/- 50.90\n",
      "Episode length: 192.00 +/- 0.00\n",
      "Eval num_timesteps=6094400, episode_reward=-75.97 +/- 45.44\n",
      "Episode length: 192.00 +/- 0.00\n",
      "Eval num_timesteps=6104400, episode_reward=-66.70 +/- 20.86\n",
      "Episode length: 192.00 +/- 0.00\n",
      "Eval num_timesteps=6114400, episode_reward=-23.25 +/- 38.01\n",
      "Episode length: 192.00 +/- 0.00\n",
      "Eval num_timesteps=6124400, episode_reward=-35.65 +/- 38.27\n",
      "Episode length: 192.00 +/- 0.00\n",
      "Eval num_timesteps=6134400, episode_reward=-48.76 +/- 29.36\n",
      "Episode length: 192.00 +/- 0.00\n",
      "Eval num_timesteps=6144400, episode_reward=0.80 +/- 18.38\n",
      "Episode length: 192.00 +/- 0.00\n",
      "New best mean reward!\n",
      "Eval num_timesteps=6154400, episode_reward=-20.26 +/- 39.10\n",
      "Episode length: 192.00 +/- 0.00\n",
      "Eval num_timesteps=6164400, episode_reward=-29.44 +/- 31.16\n",
      "Episode length: 192.00 +/- 0.00\n",
      "Eval num_timesteps=6174400, episode_reward=-45.26 +/- 36.03\n",
      "Episode length: 192.00 +/- 0.00\n",
      "Eval num_timesteps=6184400, episode_reward=-19.32 +/- 24.76\n",
      "Episode length: 192.00 +/- 0.00\n",
      "Eval num_timesteps=6194400, episode_reward=-65.93 +/- 94.97\n",
      "Episode length: 192.00 +/- 0.00\n",
      "Eval num_timesteps=6204400, episode_reward=-16.09 +/- 21.61\n",
      "Episode length: 192.00 +/- 0.00\n",
      "Eval num_timesteps=6214400, episode_reward=-54.53 +/- 31.13\n",
      "Episode length: 192.00 +/- 0.00\n",
      "Eval num_timesteps=6224400, episode_reward=-54.84 +/- 21.68\n",
      "Episode length: 192.00 +/- 0.00\n",
      "Eval num_timesteps=6234400, episode_reward=-38.22 +/- 40.62\n",
      "Episode length: 192.00 +/- 0.00\n",
      "Eval num_timesteps=6244400, episode_reward=-41.93 +/- 44.13\n",
      "Episode length: 192.00 +/- 0.00\n",
      "Eval num_timesteps=6254400, episode_reward=-6.57 +/- 17.22\n",
      "Episode length: 192.00 +/- 0.00\n",
      "Eval num_timesteps=6264400, episode_reward=-59.54 +/- 42.72\n",
      "Episode length: 192.00 +/- 0.00\n",
      "Eval num_timesteps=6274400, episode_reward=-35.35 +/- 35.49\n",
      "Episode length: 192.00 +/- 0.00\n",
      "Eval num_timesteps=6284400, episode_reward=-15.80 +/- 37.07\n",
      "Episode length: 192.00 +/- 0.00\n",
      "Eval num_timesteps=6294400, episode_reward=-21.73 +/- 30.15\n",
      "Episode length: 192.00 +/- 0.00\n",
      "Eval num_timesteps=6304400, episode_reward=-58.97 +/- 26.82\n",
      "Episode length: 192.00 +/- 0.00\n",
      "Eval num_timesteps=6314400, episode_reward=-26.92 +/- 38.02\n",
      "Episode length: 192.00 +/- 0.00\n",
      "Eval num_timesteps=6324400, episode_reward=-15.81 +/- 35.62\n",
      "Episode length: 192.00 +/- 0.00\n",
      "Eval num_timesteps=6334400, episode_reward=-72.40 +/- 42.41\n",
      "Episode length: 192.00 +/- 0.00\n",
      "Eval num_timesteps=6344400, episode_reward=-63.38 +/- 42.39\n",
      "Episode length: 192.00 +/- 0.00\n",
      "Eval num_timesteps=6354400, episode_reward=-40.24 +/- 41.37\n",
      "Episode length: 192.00 +/- 0.00\n",
      "Eval num_timesteps=6364400, episode_reward=-39.48 +/- 31.68\n",
      "Episode length: 192.00 +/- 0.00\n",
      "Eval num_timesteps=6374400, episode_reward=-78.51 +/- 37.55\n",
      "Episode length: 192.00 +/- 0.00\n",
      "Eval num_timesteps=6384400, episode_reward=1.74 +/- 18.98\n",
      "Episode length: 192.00 +/- 0.00\n",
      "New best mean reward!\n",
      "Eval num_timesteps=6394400, episode_reward=-53.71 +/- 53.26\n",
      "Episode length: 192.00 +/- 0.00\n",
      "Eval num_timesteps=6404400, episode_reward=-52.36 +/- 33.30\n",
      "Episode length: 192.00 +/- 0.00\n",
      "Eval num_timesteps=6414400, episode_reward=-22.52 +/- 36.88\n",
      "Episode length: 192.00 +/- 0.00\n",
      "Eval num_timesteps=6424400, episode_reward=-15.94 +/- 36.88\n",
      "Episode length: 192.00 +/- 0.00\n",
      "Eval num_timesteps=6434400, episode_reward=-35.24 +/- 19.25\n",
      "Episode length: 192.00 +/- 0.00\n",
      "Eval num_timesteps=6444400, episode_reward=-49.77 +/- 41.08\n",
      "Episode length: 192.00 +/- 0.00\n",
      "Eval num_timesteps=6454400, episode_reward=-77.68 +/- 43.19\n",
      "Episode length: 192.00 +/- 0.00\n",
      "Eval num_timesteps=6464400, episode_reward=-49.78 +/- 51.30\n",
      "Episode length: 192.00 +/- 0.00\n",
      "Eval num_timesteps=6474400, episode_reward=-51.05 +/- 38.18\n",
      "Episode length: 192.00 +/- 0.00\n",
      "Eval num_timesteps=6484400, episode_reward=-2.83 +/- 25.25\n",
      "Episode length: 192.00 +/- 0.00\n",
      "Eval num_timesteps=6494400, episode_reward=-50.82 +/- 34.39\n",
      "Episode length: 192.00 +/- 0.00\n",
      "Eval num_timesteps=6504400, episode_reward=-11.54 +/- 39.20\n",
      "Episode length: 192.00 +/- 0.00\n",
      "Eval num_timesteps=6514400, episode_reward=-60.64 +/- 43.33\n",
      "Episode length: 192.00 +/- 0.00\n",
      "Eval num_timesteps=6524400, episode_reward=-58.53 +/- 52.92\n",
      "Episode length: 192.00 +/- 0.00\n",
      "Eval num_timesteps=6534400, episode_reward=-4.85 +/- 18.94\n",
      "Episode length: 192.00 +/- 0.00\n",
      "Eval num_timesteps=6544400, episode_reward=-49.47 +/- 38.43\n",
      "Episode length: 192.00 +/- 0.00\n",
      "Eval num_timesteps=6554400, episode_reward=-29.52 +/- 28.63\n",
      "Episode length: 192.00 +/- 0.00\n",
      "Eval num_timesteps=6564400, episode_reward=-24.35 +/- 24.81\n",
      "Episode length: 192.00 +/- 0.00\n",
      "Eval num_timesteps=6574400, episode_reward=-21.68 +/- 28.13\n",
      "Episode length: 192.00 +/- 0.00\n",
      "Eval num_timesteps=6584400, episode_reward=-20.22 +/- 33.77\n",
      "Episode length: 192.00 +/- 0.00\n",
      "Eval num_timesteps=6594400, episode_reward=-8.33 +/- 9.74\n",
      "Episode length: 192.00 +/- 0.00\n",
      "Eval num_timesteps=6604400, episode_reward=-50.26 +/- 34.84\n",
      "Episode length: 192.00 +/- 0.00\n",
      "Eval num_timesteps=6614400, episode_reward=-50.26 +/- 17.89\n",
      "Episode length: 192.00 +/- 0.00\n",
      "Eval num_timesteps=6624400, episode_reward=-30.97 +/- 51.17\n",
      "Episode length: 192.00 +/- 0.00\n",
      "Eval num_timesteps=6634400, episode_reward=-21.20 +/- 24.46\n",
      "Episode length: 192.00 +/- 0.00\n",
      "Eval num_timesteps=6644400, episode_reward=-47.72 +/- 40.05\n",
      "Episode length: 192.00 +/- 0.00\n",
      "Eval num_timesteps=6654400, episode_reward=-75.34 +/- 31.38\n",
      "Episode length: 192.00 +/- 0.00\n",
      "Eval num_timesteps=6664400, episode_reward=-76.29 +/- 33.77\n",
      "Episode length: 192.00 +/- 0.00\n",
      "Eval num_timesteps=6674400, episode_reward=-29.04 +/- 45.86\n",
      "Episode length: 192.00 +/- 0.00\n",
      "Eval num_timesteps=6684400, episode_reward=-26.93 +/- 22.78\n",
      "Episode length: 192.00 +/- 0.00\n",
      "Eval num_timesteps=6694400, episode_reward=-63.15 +/- 31.74\n",
      "Episode length: 192.00 +/- 0.00\n",
      "Eval num_timesteps=6704400, episode_reward=-50.06 +/- 39.81\n",
      "Episode length: 192.00 +/- 0.00\n",
      "Eval num_timesteps=6714400, episode_reward=-26.45 +/- 20.82\n",
      "Episode length: 192.00 +/- 0.00\n",
      "Eval num_timesteps=6724400, episode_reward=-29.32 +/- 41.40\n",
      "Episode length: 192.00 +/- 0.00\n",
      "Eval num_timesteps=6734400, episode_reward=-50.23 +/- 19.37\n",
      "Episode length: 192.00 +/- 0.00\n",
      "Eval num_timesteps=6744400, episode_reward=-29.01 +/- 23.70\n",
      "Episode length: 192.00 +/- 0.00\n",
      "Eval num_timesteps=6754400, episode_reward=-16.79 +/- 28.83\n",
      "Episode length: 192.00 +/- 0.00\n",
      "Eval num_timesteps=6764400, episode_reward=-57.26 +/- 40.14\n",
      "Episode length: 192.00 +/- 0.00\n",
      "Eval num_timesteps=6774400, episode_reward=-36.31 +/- 50.47\n",
      "Episode length: 192.00 +/- 0.00\n",
      "Eval num_timesteps=6784400, episode_reward=-35.90 +/- 25.39\n",
      "Episode length: 192.00 +/- 0.00\n",
      "Eval num_timesteps=6794400, episode_reward=-89.03 +/- 30.50\n",
      "Episode length: 192.00 +/- 0.00\n",
      "Eval num_timesteps=6804400, episode_reward=-50.01 +/- 38.21\n",
      "Episode length: 192.00 +/- 0.00\n",
      "Eval num_timesteps=6814400, episode_reward=-6.91 +/- 23.51\n",
      "Episode length: 192.00 +/- 0.00\n",
      "Eval num_timesteps=6824400, episode_reward=-13.56 +/- 29.91\n",
      "Episode length: 192.00 +/- 0.00\n",
      "Eval num_timesteps=6834400, episode_reward=-27.78 +/- 35.42\n",
      "Episode length: 192.00 +/- 0.00\n",
      "Eval num_timesteps=6844400, episode_reward=-25.29 +/- 39.20\n",
      "Episode length: 192.00 +/- 0.00\n",
      "Eval num_timesteps=6854400, episode_reward=-59.86 +/- 41.06\n",
      "Episode length: 192.00 +/- 0.00\n",
      "Eval num_timesteps=6864400, episode_reward=-85.21 +/- 30.76\n",
      "Episode length: 192.00 +/- 0.00\n",
      "Eval num_timesteps=6874400, episode_reward=-15.87 +/- 15.16\n",
      "Episode length: 192.00 +/- 0.00\n",
      "Eval num_timesteps=6884400, episode_reward=-55.63 +/- 38.21\n",
      "Episode length: 192.00 +/- 0.00\n",
      "Eval num_timesteps=6894400, episode_reward=-74.09 +/- 31.30\n",
      "Episode length: 192.00 +/- 0.00\n",
      "Eval num_timesteps=6904400, episode_reward=-2.97 +/- 30.38\n",
      "Episode length: 192.00 +/- 0.00\n",
      "Eval num_timesteps=6914400, episode_reward=-54.03 +/- 42.27\n",
      "Episode length: 192.00 +/- 0.00\n",
      "Eval num_timesteps=6924400, episode_reward=-35.98 +/- 37.19\n",
      "Episode length: 192.00 +/- 0.00\n",
      "Eval num_timesteps=6934400, episode_reward=-51.70 +/- 40.01\n",
      "Episode length: 192.00 +/- 0.00\n",
      "Eval num_timesteps=6944400, episode_reward=-23.80 +/- 17.93\n",
      "Episode length: 192.00 +/- 0.00\n",
      "Eval num_timesteps=6954400, episode_reward=-29.53 +/- 26.41\n",
      "Episode length: 192.00 +/- 0.00\n",
      "Eval num_timesteps=6964400, episode_reward=-19.21 +/- 65.18\n",
      "Episode length: 192.00 +/- 0.00\n",
      "Eval num_timesteps=6974400, episode_reward=-58.38 +/- 34.20\n",
      "Episode length: 192.00 +/- 0.00\n",
      "Eval num_timesteps=6984400, episode_reward=-23.03 +/- 31.25\n",
      "Episode length: 192.00 +/- 0.00\n",
      "Eval num_timesteps=6994400, episode_reward=-64.57 +/- 46.42\n",
      "Episode length: 192.00 +/- 0.00\n",
      "Eval num_timesteps=7004400, episode_reward=-30.28 +/- 31.52\n",
      "Episode length: 192.00 +/- 0.00\n",
      "Eval num_timesteps=7014400, episode_reward=-27.25 +/- 31.48\n",
      "Episode length: 192.00 +/- 0.00\n",
      "Eval num_timesteps=7024400, episode_reward=-55.27 +/- 45.87\n",
      "Episode length: 192.00 +/- 0.00\n",
      "Eval num_timesteps=7034400, episode_reward=-39.60 +/- 59.47\n",
      "Episode length: 192.00 +/- 0.00\n",
      "Eval num_timesteps=7044400, episode_reward=-24.78 +/- 33.18\n",
      "Episode length: 192.00 +/- 0.00\n",
      "Eval num_timesteps=7054400, episode_reward=-24.54 +/- 25.73\n",
      "Episode length: 192.00 +/- 0.00\n",
      "Eval num_timesteps=7064400, episode_reward=-72.61 +/- 42.96\n",
      "Episode length: 192.00 +/- 0.00\n",
      "Eval num_timesteps=7074400, episode_reward=-67.51 +/- 32.55\n",
      "Episode length: 192.00 +/- 0.00\n",
      "Eval num_timesteps=7084400, episode_reward=-39.23 +/- 63.78\n",
      "Episode length: 192.00 +/- 0.00\n",
      "Eval num_timesteps=7094400, episode_reward=-39.50 +/- 47.85\n",
      "Episode length: 192.00 +/- 0.00\n",
      "Eval num_timesteps=7104400, episode_reward=-17.60 +/- 10.97\n",
      "Episode length: 192.00 +/- 0.00\n",
      "Eval num_timesteps=7114400, episode_reward=-17.36 +/- 18.84\n",
      "Episode length: 192.00 +/- 0.00\n",
      "Eval num_timesteps=7124400, episode_reward=-16.94 +/- 27.21\n",
      "Episode length: 192.00 +/- 0.00\n",
      "Eval num_timesteps=7134400, episode_reward=-72.35 +/- 47.67\n",
      "Episode length: 192.00 +/- 0.00\n",
      "Eval num_timesteps=7144400, episode_reward=-45.33 +/- 34.44\n",
      "Episode length: 192.00 +/- 0.00\n",
      "Eval num_timesteps=7154400, episode_reward=-89.00 +/- 69.09\n",
      "Episode length: 192.00 +/- 0.00\n",
      "Eval num_timesteps=7164400, episode_reward=-43.05 +/- 39.64\n",
      "Episode length: 192.00 +/- 0.00\n",
      "Eval num_timesteps=7174400, episode_reward=-33.39 +/- 43.96\n",
      "Episode length: 192.00 +/- 0.00\n",
      "Eval num_timesteps=7184400, episode_reward=-30.93 +/- 36.15\n",
      "Episode length: 192.00 +/- 0.00\n",
      "Eval num_timesteps=7194400, episode_reward=-31.00 +/- 14.96\n",
      "Episode length: 192.00 +/- 0.00\n",
      "Eval num_timesteps=7204400, episode_reward=-26.42 +/- 48.09\n",
      "Episode length: 192.00 +/- 0.00\n",
      "Eval num_timesteps=7214400, episode_reward=-36.01 +/- 22.59\n",
      "Episode length: 192.00 +/- 0.00\n",
      "Eval num_timesteps=7224400, episode_reward=-15.49 +/- 28.09\n",
      "Episode length: 192.00 +/- 0.00\n",
      "Eval num_timesteps=7234400, episode_reward=-39.22 +/- 38.45\n",
      "Episode length: 192.00 +/- 0.00\n",
      "Eval num_timesteps=7244400, episode_reward=-55.25 +/- 7.92\n",
      "Episode length: 192.00 +/- 0.00\n",
      "Eval num_timesteps=7254400, episode_reward=-64.41 +/- 31.61\n",
      "Episode length: 192.00 +/- 0.00\n",
      "Eval num_timesteps=7264400, episode_reward=-43.40 +/- 41.34\n",
      "Episode length: 192.00 +/- 0.00\n",
      "Eval num_timesteps=7274400, episode_reward=-61.67 +/- 47.70\n",
      "Episode length: 192.00 +/- 0.00\n",
      "Eval num_timesteps=7284400, episode_reward=-39.70 +/- 38.64\n",
      "Episode length: 192.00 +/- 0.00\n",
      "Eval num_timesteps=7294400, episode_reward=-53.86 +/- 50.92\n",
      "Episode length: 192.00 +/- 0.00\n",
      "Eval num_timesteps=7304400, episode_reward=-28.17 +/- 33.72\n",
      "Episode length: 192.00 +/- 0.00\n",
      "Eval num_timesteps=7314400, episode_reward=-48.24 +/- 41.17\n",
      "Episode length: 192.00 +/- 0.00\n",
      "Eval num_timesteps=7324400, episode_reward=-38.16 +/- 46.30\n",
      "Episode length: 192.00 +/- 0.00\n",
      "Eval num_timesteps=7334400, episode_reward=-23.87 +/- 45.25\n",
      "Episode length: 192.00 +/- 0.00\n",
      "Eval num_timesteps=7344400, episode_reward=-20.18 +/- 31.45\n",
      "Episode length: 192.00 +/- 0.00\n",
      "Eval num_timesteps=7354400, episode_reward=-8.44 +/- 37.68\n",
      "Episode length: 192.00 +/- 0.00\n",
      "Eval num_timesteps=7364400, episode_reward=-29.84 +/- 20.72\n",
      "Episode length: 192.00 +/- 0.00\n",
      "Eval num_timesteps=7374400, episode_reward=-36.88 +/- 21.38\n",
      "Episode length: 192.00 +/- 0.00\n",
      "Eval num_timesteps=7384400, episode_reward=-94.59 +/- 33.60\n",
      "Episode length: 192.00 +/- 0.00\n"
     ]
    }
   ],
   "source": [
    "saving_interval = 50000\n",
    "for i in range(0, 80):\n",
    "    model.learn(total_timesteps=saving_interval, \n",
    "                reset_num_timesteps=False, \n",
    "                tb_log_name=f\"PPO_{time_now}_{comment}\",\n",
    "                callback=[eval_callback])\n",
    "    \n",
    "    model.save(f\"{trained_agents_dir}/{saving_interval * i}\")\n",
    "\n",
    "    # Don't forget to save the VecNormalize statistics when saving the agent\n",
    "    log_dir = \"./tmp/vec_PPO/\"\n",
    "    model.save(log_dir + f\"PPO-fleet_{comment}\")\n",
    "    stats_path = os.path.join(log_dir, f\"vec_normalize-{comment}.pkl\")\n",
    "    train_norm_vec_env.save(stats_path)"
   ]
  },
  {
   "cell_type": "code",
   "execution_count": null,
   "metadata": {},
   "outputs": [],
   "source": [
    "!python --version"
   ]
  }
 ],
 "metadata": {
  "environment": {
   "kernel": "python3",
   "name": "pytorch-gpu.1-13.m108",
   "type": "gcloud",
   "uri": "gcr.io/deeplearning-platform-release/pytorch-gpu.1-13:m108"
  },
  "kernelspec": {
   "display_name": "Python 3 (ipykernel)",
   "language": "python",
   "name": "python3"
  },
  "language_info": {
   "codemirror_mode": {
    "name": "ipython",
    "version": 3
   },
   "file_extension": ".py",
   "mimetype": "text/x-python",
   "name": "python",
   "nbconvert_exporter": "python",
   "pygments_lexer": "ipython3",
   "version": "3.10.11"
  }
 },
 "nbformat": 4,
 "nbformat_minor": 4
}
