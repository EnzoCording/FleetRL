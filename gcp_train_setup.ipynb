{
 "cells": [
  {
   "cell_type": "code",
   "execution_count": null,
   "id": "dd5704e7-ef84-4ded-9074-ea6da39041a9",
   "metadata": {},
   "outputs": [],
   "source": [
    "%pip install --upgrade pip setuptools wheel"
   ]
  },
  {
   "cell_type": "code",
   "execution_count": null,
   "id": "e41d1516-a82c-400e-b2b4-c926db4e62bb",
   "metadata": {},
   "outputs": [],
   "source": [
    "!unzip FleetRL-master\\(7\\).zip"
   ]
  },
  {
   "cell_type": "code",
   "execution_count": null,
   "id": "84eab50b-8e06-421d-90fa-943d72566a23",
   "metadata": {},
   "outputs": [],
   "source": [
    "%pip install stable-baselines3[extra]==2.0.0a13 --no-deps"
   ]
  },
  {
   "cell_type": "code",
   "execution_count": null,
   "id": "e242a467-605c-437a-b745-04b373f4717b",
   "metadata": {},
   "outputs": [],
   "source": [
    "%pip install torch pandas==2.0.1 gymnasium==0.28.1 rainflow tensorboard"
   ]
  },
  {
   "cell_type": "code",
   "execution_count": null,
   "id": "df244744-ee53-49da-8b6f-ba86a9e88bd2",
   "metadata": {},
   "outputs": [],
   "source": [
    "%cd FleetRL/\n",
    "%pip install -e ."
   ]
  }
 ],
 "metadata": {
  "environment": {
   "kernel": "python3",
   "name": "common-cpu.m108",
   "type": "gcloud",
   "uri": "gcr.io/deeplearning-platform-release/base-cpu:m108"
  },
  "kernelspec": {
   "display_name": "Python 3",
   "language": "python",
   "name": "python3"
  },
  "language_info": {
   "codemirror_mode": {
    "name": "ipython",
    "version": 3
   },
   "file_extension": ".py",
   "mimetype": "text/x-python",
   "name": "python",
   "nbconvert_exporter": "python",
   "pygments_lexer": "ipython3",
   "version": "3.10.10"
  }
 },
 "nbformat": 4,
 "nbformat_minor": 5
}
