{
 "cells": [
  {
   "cell_type": "markdown",
   "source": [
    "Unzip"
   ],
   "metadata": {
    "collapsed": false
   }
  },
  {
   "cell_type": "code",
   "execution_count": 1,
   "outputs": [
    {
     "name": "stdout",
     "output_type": "stream",
     "text": [
      "Python 3.10.6\r\n"
     ]
    }
   ],
   "source": [
    "!unzip FleetRL-master.zip"
   ],
   "metadata": {
    "collapsed": false,
    "ExecuteTime": {
     "start_time": "2023-06-15T00:08:37.255866Z",
     "end_time": "2023-06-15T00:08:37.349442Z"
    }
   }
  },
  {
   "cell_type": "code",
   "execution_count": null,
   "outputs": [],
   "source": [
    "%cd FleetRL\n",
    "%pip install --upgrade pip setuptools wheel"
   ],
   "metadata": {
    "collapsed": false
   }
  },
  {
   "cell_type": "code",
   "execution_count": null,
   "outputs": [],
   "source": [
    "%pip install -r requirements.txt"
   ],
   "metadata": {
    "collapsed": false
   }
  },
  {
   "cell_type": "code",
   "execution_count": 2,
   "outputs": [],
   "source": [
    "from FleetRL.fleet_env.fleet_environment import FleetEnv\n",
    "import time\n"
   ],
   "metadata": {
    "collapsed": false,
    "ExecuteTime": {
     "start_time": "2023-06-15T00:10:22.338270Z",
     "end_time": "2023-06-15T00:10:23.183254Z"
    }
   }
  },
  {
   "cell_type": "code",
   "execution_count": null,
   "outputs": [],
   "source": [],
   "metadata": {
    "collapsed": false
   }
  },
  {
   "cell_type": "code",
   "execution_count": 2,
   "outputs": [],
   "source": [
    "import os\n",
    "import time\n",
    "import gymnasium as gym\n",
    "import numpy as np\n",
    "from stable_baselines3 import TD3\n",
    "from stable_baselines3.common.env_checker import check_env\n",
    "from stable_baselines3.common.evaluation import evaluate_policy\n",
    "from stable_baselines3.common.noise import OrnsteinUhlenbeckActionNoise\n",
    "import FleetRL"
   ],
   "metadata": {
    "collapsed": false,
    "ExecuteTime": {
     "start_time": "2023-06-15T13:35:17.887021Z",
     "end_time": "2023-06-15T13:35:17.937098Z"
    }
   }
  },
  {
   "cell_type": "code",
   "execution_count": 5,
   "outputs": [],
   "source": [
    "time_now = int(time.time())\n",
    "comment = \"step1\"\n",
    "trained_agents_lmd = f\"./trained/last_mile_delivery/TD3-{time_now}-{comment}\"\n",
    "logs_lmd = f\"./logs/last_mile_delivery/TD3-{time_now}-{comment}\"\n",
    "\n",
    "if not os.path.exists(trained_agents_lmd):\n",
    "    os.makedirs(trained_agents_lmd)\n",
    "\n",
    "if not os.path.exists(logs_lmd):\n",
    "    os.makedirs(logs_lmd)"
   ],
   "metadata": {
    "collapsed": false,
    "ExecuteTime": {
     "start_time": "2023-06-15T13:37:16.447840Z",
     "end_time": "2023-06-15T13:37:16.490614Z"
    }
   }
  },
  {
   "cell_type": "markdown",
   "source": [
    "No price, static, 36 hours, only soc leave penalty. Best reward possible: 0"
   ],
   "metadata": {
    "collapsed": false
   }
  },
  {
   "cell_type": "code",
   "execution_count": 8,
   "outputs": [],
   "source": [
    "env = gym.make('FleetEnv-v0', schedule_name=\"lmd_sched_single.csv\", building_name=\"load_lmd.csv\", include_building=False, include_pv=False, static_time_picker=True, deg_emp=False, include_price=False, ignore_price_reward=True, ignore_invalid_penalty=True, ignore_overcharging_penalty=True, ignore_overloading_penalty=True, episode_length=36)"
   ],
   "metadata": {
    "collapsed": false,
    "ExecuteTime": {
     "start_time": "2023-06-15T13:39:05.770943Z",
     "end_time": "2023-06-15T13:39:06.891103Z"
    }
   }
  },
  {
   "cell_type": "code",
   "execution_count": 9,
   "outputs": [
    {
     "name": "stdout",
     "output_type": "stream",
     "text": [
      "Initial SoC changed from 0 to default value: 0.5\n",
      "Invalid action, penalty given.\n",
      "Timestep: 2020-01-02 10:00:00\n",
      "SOC: [0.5], Time left: [0.] hours\n",
      "Action taken: [-0.81903356]\n",
      "Actual charging energy: 0 kWh\n",
      "Charging cost/revenue: 0.0 €\n",
      "SoH: [1.]\n",
      "--------------------------\n",
      "Reward signal: 0.0\n",
      "---------\n",
      "\n",
      "\n",
      "Invalid action, penalty given.\n",
      "Timestep: 2020-01-02 10:15:00\n",
      "SOC: [0.5], Time left: [0.] hours\n",
      "Action taken: [-0.44374073]\n",
      "Actual charging energy: 0 kWh\n",
      "Charging cost/revenue: 0.0 €\n",
      "SoH: [1.]\n",
      "--------------------------\n",
      "Reward signal: 0.0\n",
      "---------\n",
      "\n",
      "\n",
      "Invalid action, penalty given.\n",
      "Timestep: 2020-01-02 10:30:00\n",
      "SOC: [0.5], Time left: [0.] hours\n",
      "Action taken: [0.528285]\n",
      "Actual charging energy: 0 kWh\n",
      "Charging cost/revenue: 0.0 €\n",
      "SoH: [1.]\n",
      "--------------------------\n",
      "Reward signal: 0.0\n",
      "---------\n",
      "\n",
      "\n",
      "Invalid action, penalty given.\n",
      "Timestep: 2020-01-02 10:45:00\n",
      "SOC: [0.5], Time left: [0.] hours\n",
      "Action taken: [-0.19870594]\n",
      "Actual charging energy: 0 kWh\n",
      "Charging cost/revenue: 0.0 €\n",
      "SoH: [1.]\n",
      "--------------------------\n",
      "Reward signal: 0.0\n",
      "---------\n",
      "\n",
      "\n",
      "Invalid action, penalty given.\n",
      "Timestep: 2020-01-02 11:00:00\n",
      "SOC: [0.5], Time left: [0.] hours\n",
      "Action taken: [-0.8829819]\n",
      "Actual charging energy: 0 kWh\n",
      "Charging cost/revenue: 0.0 €\n",
      "SoH: [1.]\n",
      "--------------------------\n",
      "Reward signal: 0.0\n",
      "---------\n",
      "\n",
      "\n",
      "Invalid action, penalty given.\n",
      "Timestep: 2020-01-02 11:15:00\n",
      "SOC: [0.5], Time left: [0.] hours\n",
      "Action taken: [-0.6280857]\n",
      "Actual charging energy: 0 kWh\n",
      "Charging cost/revenue: 0.0 €\n",
      "SoH: [1.]\n",
      "--------------------------\n",
      "Reward signal: 0.0\n",
      "---------\n",
      "\n",
      "\n",
      "Invalid action, penalty given.\n",
      "Timestep: 2020-01-02 11:30:00\n",
      "SOC: [0.5], Time left: [0.] hours\n",
      "Action taken: [-0.62857956]\n",
      "Actual charging energy: 0 kWh\n",
      "Charging cost/revenue: 0.0 €\n",
      "SoH: [1.]\n",
      "--------------------------\n",
      "Reward signal: 0.0\n",
      "---------\n",
      "\n",
      "\n",
      "Invalid action, penalty given.\n",
      "Timestep: 2020-01-02 11:45:00\n",
      "SOC: [0.5], Time left: [0.] hours\n",
      "Action taken: [0.8571912]\n",
      "Actual charging energy: 0 kWh\n",
      "Charging cost/revenue: 0.0 €\n",
      "SoH: [1.]\n",
      "--------------------------\n",
      "Reward signal: 0.0\n",
      "---------\n",
      "\n",
      "\n",
      "Invalid action, penalty given.\n",
      "Timestep: 2020-01-02 12:00:00\n",
      "SOC: [0.5], Time left: [0.] hours\n",
      "Action taken: [-0.34228808]\n",
      "Actual charging energy: 0 kWh\n",
      "Charging cost/revenue: 0.0 €\n",
      "SoH: [1.]\n",
      "--------------------------\n",
      "Reward signal: 0.0\n",
      "---------\n",
      "\n",
      "\n",
      "Invalid action, penalty given.\n",
      "Timestep: 2020-01-02 12:15:00\n",
      "SOC: [0.5], Time left: [0.] hours\n",
      "Action taken: [0.6936089]\n",
      "Actual charging energy: 0 kWh\n",
      "Charging cost/revenue: 0.0 €\n",
      "SoH: [1.]\n",
      "--------------------------\n",
      "Reward signal: 0.0\n",
      "---------\n",
      "\n",
      "\n",
      "Invalid action, penalty given.\n",
      "Timestep: 2020-01-02 12:30:00\n",
      "SOC: [0.5], Time left: [0.] hours\n",
      "Action taken: [-0.40957943]\n",
      "Actual charging energy: 0 kWh\n",
      "Charging cost/revenue: 0.0 €\n",
      "SoH: [1.]\n",
      "--------------------------\n",
      "Reward signal: 0.0\n",
      "---------\n",
      "\n",
      "\n"
     ]
    }
   ],
   "source": [
    "check_env(env)"
   ],
   "metadata": {
    "collapsed": false,
    "ExecuteTime": {
     "start_time": "2023-06-15T13:39:08.407820Z",
     "end_time": "2023-06-15T13:39:08.459429Z"
    }
   }
  },
  {
   "cell_type": "code",
   "execution_count": 10,
   "outputs": [],
   "source": [
    "n_actions = env.action_space.shape[-1]\n",
    "param_noise = None\n",
    "action_noise = OrnsteinUhlenbeckActionNoise(mean=np.zeros(n_actions), sigma=float(0.5)*np.ones(n_actions))"
   ],
   "metadata": {
    "collapsed": false,
    "ExecuteTime": {
     "start_time": "2023-06-15T13:40:46.794935Z",
     "end_time": "2023-06-15T13:40:46.800968Z"
    }
   }
  },
  {
   "cell_type": "code",
   "execution_count": 11,
   "outputs": [
    {
     "name": "stdout",
     "output_type": "stream",
     "text": [
      "Using cpu device\n",
      "Wrapping the env with a `Monitor` wrapper\n",
      "Wrapping the env in a DummyVecEnv.\n"
     ]
    }
   ],
   "source": [
    "model = TD3('MlpPolicy', env, verbose=1, tensorboard_log=\"./FleetRl_tensorboard_single/\", learning_rate=0.001, learning_starts=10000, buffer_size=50000, batch_size=128)"
   ],
   "metadata": {
    "collapsed": false,
    "ExecuteTime": {
     "start_time": "2023-06-15T13:40:47.611528Z",
     "end_time": "2023-06-15T13:40:47.665884Z"
    }
   }
  },
  {
   "cell_type": "code",
   "execution_count": null,
   "outputs": [],
   "source": [
    "saving_interval = 20000\n",
    "for i in range(1, 5):\n",
    "    model.learn(total_timesteps=saving_interval, reset_num_timesteps=False, tb_log_name=f\"TD3_{time_now}\")\n",
    "    model.save(f\"{trained_agents_lmd}/{saving_interval * i}\")"
   ],
   "metadata": {
    "collapsed": false
   }
  },
  {
   "cell_type": "code",
   "execution_count": null,
   "outputs": [],
   "source": [
    "del model\n",
    "model = TD3.load(f\"{trained_agents_lmd}/{saving_interval * 4}\", env=env)\n",
    "mean_reward, std_reward = evaluate_policy(model, model.get_env(), n_eval_episodes=10)"
   ],
   "metadata": {
    "collapsed": false
   }
  },
  {
   "cell_type": "code",
   "execution_count": null,
   "outputs": [],
   "source": [
    "vec_env = model.get_env()\n",
    "obs = vec_env.reset()\n",
    "for i in range(24):\n",
    "    action, _states = model.predict(obs, deterministic=True)\n",
    "    obs, rewards, dones, info = vec_env.step(action)\n",
    "    vec_env.render()"
   ],
   "metadata": {
    "collapsed": false
   }
  },
  {
   "cell_type": "markdown",
   "source": [
    "Change: random time instead of always the same"
   ],
   "metadata": {
    "collapsed": false
   }
  },
  {
   "cell_type": "code",
   "execution_count": null,
   "outputs": [],
   "source": [
    "env = gym.make('FleetEnv-v0', schedule_name=\"lmd_sched_single.csv\", building_name=\"load_lmd.csv\", include_building=False, include_pv=False, static_time_picker=False, deg_emp=False, include_price=False, ignore_price_reward=True, ignore_invalid_penalty=True, ignore_overcharging_penalty=True, ignore_overloading_penalty=True, episode_length=36)"
   ],
   "metadata": {
    "collapsed": false
   }
  },
  {
   "cell_type": "code",
   "execution_count": 1,
   "outputs": [],
   "source": [
    "model = TD3.load(f\"{trained_agents_lmd}/{saving_interval*4}\", env=env)"
   ],
   "metadata": {
    "collapsed": false
   }
  },
  {
   "cell_type": "code",
   "execution_count": null,
   "outputs": [],
   "source": [
    "time_now = int(time.time())\n",
    "comment = \"step2\"\n",
    "trained_agents_lmd = f\"./trained/last_mile_delivery/TD3-{time_now}-{comment}\"\n",
    "logs_lmd = f\"./logs/last_mile_delivery/TD3-{time_now}-{comment}\""
   ],
   "metadata": {
    "collapsed": false
   }
  },
  {
   "cell_type": "code",
   "execution_count": null,
   "outputs": [],
   "source": [
    "saving_interval = 20000\n",
    "for i in range(1, 5):\n",
    "    model.learn(total_timesteps=saving_interval, reset_num_timesteps=False, tb_log_name=f\"TD3_{time_now}\")\n",
    "    model.save(f\"{trained_agents_lmd}/{saving_interval * i}\")"
   ],
   "metadata": {
    "collapsed": false
   }
  }
 ],
 "metadata": {
  "kernelspec": {
   "display_name": "Python 3",
   "language": "python",
   "name": "python3"
  },
  "language_info": {
   "codemirror_mode": {
    "name": "ipython",
    "version": 2
   },
   "file_extension": ".py",
   "mimetype": "text/x-python",
   "name": "python",
   "nbconvert_exporter": "python",
   "pygments_lexer": "ipython2",
   "version": "2.7.6"
  }
 },
 "nbformat": 4,
 "nbformat_minor": 0
}
